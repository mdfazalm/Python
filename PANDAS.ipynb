{
  "cells": [
    {
      "cell_type": "markdown",
      "metadata": {
        "id": "view-in-github",
        "colab_type": "text"
      },
      "source": [
        "<a href=\"https://colab.research.google.com/github/mdfazalm/Python/blob/main/PANDAS.ipynb\" target=\"_parent\"><img src=\"https://colab.research.google.com/assets/colab-badge.svg\" alt=\"Open In Colab\"/></a>"
      ]
    },
    {
      "cell_type": "markdown",
      "metadata": {
        "id": "XiknLifegBs_"
      },
      "source": [
        "# Introduction to Pandas"
      ],
      "id": "XiknLifegBs_"
    },
    {
      "cell_type": "raw",
      "metadata": {
        "id": "FcU2pVPTgBtC"
      },
      "source": [
        "- Pandas is an open source Python Library / Module providing\n",
        "high performance and data manipulation and Analysis Tool.\n",
        "- The Traditional Python Programming does not contain any Module\n",
        "for Data Analysis and Now Python Programming uses Pandas as an anaysis tool."
      ],
      "id": "FcU2pVPTgBtC"
    },
    {
      "cell_type": "markdown",
      "metadata": {
        "id": "POHwTspVgBtD"
      },
      "source": [
        "# Installation of Pandas"
      ],
      "id": "POHwTspVgBtD"
    },
    {
      "cell_type": "code",
      "execution_count": null,
      "metadata": {
        "id": "mRjkV7PugBtE"
      },
      "outputs": [],
      "source": [
        "pip install pandas"
      ],
      "id": "mRjkV7PugBtE"
    },
    {
      "cell_type": "code",
      "execution_count": null,
      "metadata": {
        "id": "G5PJVbtzgBtG"
      },
      "outputs": [],
      "source": [
        "import pandas as pd"
      ],
      "id": "G5PJVbtzgBtG"
    },
    {
      "cell_type": "code",
      "execution_count": null,
      "metadata": {
        "id": "jVh6WyltgBtG"
      },
      "outputs": [],
      "source": [
        "print(pd.__version__)"
      ],
      "id": "jVh6WyltgBtG"
    },
    {
      "cell_type": "code",
      "execution_count": null,
      "metadata": {
        "id": "kzorweC3gBtH"
      },
      "outputs": [],
      "source": [],
      "id": "kzorweC3gBtH"
    },
    {
      "cell_type": "markdown",
      "metadata": {
        "id": "ev2ux6jggBtI"
      },
      "source": [
        "# Data Structures used in Pandas"
      ],
      "id": "ev2ux6jggBtI"
    },
    {
      "cell_type": "raw",
      "metadata": {
        "id": "LRbOYmPkgBtI"
      },
      "source": [
        "=>In Pandas programming, we can store the data in 2 types of Data structures. They are.\n",
        "\n",
        "\t\ta) Series\n",
        "\t\tb) DataFrame"
      ],
      "id": "LRbOYmPkgBtI"
    },
    {
      "cell_type": "markdown",
      "metadata": {
        "id": "0wmVTNfUgBtJ"
      },
      "source": [
        "# Series"
      ],
      "id": "0wmVTNfUgBtJ"
    },
    {
      "cell_type": "code",
      "execution_count": null,
      "metadata": {
        "scrolled": true,
        "id": "wVzFBJq-gBtJ"
      },
      "outputs": [],
      "source": [
        "lst = [10,20,30,40,50,60]\n",
        "\n",
        "s = pd.Series(lst)\n",
        "\n",
        "print(s,type(s))"
      ],
      "id": "wVzFBJq-gBtJ"
    },
    {
      "cell_type": "code",
      "execution_count": null,
      "metadata": {
        "id": "NZWnLyM_gBtK"
      },
      "outputs": [],
      "source": [
        "s[0]"
      ],
      "id": "NZWnLyM_gBtK"
    },
    {
      "cell_type": "code",
      "execution_count": null,
      "metadata": {
        "id": "1uiRCR0ZgBtL"
      },
      "outputs": [],
      "source": [
        "s.shape"
      ],
      "id": "1uiRCR0ZgBtL"
    },
    {
      "cell_type": "code",
      "execution_count": null,
      "metadata": {
        "scrolled": true,
        "id": "9_NtfRDWgBtM"
      },
      "outputs": [],
      "source": [
        "lst = [10,\"Rossum\",34.56,\"Author\"]\n",
        "\n",
        "s = pd.Series(lst,index=[\"Stno\",\"Name\",\"Marks\",\"Desgination\"])\n",
        "\n",
        "print(s,type(s))"
      ],
      "id": "9_NtfRDWgBtM"
    },
    {
      "cell_type": "code",
      "execution_count": null,
      "metadata": {
        "scrolled": true,
        "id": "yGrca7ulgBtN"
      },
      "outputs": [],
      "source": [
        "d1 = {\"sub1\":\"Python\",\"sub2\":\"Java\",\"sub3\":\"Data Science\",\"sub4\":\"ML\"}\n",
        "\n",
        "#print(d1)\n",
        "s = pd.Series(d1)\n",
        "\n",
        "print(s)"
      ],
      "id": "yGrca7ulgBtN"
    },
    {
      "cell_type": "code",
      "execution_count": null,
      "metadata": {
        "id": "E4I7P_r4gBtO"
      },
      "outputs": [],
      "source": [
        "s['sub2']"
      ],
      "id": "E4I7P_r4gBtO"
    },
    {
      "cell_type": "markdown",
      "metadata": {
        "id": "EJrGkWxZgBtO"
      },
      "source": [
        "# DataFrame"
      ],
      "id": "EJrGkWxZgBtO"
    },
    {
      "cell_type": "raw",
      "metadata": {
        "id": "w59s0lChgBtP"
      },
      "source": [
        "=>A DataFrame is 2-Dimensional Data Structure to organize the data .\n",
        "=>In Otherwords a DataFrame Organizes the data in the Tabular Format,\n",
        "which is nothing but Collection of Rows and Columns."
      ],
      "id": "w59s0lChgBtP"
    },
    {
      "cell_type": "markdown",
      "metadata": {
        "id": "UsvC59zzgBtP"
      },
      "source": [
        "# Creating an object DataFrame by Using list / tuple"
      ],
      "id": "UsvC59zzgBtP"
    },
    {
      "cell_type": "code",
      "execution_count": null,
      "metadata": {
        "id": "jDCoaM9lgBtP"
      },
      "outputs": [],
      "source": [
        "lst = [[10,20,30,40],[10,20,30,45],[10,20,30,40]]\n",
        "\n",
        "df = pd.DataFrame(lst)\n",
        "\n",
        "#df.shape\n",
        "\n",
        "print(df)"
      ],
      "id": "jDCoaM9lgBtP"
    },
    {
      "cell_type": "code",
      "execution_count": null,
      "metadata": {
        "scrolled": true,
        "id": "RL-ivL7pgBtQ"
      },
      "outputs": [],
      "source": [
        "lst = [[10,'RS'],[20,'JG'],[30,'MCK'],[40,'TRA']]\n",
        "\n",
        "df = pd.DataFrame(lst)\n",
        "\n",
        "print(df)"
      ],
      "id": "RL-ivL7pgBtQ"
    },
    {
      "cell_type": "code",
      "execution_count": null,
      "metadata": {
        "id": "DuCXd69zgBtQ"
      },
      "outputs": [],
      "source": [
        "lst = [[10,'RS'],[20,'JG'],[30,'MCK'],[40,'TRA']]\n",
        "\n",
        "df = pd.DataFrame(lst,columns=('Rno','Name'),index=[1,2,3,4])\n",
        "\n",
        "print(df)"
      ],
      "id": "DuCXd69zgBtQ"
    },
    {
      "cell_type": "code",
      "execution_count": null,
      "metadata": {
        "id": "V-kFn8NggBtR"
      },
      "outputs": [],
      "source": [
        "tpl = ( (\"Rossum\",75), (\"Gosling\",85), (\"Travis\",65), (\"Ritche\",95),(\"MCKinney\",60) )\n",
        "\n",
        "df = pd.DataFrame(tpl, index=[1,2,3,4,5],columns=['Name','Age'])\n",
        "\n",
        "print(df)"
      ],
      "id": "V-kFn8NggBtR"
    },
    {
      "cell_type": "markdown",
      "metadata": {
        "id": "iyuM69NEgBtR"
      },
      "source": [
        "# Creating an object DataFrame by Using dict object"
      ],
      "id": "iyuM69NEgBtR"
    },
    {
      "cell_type": "code",
      "execution_count": null,
      "metadata": {
        "id": "EjD1N6vngBtR"
      },
      "outputs": [],
      "source": [
        "dictdata = {\"Names\":[\"Rossum\",\"Gosling\",\"Ritche\",\"McKinney\"],\n",
        "            \"Subjects\":[\"Python\",\"Java\",\"C\",\"Pandas\"],\"Age\":[65,80,85,55]  }\n",
        "\n",
        "print(dictdata)"
      ],
      "id": "EjD1N6vngBtR"
    },
    {
      "cell_type": "code",
      "execution_count": null,
      "metadata": {
        "id": "4tK_JlTvgBtS"
      },
      "outputs": [],
      "source": [
        "df = pd.DataFrame(dictdata)\n",
        "\n",
        "print(df)"
      ],
      "id": "4tK_JlTvgBtS"
    },
    {
      "cell_type": "code",
      "execution_count": null,
      "metadata": {
        "scrolled": true,
        "id": "1o9HdolcgBtS"
      },
      "outputs": [],
      "source": [
        "df=pd.DataFrame(dictdata,index=[1,2,3,4])\n",
        "\n",
        "print(df)"
      ],
      "id": "1o9HdolcgBtS"
    },
    {
      "cell_type": "code",
      "execution_count": null,
      "metadata": {
        "id": "KGo2DHdHgBtT"
      },
      "outputs": [],
      "source": [],
      "id": "KGo2DHdHgBtT"
    },
    {
      "cell_type": "markdown",
      "metadata": {
        "id": "hS11t8kGgBtT"
      },
      "source": [
        "# LOC()\n",
        "\n",
        "# Locate Row"
      ],
      "id": "hS11t8kGgBtT"
    },
    {
      "cell_type": "raw",
      "metadata": {
        "id": "08ogA3L7gBtU"
      },
      "source": [
        "Pandas use the loc attribute to return one or more specified row(s)"
      ],
      "id": "08ogA3L7gBtU"
    },
    {
      "cell_type": "code",
      "execution_count": null,
      "metadata": {
        "id": "RsMMD0B8gBtU"
      },
      "outputs": [],
      "source": [
        "df"
      ],
      "id": "RsMMD0B8gBtU"
    },
    {
      "cell_type": "code",
      "execution_count": null,
      "metadata": {
        "id": "5gbOxsrHgBtU"
      },
      "outputs": [],
      "source": [
        "print(df.loc[1])"
      ],
      "id": "5gbOxsrHgBtU"
    },
    {
      "cell_type": "code",
      "execution_count": null,
      "metadata": {
        "id": "dsnbErs_gBtV"
      },
      "outputs": [],
      "source": [
        "print(df.loc[[1, 3,4]])"
      ],
      "id": "dsnbErs_gBtV"
    },
    {
      "cell_type": "markdown",
      "metadata": {
        "id": "_xNb_4cigBtV"
      },
      "source": [
        "# Locate the Rows in a Range"
      ],
      "id": "_xNb_4cigBtV"
    },
    {
      "cell_type": "code",
      "execution_count": null,
      "metadata": {
        "id": "noILM9-PgBtW"
      },
      "outputs": [],
      "source": [
        "result = df.loc[1:3]\n",
        "\n",
        "result"
      ],
      "id": "noILM9-PgBtW"
    },
    {
      "cell_type": "markdown",
      "metadata": {
        "id": "af1KvWW1gBtW"
      },
      "source": [
        "# Locate Named Indexes"
      ],
      "id": "af1KvWW1gBtW"
    },
    {
      "cell_type": "code",
      "execution_count": null,
      "metadata": {
        "id": "P-gzNI1EgBtX"
      },
      "outputs": [],
      "source": [
        "dictdata = {\"Names\":[\"Rossum\",\"Gosling\",\"Ritche\",\"McKinney\"],\n",
        "            \"Subjects\":[\"Python\",\"Java\",\"C\",\"Pandas\"],\"Age\":[65,80,85,55]  }\n",
        "#dictdata.values()\n",
        "\n",
        "print(dictdata)"
      ],
      "id": "P-gzNI1EgBtX"
    },
    {
      "cell_type": "code",
      "execution_count": null,
      "metadata": {
        "id": "pPFUa5EPgBtX"
      },
      "outputs": [],
      "source": [
        "df = pd.DataFrame(dictdata)\n",
        "\n",
        "print(df)"
      ],
      "id": "pPFUa5EPgBtX"
    },
    {
      "cell_type": "code",
      "execution_count": null,
      "metadata": {
        "id": "60y8Fw1tgBtY"
      },
      "outputs": [],
      "source": [
        "df=pd.DataFrame(dictdata,index=[\"day1\", \"day2\", \"day3\",\"day4\"])\n",
        "\n",
        "print(df)"
      ],
      "id": "60y8Fw1tgBtY"
    },
    {
      "cell_type": "code",
      "execution_count": null,
      "metadata": {
        "id": "iHIrl6nPgBtZ"
      },
      "outputs": [],
      "source": [
        "print(df.loc[\"day2\"])"
      ],
      "id": "iHIrl6nPgBtZ"
    },
    {
      "cell_type": "markdown",
      "metadata": {
        "id": "87tLdenBgBta"
      },
      "source": [
        "# Locate Named Indexes in range"
      ],
      "id": "87tLdenBgBta"
    },
    {
      "cell_type": "code",
      "execution_count": null,
      "metadata": {
        "id": "aPrfmfNMgBtb"
      },
      "outputs": [],
      "source": [
        "print(df.loc[\"day2\":\"day4\"])"
      ],
      "id": "aPrfmfNMgBtb"
    },
    {
      "cell_type": "code",
      "execution_count": null,
      "metadata": {
        "id": "COCZEOCRgBtc"
      },
      "outputs": [],
      "source": [],
      "id": "COCZEOCRgBtc"
    },
    {
      "cell_type": "code",
      "execution_count": null,
      "metadata": {
        "id": "8348SeafgBtc"
      },
      "outputs": [],
      "source": [],
      "id": "8348SeafgBtc"
    },
    {
      "cell_type": "markdown",
      "metadata": {
        "id": "AUWZgXU_gBtd"
      },
      "source": [
        "# Creating an object DataFrame by Using Series object"
      ],
      "id": "AUWZgXU_gBtd"
    },
    {
      "cell_type": "code",
      "execution_count": null,
      "metadata": {
        "id": "F6dpdqHhgBte"
      },
      "outputs": [],
      "source": [
        "l1 = [10,20,30,40]\n",
        "\n",
        "sdata = pd.Series(l1)\n",
        "\n",
        "print(type(sdata))\n",
        "\n",
        "print(sdata)"
      ],
      "id": "F6dpdqHhgBte"
    },
    {
      "cell_type": "code",
      "execution_count": null,
      "metadata": {
        "id": "VIks0S5zgBtf"
      },
      "outputs": [],
      "source": [
        "# converting from series to DataFrame\n",
        "\n",
        "df= pd.DataFrame(sdata, columns=[\"number\"])\n",
        "\n",
        "print(df)"
      ],
      "id": "VIks0S5zgBtf"
    },
    {
      "cell_type": "code",
      "execution_count": null,
      "metadata": {
        "id": "dFjtWeyJgBtf"
      },
      "outputs": [],
      "source": [
        "d1 = {\"totmark\":[100,110,120,130],\"ExtMarks\":[80,75,65,90]}\n",
        "\n",
        "df = pd.DataFrame(d1,index=[1,2,3,4])\n",
        "\n",
        "df"
      ],
      "id": "dFjtWeyJgBtf"
    },
    {
      "cell_type": "code",
      "execution_count": null,
      "metadata": {
        "id": "VxH8d9a5gBtg"
      },
      "outputs": [],
      "source": [
        "df.columns"
      ],
      "id": "VxH8d9a5gBtg"
    },
    {
      "cell_type": "markdown",
      "metadata": {
        "id": "3o0HwGUQgBth"
      },
      "source": [
        "# Adding new Column Name to Data Frame"
      ],
      "id": "3o0HwGUQgBth"
    },
    {
      "cell_type": "code",
      "execution_count": null,
      "metadata": {
        "id": "mnNS5XmagBti"
      },
      "outputs": [],
      "source": [
        "df['totmark']"
      ],
      "id": "mnNS5XmagBti"
    },
    {
      "cell_type": "code",
      "execution_count": null,
      "metadata": {
        "scrolled": true,
        "id": "M6c8vz2MgBti"
      },
      "outputs": [],
      "source": [
        "# Add is a new column name\n",
        "\n",
        "df['Add'] = df['totmark'] + df['ExtMarks']\n",
        "df"
      ],
      "id": "M6c8vz2MgBti"
    },
    {
      "cell_type": "code",
      "execution_count": null,
      "metadata": {
        "id": "2iTkb3W5gBtj"
      },
      "outputs": [],
      "source": [
        "df['sub'] = df['totmark'] - df['ExtMarks']\n",
        "df"
      ],
      "id": "2iTkb3W5gBtj"
    },
    {
      "cell_type": "code",
      "execution_count": null,
      "metadata": {
        "id": "ldxECgI3gBtk"
      },
      "outputs": [],
      "source": [
        "# Roll_No1 is a new column\n",
        "\n",
        "df['Roll_NO1'] = range(1,5)\n",
        "df"
      ],
      "id": "ldxECgI3gBtk"
    },
    {
      "cell_type": "code",
      "execution_count": null,
      "metadata": {
        "scrolled": true,
        "id": "-XEnU5V3gBtl"
      },
      "outputs": [],
      "source": [
        "# changing the column order\n",
        "\n",
        "df = df[['Roll_NO1','totmark','ExtMarks','Add','sub']]\n",
        "df"
      ],
      "id": "-XEnU5V3gBtl"
    },
    {
      "cell_type": "code",
      "execution_count": null,
      "metadata": {
        "id": "W8hwx2OpgBtm"
      },
      "outputs": [],
      "source": [
        "import numpy as np\n",
        "\n",
        "# Adding NULL values to a new column called name\n",
        "\n",
        "df['name'] = np.nan\n",
        "df"
      ],
      "id": "W8hwx2OpgBtm"
    },
    {
      "cell_type": "markdown",
      "metadata": {
        "id": "fmIE-XaygBtn"
      },
      "source": [
        "# Removing Columns & rows from Data Frame"
      ],
      "id": "fmIE-XaygBtn"
    },
    {
      "cell_type": "code",
      "execution_count": null,
      "metadata": {
        "id": "hk8RseaggBtn"
      },
      "outputs": [],
      "source": [
        "# columns\n",
        "\n",
        "df = df.drop(columns='name')  # column name\n",
        "df"
      ],
      "id": "hk8RseaggBtn"
    },
    {
      "cell_type": "code",
      "execution_count": null,
      "metadata": {
        "id": "Wa_-KE7lgBto"
      },
      "outputs": [],
      "source": [
        "# remove a row\n",
        "\n",
        "df = df.drop(3) # index number"
      ],
      "id": "Wa_-KE7lgBto"
    },
    {
      "cell_type": "code",
      "execution_count": null,
      "metadata": {
        "id": "KXhQCAzSgBto"
      },
      "outputs": [],
      "source": [
        "df"
      ],
      "id": "KXhQCAzSgBto"
    },
    {
      "cell_type": "code",
      "execution_count": null,
      "metadata": {
        "id": "BSqsWeTzgBtp"
      },
      "outputs": [],
      "source": [
        "# delete mutiple Columns\n",
        "\n",
        "df = df.drop(columns=['Add','sub','ExtMarks'])\n",
        "df"
      ],
      "id": "BSqsWeTzgBtp"
    },
    {
      "cell_type": "markdown",
      "metadata": {
        "id": "rfW0o6jHgBtq"
      },
      "source": [
        "# sorting the dataframe data"
      ],
      "id": "rfW0o6jHgBtq"
    },
    {
      "cell_type": "code",
      "execution_count": null,
      "metadata": {
        "scrolled": true,
        "id": "ecxNEIF5gBtr"
      },
      "outputs": [],
      "source": [
        "df = df.sort_values([\"totmark\"] )\n",
        "df"
      ],
      "id": "ecxNEIF5gBtr"
    },
    {
      "cell_type": "code",
      "execution_count": null,
      "metadata": {
        "id": "JZuqQyw2gBtr"
      },
      "outputs": [],
      "source": [
        "df = df.sort_values([\"totmark\"] ,ascending=False) # descending order = ascending = False\n",
        "df"
      ],
      "id": "JZuqQyw2gBtr"
    },
    {
      "cell_type": "code",
      "execution_count": null,
      "metadata": {
        "id": "AIswZ-RugBts"
      },
      "outputs": [],
      "source": [
        "df.to_csv('students_mark')"
      ],
      "id": "AIswZ-RugBts"
    },
    {
      "cell_type": "code",
      "execution_count": null,
      "metadata": {
        "id": "C7MJI0YbgBtt"
      },
      "outputs": [],
      "source": [
        "df.to_csv(r'C:\\Users\\Lenovo\\Desktop\\ttt')"
      ],
      "id": "C7MJI0YbgBtt"
    },
    {
      "cell_type": "code",
      "execution_count": null,
      "metadata": {
        "id": "Zny9L_QmgBtt"
      },
      "outputs": [],
      "source": [],
      "id": "Zny9L_QmgBtt"
    },
    {
      "cell_type": "code",
      "execution_count": null,
      "metadata": {
        "id": "T3WMLzF_gBtu"
      },
      "outputs": [],
      "source": [
        "import os\n",
        "\n",
        "\n",
        "os.getcwd()"
      ],
      "id": "T3WMLzF_gBtu"
    },
    {
      "cell_type": "code",
      "execution_count": null,
      "metadata": {
        "id": "gv-QfC6OgBtv"
      },
      "outputs": [],
      "source": [],
      "id": "gv-QfC6OgBtv"
    },
    {
      "cell_type": "code",
      "execution_count": null,
      "metadata": {
        "id": "CWM8EUesgBtv"
      },
      "outputs": [],
      "source": [
        "import pandas as pd"
      ],
      "id": "CWM8EUesgBtv"
    },
    {
      "cell_type": "markdown",
      "metadata": {
        "id": "0yNTqZqkgBtw"
      },
      "source": [
        "# Read CSV"
      ],
      "id": "0yNTqZqkgBtw"
    },
    {
      "cell_type": "code",
      "execution_count": null,
      "metadata": {
        "id": "F5CpRzN8gBtw"
      },
      "outputs": [],
      "source": [
        "df = pd.read_csv(\"C:\\\\Users\\\\Lenovo\\\\Desktop\\\\IPL_Matches.csv\")\n",
        "df"
      ],
      "id": "F5CpRzN8gBtw"
    },
    {
      "cell_type": "code",
      "execution_count": null,
      "metadata": {
        "id": "91zqviqugBtx"
      },
      "outputs": [],
      "source": [
        "df = pd.read_csv(\"C:\\\\Users\\\\Lenovo\\\\Desktop\\\\IPL_Matches.csv\")\n",
        "df"
      ],
      "id": "91zqviqugBtx"
    },
    {
      "cell_type": "code",
      "execution_count": null,
      "metadata": {
        "id": "DZPYKkvLgBty"
      },
      "outputs": [],
      "source": [
        "df['city']"
      ],
      "id": "DZPYKkvLgBty"
    },
    {
      "cell_type": "code",
      "execution_count": null,
      "metadata": {
        "id": "k1SjOeP7gBtz"
      },
      "outputs": [],
      "source": [],
      "id": "k1SjOeP7gBtz"
    },
    {
      "cell_type": "markdown",
      "metadata": {
        "id": "D_1efTRwgBtz"
      },
      "source": [
        "# Read JSON"
      ],
      "id": "D_1efTRwgBtz"
    },
    {
      "cell_type": "raw",
      "metadata": {
        "id": "ZMxSWI1SgBt0"
      },
      "source": [
        "Big data sets are often stored, or extracted as JSON.\n",
        "\n",
        "JSON is plain text, but has the format of an object, and\n",
        "is well known in the world of programming, including Pandas."
      ],
      "id": "ZMxSWI1SgBt0"
    },
    {
      "cell_type": "code",
      "execution_count": null,
      "metadata": {
        "id": "NnLUQRMBgBt1",
        "outputId": "9eecb2f6-6cbc-4332-9897-edcc79853784"
      },
      "outputs": [
        {
          "name": "stderr",
          "output_type": "stream",
          "text": [
            "A:\\Anocoda\\lib\\site-packages\\pandas\\core\\computation\\expressions.py:20: UserWarning: Pandas requires version '2.7.3' or newer of 'numexpr' (version '2.7.1' currently installed).\n",
            "  from pandas.core.computation.check import NUMEXPR_INSTALLED\n"
          ]
        },
        {
          "data": {
            "text/html": [
              "<div>\n",
              "<style scoped>\n",
              "    .dataframe tbody tr th:only-of-type {\n",
              "        vertical-align: middle;\n",
              "    }\n",
              "\n",
              "    .dataframe tbody tr th {\n",
              "        vertical-align: top;\n",
              "    }\n",
              "\n",
              "    .dataframe thead th {\n",
              "        text-align: right;\n",
              "    }\n",
              "</style>\n",
              "<table border=\"1\" class=\"dataframe\">\n",
              "  <thead>\n",
              "    <tr style=\"text-align: right;\">\n",
              "      <th></th>\n",
              "      <th>Duration</th>\n",
              "      <th>Pulse</th>\n",
              "      <th>Maxpulse</th>\n",
              "      <th>Calories</th>\n",
              "    </tr>\n",
              "  </thead>\n",
              "  <tbody>\n",
              "    <tr>\n",
              "      <th>0</th>\n",
              "      <td>60</td>\n",
              "      <td>110</td>\n",
              "      <td>130</td>\n",
              "      <td>409</td>\n",
              "    </tr>\n",
              "    <tr>\n",
              "      <th>1</th>\n",
              "      <td>60</td>\n",
              "      <td>117</td>\n",
              "      <td>145</td>\n",
              "      <td>479</td>\n",
              "    </tr>\n",
              "    <tr>\n",
              "      <th>2</th>\n",
              "      <td>60</td>\n",
              "      <td>103</td>\n",
              "      <td>135</td>\n",
              "      <td>340</td>\n",
              "    </tr>\n",
              "    <tr>\n",
              "      <th>3</th>\n",
              "      <td>45</td>\n",
              "      <td>109</td>\n",
              "      <td>175</td>\n",
              "      <td>282</td>\n",
              "    </tr>\n",
              "    <tr>\n",
              "      <th>4</th>\n",
              "      <td>45</td>\n",
              "      <td>117</td>\n",
              "      <td>148</td>\n",
              "      <td>406</td>\n",
              "    </tr>\n",
              "    <tr>\n",
              "      <th>5</th>\n",
              "      <td>60</td>\n",
              "      <td>102</td>\n",
              "      <td>127</td>\n",
              "      <td>300</td>\n",
              "    </tr>\n",
              "  </tbody>\n",
              "</table>\n",
              "</div>"
            ],
            "text/plain": [
              "   Duration  Pulse  Maxpulse  Calories\n",
              "0        60    110       130       409\n",
              "1        60    117       145       479\n",
              "2        60    103       135       340\n",
              "3        45    109       175       282\n",
              "4        45    117       148       406\n",
              "5        60    102       127       300"
            ]
          },
          "execution_count": 1,
          "metadata": {},
          "output_type": "execute_result"
        }
      ],
      "source": [
        "import pandas as pd\n",
        "\n",
        "df = pd.read_json(\"C:\\\\Users\\\\Lenovo\\\\Desktop\\\\demo.json\")\n",
        "\n",
        "df"
      ],
      "id": "NnLUQRMBgBt1"
    },
    {
      "cell_type": "code",
      "execution_count": null,
      "metadata": {
        "id": "mYRcYmFggBt3"
      },
      "outputs": [],
      "source": [
        "df pd.read_"
      ],
      "id": "mYRcYmFggBt3"
    },
    {
      "cell_type": "code",
      "execution_count": null,
      "metadata": {
        "id": "k5K36L7WgBt4"
      },
      "outputs": [],
      "source": [],
      "id": "k5K36L7WgBt4"
    },
    {
      "cell_type": "code",
      "execution_count": null,
      "metadata": {
        "id": "qCDXgjIEgBt5"
      },
      "outputs": [],
      "source": [],
      "id": "qCDXgjIEgBt5"
    },
    {
      "cell_type": "code",
      "execution_count": null,
      "metadata": {
        "id": "VFAsDX78gBt6"
      },
      "outputs": [],
      "source": [],
      "id": "VFAsDX78gBt6"
    },
    {
      "cell_type": "code",
      "execution_count": null,
      "metadata": {
        "id": "eKm9_AJNgBt6"
      },
      "outputs": [],
      "source": [],
      "id": "eKm9_AJNgBt6"
    },
    {
      "cell_type": "code",
      "execution_count": null,
      "metadata": {
        "id": "R5ShmalYgBt7"
      },
      "outputs": [],
      "source": [],
      "id": "R5ShmalYgBt7"
    },
    {
      "cell_type": "code",
      "execution_count": null,
      "metadata": {
        "id": "gBe3Im3RgBt7"
      },
      "outputs": [],
      "source": [],
      "id": "gBe3Im3RgBt7"
    },
    {
      "cell_type": "code",
      "execution_count": null,
      "metadata": {
        "id": "YZnNlN3EgBt8"
      },
      "outputs": [],
      "source": [],
      "id": "YZnNlN3EgBt8"
    },
    {
      "cell_type": "code",
      "execution_count": null,
      "metadata": {
        "scrolled": true,
        "id": "9jKWyRnKgBt8"
      },
      "outputs": [],
      "source": [],
      "id": "9jKWyRnKgBt8"
    },
    {
      "cell_type": "code",
      "execution_count": null,
      "metadata": {
        "id": "QFpS2es1gBt9"
      },
      "outputs": [],
      "source": [],
      "id": "QFpS2es1gBt9"
    },
    {
      "cell_type": "markdown",
      "metadata": {
        "id": "sCLI8LlugBt-"
      },
      "source": [
        "# Pandas - Analyzing DataFrames\n"
      ],
      "id": "sCLI8LlugBt-"
    },
    {
      "cell_type": "markdown",
      "metadata": {
        "id": "kAIEbhimgBt-"
      },
      "source": [
        "# Viewing the Data\n"
      ],
      "id": "kAIEbhimgBt-"
    },
    {
      "cell_type": "code",
      "execution_count": null,
      "metadata": {
        "scrolled": true,
        "id": "v9fFblfugBt_"
      },
      "outputs": [],
      "source": [
        "df.head()"
      ],
      "id": "v9fFblfugBt_"
    },
    {
      "cell_type": "code",
      "execution_count": null,
      "metadata": {
        "scrolled": true,
        "id": "RtgX4CdFgBuA"
      },
      "outputs": [],
      "source": [
        "df.head(7)"
      ],
      "id": "RtgX4CdFgBuA"
    },
    {
      "cell_type": "code",
      "execution_count": null,
      "metadata": {
        "id": "uR4IQmXmgBuA"
      },
      "outputs": [],
      "source": [
        "df.tail()"
      ],
      "id": "uR4IQmXmgBuA"
    },
    {
      "cell_type": "code",
      "execution_count": null,
      "metadata": {
        "scrolled": true,
        "id": "w4lhavCjgBuB"
      },
      "outputs": [],
      "source": [
        "df.tail(2)"
      ],
      "id": "w4lhavCjgBuB"
    },
    {
      "cell_type": "code",
      "execution_count": null,
      "metadata": {
        "id": "18uAMPhOgBuC"
      },
      "outputs": [],
      "source": [
        "# rows, columns\n",
        "\n",
        "df.shape"
      ],
      "id": "18uAMPhOgBuC"
    },
    {
      "cell_type": "code",
      "execution_count": null,
      "metadata": {
        "id": "e204nXcjgBuD"
      },
      "outputs": [],
      "source": [
        "# all columns names\n",
        "\n",
        "df.columns"
      ],
      "id": "e204nXcjgBuD"
    },
    {
      "cell_type": "code",
      "execution_count": null,
      "metadata": {
        "scrolled": true,
        "id": "Q58pe5XGgBuD"
      },
      "outputs": [],
      "source": [
        "# to check datatype of each column\n",
        "\n",
        "df.dtypes"
      ],
      "id": "Q58pe5XGgBuD"
    },
    {
      "cell_type": "code",
      "execution_count": null,
      "metadata": {
        "id": "d6HDxf6QgBuE"
      },
      "outputs": [],
      "source": [
        "# information of all the columns, like column name, dtype,rows\n",
        "\n",
        "df.info()"
      ],
      "id": "d6HDxf6QgBuE"
    },
    {
      "cell_type": "code",
      "execution_count": null,
      "metadata": {
        "scrolled": false,
        "id": "0mq83O9EgBuE"
      },
      "outputs": [],
      "source": [
        "df.describe()"
      ],
      "id": "0mq83O9EgBuE"
    },
    {
      "cell_type": "code",
      "execution_count": null,
      "metadata": {
        "id": "4MngiIFwgBuF"
      },
      "outputs": [],
      "source": [
        "df[df['eliminator'].isnull()]"
      ],
      "id": "4MngiIFwgBuF"
    },
    {
      "cell_type": "code",
      "execution_count": null,
      "metadata": {
        "id": "QxsBFGuIgBuF"
      },
      "outputs": [],
      "source": [
        "df[df['city'].isnull()]\n"
      ],
      "id": "QxsBFGuIgBuF"
    },
    {
      "cell_type": "code",
      "execution_count": null,
      "metadata": {
        "id": "kcVR1VnogBuG"
      },
      "outputs": [],
      "source": [
        "# to find null values\n",
        "\n",
        "df.isnull().sum()\n"
      ],
      "id": "kcVR1VnogBuG"
    },
    {
      "cell_type": "code",
      "execution_count": null,
      "metadata": {
        "id": "HUrHDcGJgBuH"
      },
      "outputs": [],
      "source": [
        "# count of each venues\n",
        "\n",
        "df['venue'].value_counts()"
      ],
      "id": "HUrHDcGJgBuH"
    },
    {
      "cell_type": "code",
      "execution_count": null,
      "metadata": {
        "id": "0XKvBiJQgBuH"
      },
      "outputs": [],
      "source": [],
      "id": "0XKvBiJQgBuH"
    },
    {
      "cell_type": "markdown",
      "metadata": {
        "id": "BkEae26IgBuH"
      },
      "source": [
        "# Data Cleaning\n"
      ],
      "id": "BkEae26IgBuH"
    },
    {
      "cell_type": "raw",
      "metadata": {
        "id": "ro2wNqdugBuI"
      },
      "source": [
        "Data cleaning means fixing bad data in your data set.\n",
        "\n",
        "Bad data could be:\n",
        "\n",
        "Empty cells\n",
        "Data in wrong format\n",
        "Wrong data\n",
        "Duplicates"
      ],
      "id": "ro2wNqdugBuI"
    },
    {
      "cell_type": "markdown",
      "metadata": {
        "id": "vMHANhpbgBuJ"
      },
      "source": [
        "# Empty Cells\n"
      ],
      "id": "vMHANhpbgBuJ"
    },
    {
      "cell_type": "raw",
      "metadata": {
        "id": "6_TszKrHgBuJ"
      },
      "source": [
        "Empty cells can potentially give you a wrong result when you analyze data."
      ],
      "id": "6_TszKrHgBuJ"
    },
    {
      "cell_type": "markdown",
      "metadata": {
        "id": "U_3_tYCQgBuK"
      },
      "source": [
        "# Remove Rows"
      ],
      "id": "U_3_tYCQgBuK"
    },
    {
      "cell_type": "raw",
      "metadata": {
        "id": "WWMN9_qJgBuK"
      },
      "source": [
        "One way to deal with empty cells is to remove rows that contain empty cells.\n",
        "\n",
        "This is usually OK, since data sets can be very big, and\n",
        "removing a few rows will not have a big impact on the result."
      ],
      "id": "WWMN9_qJgBuK"
    },
    {
      "cell_type": "code",
      "execution_count": null,
      "metadata": {
        "id": "3DoUCOWNgBuL"
      },
      "outputs": [],
      "source": [
        "import pandas as pd\n",
        "\n",
        "df = pd.read_csv(\"C:\\\\Users\\\\Lenovo\\\\Desktop\\\\IPL_Matches.csv\")\n",
        "\n",
        "new_df = df.dropna()\n",
        "\n",
        "print(new_df)"
      ],
      "id": "3DoUCOWNgBuL"
    },
    {
      "cell_type": "code",
      "execution_count": null,
      "metadata": {
        "id": "FdGEt7PEgBuL"
      },
      "outputs": [],
      "source": [
        "new_df = pd.DataFrame(new_df)\n",
        "\n",
        "new_df"
      ],
      "id": "FdGEt7PEgBuL"
    },
    {
      "cell_type": "code",
      "execution_count": null,
      "metadata": {
        "id": "WzaZbkf2gBuM"
      },
      "outputs": [],
      "source": [
        "new_df.isnull().sum()\n"
      ],
      "id": "WzaZbkf2gBuM"
    },
    {
      "cell_type": "markdown",
      "metadata": {
        "id": "CgOPkdcjgBuN"
      },
      "source": [
        "# By default, the dropna() method\n",
        "returns a new DataFrame, and will not change the original."
      ],
      "id": "CgOPkdcjgBuN"
    },
    {
      "cell_type": "markdown",
      "metadata": {
        "id": "f6N8cALQgBuN"
      },
      "source": [
        "# inplace = True"
      ],
      "id": "f6N8cALQgBuN"
    },
    {
      "cell_type": "code",
      "execution_count": null,
      "metadata": {
        "id": "KR59oM4TgBuO"
      },
      "outputs": [],
      "source": [
        "# To remove Null values in your original variable or dataset\n",
        "\n",
        "import pandas as pd\n",
        "\n",
        "fd = pd.read_csv(\"C:\\\\Users\\\\Lenovo\\\\Desktop\\\\IPL_Matches.csv\")\n",
        "\n",
        "fd.dropna(inplace = True)\n",
        "\n",
        "print(fd)"
      ],
      "id": "KR59oM4TgBuO"
    },
    {
      "cell_type": "code",
      "execution_count": null,
      "metadata": {
        "id": "FOghwu4YgBuO"
      },
      "outputs": [],
      "source": [
        "fd = pd.DataFrame(fd)\n",
        "\n",
        "fd"
      ],
      "id": "FOghwu4YgBuO"
    },
    {
      "cell_type": "code",
      "execution_count": null,
      "metadata": {
        "id": "B6CsX1iagBuP"
      },
      "outputs": [],
      "source": [
        "fd.isnull().sum()"
      ],
      "id": "B6CsX1iagBuP"
    },
    {
      "cell_type": "markdown",
      "metadata": {
        "id": "hwbzfj0FgBuP"
      },
      "source": [
        "# Removing Null Values based on columns"
      ],
      "id": "hwbzfj0FgBuP"
    },
    {
      "cell_type": "code",
      "execution_count": null,
      "metadata": {
        "id": "QCPUz1aYgBuQ"
      },
      "outputs": [],
      "source": [
        "\n",
        "import pandas as pd\n",
        "\n",
        "df = pd.read_csv(\"C:\\\\Users\\\\Lenovo\\\\Desktop\\\\IPL_Matches.csv\")\n",
        "\n",
        "df = df.dropna(subset=['player_of_match'])\n",
        "\n",
        "df"
      ],
      "id": "QCPUz1aYgBuQ"
    },
    {
      "cell_type": "code",
      "execution_count": null,
      "metadata": {
        "id": "dgn01mbtgBuQ"
      },
      "outputs": [],
      "source": [
        "df.isnull().sum()"
      ],
      "id": "dgn01mbtgBuQ"
    },
    {
      "cell_type": "markdown",
      "metadata": {
        "id": "kPST6_xngBuR"
      },
      "source": [
        "# Removing Rows using loop\n",
        "\n"
      ],
      "id": "kPST6_xngBuR"
    },
    {
      "cell_type": "code",
      "execution_count": null,
      "metadata": {
        "id": "bKcoA1FzgBuR"
      },
      "outputs": [],
      "source": [
        "Another way of handling wrong data is to remove the rows that contains wrong data.\n",
        "\n",
        "This way you do not have to find out what to replace them with,\n",
        "\n",
        "and there is a good chance you do not need them to do your analyses."
      ],
      "id": "bKcoA1FzgBuR"
    },
    {
      "cell_type": "code",
      "execution_count": null,
      "metadata": {
        "id": "5CtAj9gqgBuS"
      },
      "outputs": [],
      "source": [
        "import pandas as pd\n",
        "\n",
        "df = pd.read_csv(\"C:\\\\Users\\\\Lenovo\\\\Desktop\\\\IPL_Matches.csv\")\n",
        "\n",
        "df\n"
      ],
      "id": "5CtAj9gqgBuS"
    },
    {
      "cell_type": "code",
      "execution_count": null,
      "metadata": {
        "id": "UCq1WSBBgBuT"
      },
      "outputs": [],
      "source": [
        "for x in df.index:\n",
        "    if df.loc[x, \"result_margin\"] > 120.0:\n",
        "        df.drop(x, inplace = True)"
      ],
      "id": "UCq1WSBBgBuT"
    },
    {
      "cell_type": "code",
      "execution_count": null,
      "metadata": {
        "id": "rCYUostggBuT"
      },
      "outputs": [],
      "source": [
        "df"
      ],
      "id": "rCYUostggBuT"
    },
    {
      "cell_type": "markdown",
      "metadata": {
        "id": "lMO3zpo3gBuT"
      },
      "source": [
        "# Replace Empty Values\n"
      ],
      "id": "lMO3zpo3gBuT"
    },
    {
      "cell_type": "code",
      "execution_count": null,
      "metadata": {
        "id": "yEkecTOjgBuU"
      },
      "outputs": [],
      "source": [],
      "id": "yEkecTOjgBuU"
    },
    {
      "cell_type": "raw",
      "metadata": {
        "id": "eVJF2e7JgBuU"
      },
      "source": [
        "Another way of dealing with empty cells is to insert a new value instead.\n",
        "\n",
        "This way you do not have to delete entire rows just because of some empty cells.\n"
      ],
      "id": "eVJF2e7JgBuU"
    },
    {
      "cell_type": "raw",
      "metadata": {
        "id": "27TxNPevgBuU"
      },
      "source": [
        "The fillna() method allows us to replace empty cells with a value"
      ],
      "id": "27TxNPevgBuU"
    },
    {
      "cell_type": "code",
      "execution_count": null,
      "metadata": {
        "id": "qM4VqZlogBuV"
      },
      "outputs": [],
      "source": [
        "re.isnull().sum()"
      ],
      "id": "qM4VqZlogBuV"
    },
    {
      "cell_type": "code",
      "execution_count": null,
      "metadata": {
        "id": "4A7OGDw7gBuV"
      },
      "outputs": [],
      "source": [
        "import pandas as pd\n",
        "\n",
        "re = pd.read_csv(\"C:\\\\Users\\\\Lenovo\\\\Desktop\\\\IPL_Matches.csv\")\n"
      ],
      "id": "4A7OGDw7gBuV"
    },
    {
      "cell_type": "code",
      "execution_count": null,
      "metadata": {
        "id": "6mC8qQejgBuV"
      },
      "outputs": [],
      "source": [
        "#replace for all columns ---  not recommemned\n",
        "\n",
        "re.fillna(130, inplace = True)"
      ],
      "id": "6mC8qQejgBuV"
    },
    {
      "cell_type": "code",
      "execution_count": null,
      "metadata": {
        "id": "rUk_x-A_gBuW"
      },
      "outputs": [],
      "source": [
        "re.isnull().sum()"
      ],
      "id": "rUk_x-A_gBuW"
    },
    {
      "cell_type": "code",
      "execution_count": null,
      "metadata": {
        "id": "GlNMCWX4gBuW"
      },
      "outputs": [],
      "source": [],
      "id": "GlNMCWX4gBuW"
    },
    {
      "cell_type": "markdown",
      "metadata": {
        "id": "m86MrBtjgBuX"
      },
      "source": [
        "# Replace Only For Specified Columns\n"
      ],
      "id": "m86MrBtjgBuX"
    },
    {
      "cell_type": "code",
      "execution_count": null,
      "metadata": {
        "id": "oHhDU62OgBuX"
      },
      "outputs": [],
      "source": [
        "import pandas as pd\n",
        "\n",
        "re = pd.read_csv(\"C:\\\\Users\\\\Lenovo\\\\Desktop\\\\IPL_Matches.csv\")\n"
      ],
      "id": "oHhDU62OgBuX"
    },
    {
      "cell_type": "code",
      "execution_count": null,
      "metadata": {
        "id": "r0mErMsFgBuY"
      },
      "outputs": [],
      "source": [
        "re[\"result_margin\"].fillna(8, inplace = True)"
      ],
      "id": "r0mErMsFgBuY"
    },
    {
      "cell_type": "code",
      "execution_count": null,
      "metadata": {
        "id": "pdo01zccgBuY"
      },
      "outputs": [],
      "source": [
        "re"
      ],
      "id": "pdo01zccgBuY"
    },
    {
      "cell_type": "code",
      "execution_count": null,
      "metadata": {
        "id": "lNN0yO-JgBuY"
      },
      "outputs": [],
      "source": [
        "re.isnull().sum()"
      ],
      "id": "lNN0yO-JgBuY"
    },
    {
      "cell_type": "code",
      "execution_count": null,
      "metadata": {
        "id": "LEoGlQrggBuZ"
      },
      "outputs": [],
      "source": [
        "import pandas as pd\n",
        "\n",
        "df = pd.read_csv(\"C:\\\\Users\\\\Lenovo\\\\Desktop\\\\IPL_Matches.csv\")\n"
      ],
      "id": "LEoGlQrggBuZ"
    },
    {
      "cell_type": "code",
      "execution_count": null,
      "metadata": {
        "id": "Kc8lVNJsgBuZ"
      },
      "outputs": [],
      "source": [
        "df.isnull().sum()"
      ],
      "id": "Kc8lVNJsgBuZ"
    },
    {
      "cell_type": "code",
      "execution_count": null,
      "metadata": {
        "id": "ULWyttHQgBua"
      },
      "outputs": [],
      "source": [
        "#2 menthod\n",
        "\n",
        "df['city'] = df['city'].fillna('Dubai')"
      ],
      "id": "ULWyttHQgBua"
    },
    {
      "cell_type": "code",
      "execution_count": null,
      "metadata": {
        "id": "mO18Bu67gBua"
      },
      "outputs": [],
      "source": [],
      "id": "mO18Bu67gBua"
    },
    {
      "cell_type": "markdown",
      "metadata": {
        "id": "wgx6jHM1gBub"
      },
      "source": [
        "# Loop through all values in the \"Result_margin\" column.\n",
        "\n"
      ],
      "id": "wgx6jHM1gBub"
    },
    {
      "cell_type": "raw",
      "metadata": {
        "id": "ga9aypS8gBub"
      },
      "source": [
        "If the value is higher than 0, set it to 120:"
      ],
      "id": "ga9aypS8gBub"
    },
    {
      "cell_type": "code",
      "execution_count": null,
      "metadata": {
        "id": "4d8foCRCgBub"
      },
      "outputs": [],
      "source": [
        "for x in re.index:\n",
        "    if re.loc[x, \"result_margin\"] > 120:\n",
        "        re.loc[x, \"result_margin\"] = 100"
      ],
      "id": "4d8foCRCgBub"
    },
    {
      "cell_type": "code",
      "execution_count": null,
      "metadata": {
        "id": "fj4zMbE9gBuc"
      },
      "outputs": [],
      "source": [
        "re"
      ],
      "id": "fj4zMbE9gBuc"
    },
    {
      "cell_type": "markdown",
      "metadata": {
        "id": "f1KZM0f3gBuc"
      },
      "source": [
        "# Replace Using Mean, Median, or Mode"
      ],
      "id": "f1KZM0f3gBuc"
    },
    {
      "cell_type": "raw",
      "metadata": {
        "id": "6mna9DS_gBud"
      },
      "source": [
        "A common way to replace empty cells, is to calculate the mean, median or mode value of the column.\n"
      ],
      "id": "6mna9DS_gBud"
    },
    {
      "cell_type": "raw",
      "metadata": {
        "id": "41qjGGWrgBud"
      },
      "source": [
        "Pandas uses the mean() median() and mode() methods to\n",
        "calculate the respective values for a specified column:"
      ],
      "id": "41qjGGWrgBud"
    },
    {
      "cell_type": "code",
      "execution_count": null,
      "metadata": {
        "id": "dGEbQY4pgBue"
      },
      "outputs": [],
      "source": [
        "#mean\n",
        "\n",
        "# Mean = the average value (the sum of all values divided by number of values).\n",
        "import pandas as pd\n",
        "\n",
        "re = pd.read_csv(\"C:\\\\Users\\\\Lenovo\\\\Desktop\\\\IPL_Matches.csv\")"
      ],
      "id": "dGEbQY4pgBue"
    },
    {
      "cell_type": "code",
      "execution_count": null,
      "metadata": {
        "id": "IW9pl2yYgBue"
      },
      "outputs": [],
      "source": [
        "re.isnull().sum()"
      ],
      "id": "IW9pl2yYgBue"
    },
    {
      "cell_type": "code",
      "execution_count": null,
      "metadata": {
        "id": "jBtAJAOQgBuf"
      },
      "outputs": [],
      "source": [
        "x = re[\"result_margin\"].mean()\n",
        "x"
      ],
      "id": "jBtAJAOQgBuf"
    },
    {
      "cell_type": "code",
      "execution_count": null,
      "metadata": {
        "id": "0yReEJv1gBug"
      },
      "outputs": [],
      "source": [
        "re[\"result_margin\"].fillna(x, inplace = True)"
      ],
      "id": "0yReEJv1gBug"
    },
    {
      "cell_type": "code",
      "execution_count": null,
      "metadata": {
        "id": "ME3zWTULgBug"
      },
      "outputs": [],
      "source": [
        "Median = the value in the middle, after you have sorted all values ascending."
      ],
      "id": "ME3zWTULgBug"
    },
    {
      "cell_type": "code",
      "execution_count": null,
      "metadata": {
        "id": "SpAafBZJgBuh"
      },
      "outputs": [],
      "source": [
        "import pandas as pd\n",
        "\n",
        "re = pd.read_csv(\"C:\\\\Users\\\\Lenovo\\\\Desktop\\\\IPL_Matches.csv\")"
      ],
      "id": "SpAafBZJgBuh"
    },
    {
      "cell_type": "code",
      "execution_count": null,
      "metadata": {
        "id": "8VFpFD8AgBui"
      },
      "outputs": [],
      "source": [
        "x = re[\"result_margin\"].median()\n",
        "x"
      ],
      "id": "8VFpFD8AgBui"
    },
    {
      "cell_type": "code",
      "execution_count": null,
      "metadata": {
        "id": "sUWeCtV1gBui"
      },
      "outputs": [],
      "source": [
        "re[\"result_margin\"].fillna(x, inplace = True)"
      ],
      "id": "sUWeCtV1gBui"
    },
    {
      "cell_type": "code",
      "execution_count": null,
      "metadata": {
        "id": "ATZ_oYWDgBuj"
      },
      "outputs": [],
      "source": [
        "re.isnull().sum()"
      ],
      "id": "ATZ_oYWDgBuj"
    },
    {
      "cell_type": "code",
      "execution_count": null,
      "metadata": {
        "id": "g8Fkzt0cgBuk"
      },
      "outputs": [],
      "source": [
        "Mode = the value that appears most frequently.\n",
        "\n"
      ],
      "id": "g8Fkzt0cgBuk"
    },
    {
      "cell_type": "code",
      "execution_count": null,
      "metadata": {
        "id": "shim2cyOgBuk"
      },
      "outputs": [],
      "source": [
        "x = re[\"result_margin\"].mode()[0]\n",
        "\n",
        "x"
      ],
      "id": "shim2cyOgBuk"
    },
    {
      "cell_type": "code",
      "execution_count": null,
      "metadata": {
        "id": "CVdjkA_XgBul"
      },
      "outputs": [],
      "source": [
        "re[\"result_margin\"].fillna(x, inplace = True)"
      ],
      "id": "CVdjkA_XgBul"
    },
    {
      "cell_type": "code",
      "execution_count": null,
      "metadata": {
        "id": "6nprm0lhgBum"
      },
      "outputs": [],
      "source": [
        "re.isnull().sum()"
      ],
      "id": "6nprm0lhgBum"
    },
    {
      "cell_type": "code",
      "execution_count": null,
      "metadata": {
        "id": "TjIf8wt4gBun"
      },
      "outputs": [],
      "source": [
        "-----"
      ],
      "id": "TjIf8wt4gBun"
    },
    {
      "cell_type": "markdown",
      "metadata": {
        "id": "zXZK4QPvgBun"
      },
      "source": [
        "# Value_count()"
      ],
      "id": "zXZK4QPvgBun"
    },
    {
      "cell_type": "code",
      "execution_count": null,
      "metadata": {
        "id": "YCaeDFpogBuo"
      },
      "outputs": [],
      "source": [
        "df[\"venue\"].value_counts()\n"
      ],
      "id": "YCaeDFpogBuo"
    },
    {
      "cell_type": "markdown",
      "metadata": {
        "id": "yKCGackbgBuo"
      },
      "source": [
        "# unique()"
      ],
      "id": "yKCGackbgBuo"
    },
    {
      "cell_type": "code",
      "execution_count": null,
      "metadata": {
        "id": "lDQvY2dZgBup"
      },
      "outputs": [],
      "source": [
        "df['venue'].unique()"
      ],
      "id": "lDQvY2dZgBup"
    },
    {
      "cell_type": "markdown",
      "metadata": {
        "id": "pywTHUGOgBuq"
      },
      "source": [
        "# Filter"
      ],
      "id": "pywTHUGOgBuq"
    },
    {
      "cell_type": "code",
      "execution_count": null,
      "metadata": {
        "id": "EEiAm8ktgBuq"
      },
      "outputs": [],
      "source": [
        "df[df['venue'] == 'M Chinnaswamy Stadium']\n"
      ],
      "id": "EEiAm8ktgBuq"
    },
    {
      "cell_type": "markdown",
      "metadata": {
        "id": "eYLWq4WqgBur"
      },
      "source": [
        "# Fixing Wrong Data"
      ],
      "id": "eYLWq4WqgBur"
    },
    {
      "cell_type": "code",
      "execution_count": null,
      "metadata": {
        "id": "iDjtfDXXgBur"
      },
      "outputs": [],
      "source": [
        "# replace\n",
        "\n",
        "df['venue'] = df['venue'].replace('M.Chinnaswamy Stadium','M Chinnaswamy Stadium')"
      ],
      "id": "iDjtfDXXgBur"
    },
    {
      "cell_type": "code",
      "execution_count": null,
      "metadata": {
        "id": "Ra-tpmXcgBus"
      },
      "outputs": [],
      "source": [
        "df[\"venue\"].value_counts()"
      ],
      "id": "Ra-tpmXcgBus"
    },
    {
      "cell_type": "code",
      "execution_count": null,
      "metadata": {
        "id": "C8oTIQ83gBus"
      },
      "outputs": [],
      "source": [
        "#2\n",
        "\n",
        "df[\"city\"].value_counts()"
      ],
      "id": "C8oTIQ83gBus"
    },
    {
      "cell_type": "code",
      "execution_count": null,
      "metadata": {
        "id": "r3SQj1U8gBut"
      },
      "outputs": [],
      "source": [
        "df['city'] = df['city'].replace('Bengaluru', 'Bangalore')"
      ],
      "id": "r3SQj1U8gBut"
    },
    {
      "cell_type": "code",
      "execution_count": null,
      "metadata": {
        "id": "wi0fbkxJgBut"
      },
      "outputs": [],
      "source": [
        "Replacing Values\n",
        "One way to fix wrong values is to replace them with something else."
      ],
      "id": "wi0fbkxJgBut"
    },
    {
      "cell_type": "code",
      "execution_count": null,
      "metadata": {
        "id": "nhd8lv5rgBuu"
      },
      "outputs": [],
      "source": [
        "df.loc[0, 'city'] = \"Mumbai\""
      ],
      "id": "nhd8lv5rgBuu"
    },
    {
      "cell_type": "code",
      "execution_count": null,
      "metadata": {
        "id": "972bC7hlgBuv"
      },
      "outputs": [],
      "source": [
        "df['city'][0] = 'Mumbai'"
      ],
      "id": "972bC7hlgBuv"
    },
    {
      "cell_type": "code",
      "execution_count": null,
      "metadata": {
        "id": "p7zmpGZ7gBuv"
      },
      "outputs": [],
      "source": [
        "df"
      ],
      "id": "p7zmpGZ7gBuv"
    },
    {
      "cell_type": "code",
      "execution_count": null,
      "metadata": {
        "id": "iLvbhAdbgBuw"
      },
      "outputs": [],
      "source": [],
      "id": "iLvbhAdbgBuw"
    },
    {
      "cell_type": "markdown",
      "metadata": {
        "id": "6YoV5LrvgBuw"
      },
      "source": [
        "# Data of Wrong Format\n"
      ],
      "id": "6YoV5LrvgBuw"
    },
    {
      "cell_type": "raw",
      "metadata": {
        "id": "opTTSoMxgBuw"
      },
      "source": [
        "Cells with data of wrong format can make it difficult, or even impossible, to analyze data."
      ],
      "id": "opTTSoMxgBuw"
    },
    {
      "cell_type": "code",
      "execution_count": null,
      "metadata": {
        "id": "jCWmJgTigBux"
      },
      "outputs": [],
      "source": [
        "#astype - it is used to change from one datatype to another\n",
        "\n",
        "df['id'] = df['id'].astype(float)  # astype()\n",
        "\n",
        "df.dtypes"
      ],
      "id": "jCWmJgTigBux"
    },
    {
      "cell_type": "code",
      "execution_count": null,
      "metadata": {
        "id": "zgbC45_qgBux"
      },
      "outputs": [],
      "source": [
        "df['date'] = pd.to_datetime(df['date'])"
      ],
      "id": "zgbC45_qgBux"
    },
    {
      "cell_type": "code",
      "execution_count": null,
      "metadata": {
        "id": "a209cWm3gBuy"
      },
      "outputs": [],
      "source": [
        "df.dtypes"
      ],
      "id": "a209cWm3gBuy"
    },
    {
      "cell_type": "markdown",
      "metadata": {
        "id": "cc0Hd3IZgBuy"
      },
      "source": [
        "# Removing Duplicates"
      ],
      "id": "cc0Hd3IZgBuy"
    },
    {
      "cell_type": "code",
      "execution_count": null,
      "metadata": {
        "id": "LlxD-2p1gBuz"
      },
      "outputs": [],
      "source": [],
      "id": "LlxD-2p1gBuz"
    },
    {
      "cell_type": "code",
      "execution_count": null,
      "metadata": {
        "id": "dTjvXegQgBuz"
      },
      "outputs": [],
      "source": [
        "The duplicated() method returns a Boolean values for each row"
      ],
      "id": "dTjvXegQgBuz"
    },
    {
      "cell_type": "code",
      "execution_count": null,
      "metadata": {
        "id": "l14wp5tWgBuz"
      },
      "outputs": [],
      "source": [
        "print(df.duplicated())"
      ],
      "id": "l14wp5tWgBuz"
    },
    {
      "cell_type": "raw",
      "metadata": {
        "id": "EQrMbondgBu0"
      },
      "source": [
        "To remove duplicates, use the drop_duplicates() method."
      ],
      "id": "EQrMbondgBu0"
    },
    {
      "cell_type": "code",
      "execution_count": null,
      "metadata": {
        "id": "0MuKyr3PgBu0"
      },
      "outputs": [],
      "source": [
        "df.drop_duplicates(inplace = True)\n"
      ],
      "id": "0MuKyr3PgBu0"
    },
    {
      "cell_type": "code",
      "execution_count": null,
      "metadata": {
        "id": "db_I_bGEgBu1"
      },
      "outputs": [],
      "source": [],
      "id": "db_I_bGEgBu1"
    },
    {
      "cell_type": "code",
      "execution_count": null,
      "metadata": {
        "id": "cnWaGRzggBu1"
      },
      "outputs": [],
      "source": [
        "import warnings\n",
        "\n",
        "warnings.filterwarnings('ignore')"
      ],
      "id": "cnWaGRzggBu1"
    },
    {
      "cell_type": "code",
      "execution_count": null,
      "metadata": {
        "id": "OH6buEskgBu1"
      },
      "outputs": [],
      "source": [],
      "id": "OH6buEskgBu1"
    },
    {
      "cell_type": "markdown",
      "metadata": {
        "id": "VI-sm5ksgBu2"
      },
      "source": [
        "# rename any column name"
      ],
      "id": "VI-sm5ksgBu2"
    },
    {
      "cell_type": "code",
      "execution_count": null,
      "metadata": {
        "id": "PaFM7_J-gBu2"
      },
      "outputs": [],
      "source": [
        "#rename any column name\n",
        "\n",
        "df = df.rename(columns={'city':'City1'})\n",
        "df"
      ],
      "id": "PaFM7_J-gBu2"
    },
    {
      "cell_type": "code",
      "execution_count": null,
      "metadata": {
        "id": "5VDKRizMgBu3"
      },
      "outputs": [],
      "source": [
        "df"
      ],
      "id": "5VDKRizMgBu3"
    },
    {
      "cell_type": "code",
      "execution_count": null,
      "metadata": {
        "id": "GRYjQYurgBu3"
      },
      "outputs": [],
      "source": [],
      "id": "GRYjQYurgBu3"
    },
    {
      "cell_type": "markdown",
      "metadata": {
        "id": "OuPtGXCKgBu4"
      },
      "source": [
        "# Concatenating DataFrames using concat()"
      ],
      "id": "OuPtGXCKgBu4"
    },
    {
      "cell_type": "code",
      "execution_count": null,
      "metadata": {
        "id": "Ol9OZRvsgBu5"
      },
      "outputs": [],
      "source": [
        "Let’s say we split the provided dataset into two smaller\n",
        "DataFrames and then concatenate them back together."
      ],
      "id": "Ol9OZRvsgBu5"
    },
    {
      "cell_type": "code",
      "execution_count": null,
      "metadata": {
        "id": "1xuy_J3mgBu6"
      },
      "outputs": [],
      "source": [
        "import pandas as pd\n",
        "\n",
        "# Create two DataFrames from the provided data (splitting the data manually here for illustration)\n",
        "data_part1 = {\n",
        "    'id': [335982, 335983, 335984],\n",
        "    'city': ['Bangalore', 'Chandigarh', 'Delhi'],\n",
        "    'date': ['4/18/2008', '4/19/2008', '4/19/2008'],\n",
        "    'player_of_match': ['BB McCullum', 'MEK Hussey', 'MF Maharoof'],\n",
        "    'venue': ['M Chinnaswamy Stadium', 'Punjab Cricket Association Stadium, Mohali', 'Feroz Shah Kotla'],\n",
        "    'team1': ['Royal Challengers Bangalore', 'Kings XI Punjab', 'Delhi Daredevils'],\n",
        "    'team2': ['Kolkata Knight Riders', 'Chennai Super Kings', 'Rajasthan Royals'],\n",
        "    'winner': ['Kolkata Knight Riders', 'Chennai Super Kings', 'Delhi Daredevils']\n",
        "}"
      ],
      "id": "1xuy_J3mgBu6"
    },
    {
      "cell_type": "code",
      "execution_count": null,
      "metadata": {
        "id": "1RIvgkAGgBu6"
      },
      "outputs": [],
      "source": [
        "data_part2 = {\n",
        "    'id': [335985, 335986, 335987],\n",
        "    'city': ['Mumbai', 'Kolkata', 'Jaipur'],\n",
        "    'date': ['4/20/2008', '4/20/2008', '4/21/2008'],\n",
        "    'player_of_match': ['MV Boucher', 'DJ Hussey', 'SR Watson'],\n",
        "    'venue': ['Wankhede Stadium', 'Eden Gardens', 'Sawai Mansingh Stadium'],\n",
        "    'team1': ['Mumbai Indians', 'Kolkata Knight Riders', 'Rajasthan Royals'],\n",
        "    'team2': ['Royal Challengers Bangalore', 'Deccan Chargers', 'Kings XI Punjab'],\n",
        "    'winner': ['Royal Challengers Bangalore', 'Kolkata Knight Riders', 'Rajasthan Royals']\n",
        "}"
      ],
      "id": "1RIvgkAGgBu6"
    },
    {
      "cell_type": "code",
      "execution_count": null,
      "metadata": {
        "id": "YoLrZGxPgBu7"
      },
      "outputs": [],
      "source": [
        "# Convert dictionaries into DataFrames\n",
        "df_part1 = pd.DataFrame(data_part1)\n",
        "df_part2 = pd.DataFrame(data_part2)\n",
        "\n"
      ],
      "id": "YoLrZGxPgBu7"
    },
    {
      "cell_type": "code",
      "execution_count": null,
      "metadata": {
        "id": "GgFvDrfrgBu8"
      },
      "outputs": [],
      "source": [
        "# Concatenating both parts\n",
        "df_full = pd.concat([df_part1, df_part2], ignore_index=True)\n",
        "\n",
        "# Displaying the concatenated DataFrame\n",
        "df_full"
      ],
      "id": "GgFvDrfrgBu8"
    },
    {
      "cell_type": "code",
      "execution_count": null,
      "metadata": {
        "id": "2gotc-3ugBu8"
      },
      "outputs": [],
      "source": [],
      "id": "2gotc-3ugBu8"
    },
    {
      "cell_type": "markdown",
      "metadata": {
        "id": "XN02QENpgBu9"
      },
      "source": [
        "# Merging DataFrames using merge()"
      ],
      "id": "XN02QENpgBu9"
    },
    {
      "cell_type": "raw",
      "metadata": {
        "id": "YYQVQwekgBu9"
      },
      "source": [
        "Let’s create two DataFrames — one containing match details and\n",
        "the other containing umpire information. Then we’ll merge them based on the id column."
      ],
      "id": "YYQVQwekgBu9"
    },
    {
      "cell_type": "code",
      "execution_count": null,
      "metadata": {
        "id": "LaMjDPhqgBu-"
      },
      "outputs": [],
      "source": [
        "# Match details DataFrame\n",
        "matches = pd.DataFrame({\n",
        "    'id': [1, 3, 5, 10],\n",
        "    'city': ['Bangalore', 'Chandigarh', 'Delhi', 'Mumbai'],\n",
        "    'date': ['4/18/2008', '4/19/2008', '4/19/2008', '4/20/2008'],\n",
        "    'team1': ['Royal Challengers Bangalore', 'Kings XI Punjab', 'Delhi Daredevils', 'Mumbai Indians'],\n",
        "    'team2': ['Kolkata Knight Riders', 'Chennai Super Kings', 'Rajasthan Royals', 'Royal Challengers Bangalore'],\n",
        "    'winner': ['Kolkata Knight Riders', 'Chennai Super Kings', 'Delhi Daredevils', 'Royal Challengers Bangalore']\n",
        "})\n",
        "\n",
        "\n"
      ],
      "id": "LaMjDPhqgBu-"
    },
    {
      "cell_type": "code",
      "execution_count": null,
      "metadata": {
        "id": "i7mcwcJygBu-"
      },
      "outputs": [],
      "source": [
        "# Umpire details DataFrame\n",
        "umpires = pd.DataFrame({\n",
        "    'id': [8, 3, 1, 7],\n",
        "    'umpire1': ['Asad Rauf', 'MR Benson', 'Aleem Dar', 'BF Bowden'],\n",
        "    'umpire2': ['RE Koertzen', 'SL Shastri', 'GA Pratapkumar', 'K Hariharan']\n",
        "})\n",
        "\n"
      ],
      "id": "i7mcwcJygBu-"
    },
    {
      "cell_type": "code",
      "execution_count": null,
      "metadata": {
        "id": "IP0g8KPogBu_"
      },
      "outputs": [],
      "source": [
        "# Merging the two DataFrames on 'id'\n",
        "merged_df = pd.merge(matches, umpires, on='id', how='inner')\n",
        "\n",
        "# Displaying the merged DataFrame\n",
        "merged_df"
      ],
      "id": "IP0g8KPogBu_"
    },
    {
      "cell_type": "code",
      "execution_count": null,
      "metadata": {
        "id": "VRLD35KsgBu_"
      },
      "outputs": [],
      "source": [],
      "id": "VRLD35KsgBu_"
    },
    {
      "cell_type": "markdown",
      "metadata": {
        "id": "DB9Lu7PIgBvA"
      },
      "source": [
        "# Merge Options"
      ],
      "id": "DB9Lu7PIgBvA"
    },
    {
      "cell_type": "raw",
      "metadata": {
        "id": "Ffx0oVXAgBvA"
      },
      "source": [
        "There are four types of joins in merge():\n",
        "\n"
      ],
      "id": "Ffx0oVXAgBvA"
    },
    {
      "cell_type": "raw",
      "metadata": {
        "id": "7dWhrRU1gBvB"
      },
      "source": [
        "# Inner Join (default): Only includes rows where id exists in both DataFrames.\n"
      ],
      "id": "7dWhrRU1gBvB"
    },
    {
      "cell_type": "code",
      "execution_count": null,
      "metadata": {
        "id": "HijENP__gBvB"
      },
      "outputs": [],
      "source": [
        "pd.merge(matches, umpires, on='id', how='inner')\n"
      ],
      "id": "HijENP__gBvB"
    },
    {
      "cell_type": "code",
      "execution_count": null,
      "metadata": {
        "id": "vHzfCMM6gBvC"
      },
      "outputs": [],
      "source": [],
      "id": "vHzfCMM6gBvC"
    },
    {
      "cell_type": "raw",
      "metadata": {
        "id": "KppZCxx8gBvC"
      },
      "source": [
        "Left Join: Keeps all rows from the left DataFrame and only matching rows from the right DataFrame."
      ],
      "id": "KppZCxx8gBvC"
    },
    {
      "cell_type": "code",
      "execution_count": null,
      "metadata": {
        "id": "orXTIJk_gBvC"
      },
      "outputs": [],
      "source": [
        "pd.merge(matches, umpires, on='id', how='left')\n"
      ],
      "id": "orXTIJk_gBvC"
    },
    {
      "cell_type": "code",
      "execution_count": null,
      "metadata": {
        "id": "BajRgEnugBvD"
      },
      "outputs": [],
      "source": [],
      "id": "BajRgEnugBvD"
    },
    {
      "cell_type": "raw",
      "metadata": {
        "id": "obt9JGzAgBvD"
      },
      "source": [
        "Right Join: Keeps all rows from the right DataFrame and only matching rows from the left DataFrame."
      ],
      "id": "obt9JGzAgBvD"
    },
    {
      "cell_type": "code",
      "execution_count": null,
      "metadata": {
        "id": "rCLcmbpRgBvE"
      },
      "outputs": [],
      "source": [
        "pd.merge(matches, umpires, on='id', how='right')\n"
      ],
      "id": "rCLcmbpRgBvE"
    },
    {
      "cell_type": "code",
      "execution_count": null,
      "metadata": {
        "id": "4Vp_CKmjgBvE"
      },
      "outputs": [],
      "source": [],
      "id": "4Vp_CKmjgBvE"
    },
    {
      "cell_type": "raw",
      "metadata": {
        "id": "1SrokturgBvF"
      },
      "source": [
        "Outer Join: Keeps all rows from both DataFrames.\n"
      ],
      "id": "1SrokturgBvF"
    },
    {
      "cell_type": "code",
      "execution_count": null,
      "metadata": {
        "id": "24yyDXRwgBvF"
      },
      "outputs": [],
      "source": [
        "pd.merge(matches, umpires, on='id', how='outer')\n"
      ],
      "id": "24yyDXRwgBvF"
    },
    {
      "cell_type": "code",
      "execution_count": null,
      "metadata": {
        "id": "STklc3hNgBvG"
      },
      "outputs": [],
      "source": [],
      "id": "STklc3hNgBvG"
    },
    {
      "cell_type": "markdown",
      "metadata": {
        "id": "f4XkgLfZgBvG"
      },
      "source": [
        "# .join()"
      ],
      "id": "f4XkgLfZgBvG"
    },
    {
      "cell_type": "code",
      "execution_count": null,
      "metadata": {
        "id": "6zljBM3hgBvH"
      },
      "outputs": [],
      "source": [
        "The .join() function in Pandas is used to join two DataFrames by their indexes"
      ],
      "id": "6zljBM3hgBvH"
    },
    {
      "cell_type": "code",
      "execution_count": null,
      "metadata": {
        "id": "_QJ1YhX2gBvH"
      },
      "outputs": [],
      "source": [
        "import pandas as pd\n",
        "\n",
        "# First DataFrame with information about teams\n",
        "df_teams = pd.DataFrame({\n",
        "    'team': ['Royal Challengers Bangalore', 'Kings XI Punjab', 'Delhi Daredevils', 'Mumbai Indians'],\n",
        "    'city': ['Bangalore', 'Chandigarh', 'Delhi', 'Mumbai'],\n",
        "}, index=[1, 2, 3, 4])\n",
        "\n"
      ],
      "id": "_QJ1YhX2gBvH"
    },
    {
      "cell_type": "code",
      "execution_count": null,
      "metadata": {
        "id": "1TOzGaSSgBvI"
      },
      "outputs": [],
      "source": [
        "# Second DataFrame with information about players\n",
        "\n",
        "df_players = pd.DataFrame({\n",
        "    'player_of_match': ['BB McCullum', 'MEK Hussey', 'MF Maharoof', 'MV Boucher'],\n",
        "    'date': ['4/18/2008', '4/19/2008', '4/19/2008', '4/20/2008'],\n",
        "}, index=[1, 2, 5, 6])"
      ],
      "id": "1TOzGaSSgBvI"
    },
    {
      "cell_type": "code",
      "execution_count": null,
      "metadata": {
        "id": "7R6wY1CggBvJ"
      },
      "outputs": [],
      "source": [
        "# Joining the two DataFrames using the index\n",
        "df_joined = df_teams.join(df_players)\n",
        "\n",
        "# Display the resulting DataFrame\n",
        "df_joined"
      ],
      "id": "7R6wY1CggBvJ"
    },
    {
      "cell_type": "code",
      "execution_count": null,
      "metadata": {
        "id": "iiffmeEfgBvJ"
      },
      "outputs": [],
      "source": [
        "Key Parameters in .join():\n",
        "how: Specifies the type of join. Options include:\n",
        "'left': Default, keeps all rows from the left DataFrame.\n",
        "'right': Keeps all rows from the right joined DataFrame.\n",
        "'outer': Keeps all rows from both DataFrames.\n",
        "'inner': Keeps only the rows with matching indices in both DataFrames."
      ],
      "id": "iiffmeEfgBvJ"
    },
    {
      "cell_type": "code",
      "execution_count": null,
      "metadata": {
        "id": "v35ZfHKogBvK"
      },
      "outputs": [],
      "source": [
        "# Left join (keeps all rows from the left DataFrame)\n",
        "df_left_joined = df_teams.join(df_players, how='outer')\n",
        "\n",
        "# Display the left-joined DataFrame\n",
        "print(df_left_joined)"
      ],
      "id": "v35ZfHKogBvK"
    },
    {
      "cell_type": "code",
      "execution_count": null,
      "metadata": {
        "id": "RX8EN9slgBvK"
      },
      "outputs": [],
      "source": [],
      "id": "RX8EN9slgBvK"
    },
    {
      "cell_type": "markdown",
      "metadata": {
        "id": "rKLxAyYggBvL"
      },
      "source": [
        "# groupby()"
      ],
      "id": "rKLxAyYggBvL"
    },
    {
      "cell_type": "code",
      "execution_count": null,
      "metadata": {
        "id": "ZU4OxFXEgBvL"
      },
      "outputs": [],
      "source": [
        "The groupby() function in Pandas is used to split data into\n",
        "groups based on some criteria and apply a function to each group,\n",
        "returning the results combined into a single DataFrame or Series.\n",
        "You can perform various operations on the grouped data,\n",
        "\n",
        "such as sum(), mean(), count(), min(), max(), etc.\n",
        "\n"
      ],
      "id": "ZU4OxFXEgBvL"
    },
    {
      "cell_type": "code",
      "execution_count": null,
      "metadata": {
        "id": "_qcYXkeRgBvM"
      },
      "outputs": [],
      "source": [
        "import pandas as pd\n",
        "\n",
        "# Sample IPL match data\n",
        "data = {\n",
        "    'team': ['RCB', 'RCB', 'MI', 'MI', 'KXIP', 'KXIP', 'RCB', 'MI'],\n",
        "    'runs': [150, 180, 200, 220, 175, 160, 190, 240],\n",
        "    'wickets': [5, 6, 7, 4, 3, 5, 6, 7],\n",
        "    'played_against': ['MI', 'KXIP', 'RCB', 'KXIP', 'RCB', 'MI', 'MI', 'RCB']\n",
        "}\n",
        "\n",
        "df = pd.DataFrame(data)\n",
        "\n"
      ],
      "id": "_qcYXkeRgBvM"
    },
    {
      "cell_type": "code",
      "execution_count": null,
      "metadata": {
        "id": "bcVizfTTgBvM"
      },
      "outputs": [],
      "source": [
        "# Grouping by 'team' and summing the 'runs' and 'wickets' columns\n",
        "grouped_df = df.groupby('team').sum()\n",
        "print(grouped_df)\n"
      ],
      "id": "bcVizfTTgBvM"
    },
    {
      "cell_type": "code",
      "execution_count": null,
      "metadata": {
        "id": "TqgThAv-gBvN"
      },
      "outputs": [],
      "source": [],
      "id": "TqgThAv-gBvN"
    },
    {
      "cell_type": "code",
      "execution_count": null,
      "metadata": {
        "id": "xxZKDgSPgBvN"
      },
      "outputs": [],
      "source": [
        "GroupBy with Multiple Aggregations"
      ],
      "id": "xxZKDgSPgBvN"
    },
    {
      "cell_type": "code",
      "execution_count": null,
      "metadata": {
        "id": "VRyW0zeBgBvO"
      },
      "outputs": [],
      "source": [
        "# Grouping by 'team' with multiple aggregation functions (sum and mean)\n",
        "grouped_multi = df.groupby('team').agg({\n",
        "    'runs': ['sum', 'mean'],\n",
        "    'wickets': ['sum', 'mean']\n",
        "})\n",
        "\n",
        "print(grouped_multi)\n"
      ],
      "id": "VRyW0zeBgBvO"
    },
    {
      "cell_type": "code",
      "execution_count": null,
      "metadata": {
        "id": "xWPIagZGgBvP"
      },
      "outputs": [],
      "source": [],
      "id": "xWPIagZGgBvP"
    },
    {
      "cell_type": "markdown",
      "metadata": {
        "id": "UGmuwXkIgBvP"
      },
      "source": [
        "# GroupBy with a Specific Column"
      ],
      "id": "UGmuwXkIgBvP"
    },
    {
      "cell_type": "code",
      "execution_count": null,
      "metadata": {
        "id": "GmwZE4LTgBvP"
      },
      "outputs": [],
      "source": [
        "# Grouping by 'played_against' and summing 'runs'\n",
        "\n",
        "grouped_against = df.groupby('played_against')['runs'].sum()\n",
        "print(grouped_against)\n"
      ],
      "id": "GmwZE4LTgBvP"
    },
    {
      "cell_type": "code",
      "execution_count": null,
      "metadata": {
        "id": "ZxQTyOVKgBvQ"
      },
      "outputs": [],
      "source": [],
      "id": "ZxQTyOVKgBvQ"
    },
    {
      "cell_type": "code",
      "execution_count": null,
      "metadata": {
        "id": "EzQH3OsRgBvQ"
      },
      "outputs": [],
      "source": [
        "import pandas as pd\n",
        "\n",
        "df = pd.read_csv(\"C:\\\\Users\\\\Lenovo\\\\Desktop\\\\IPL_Matches.csv\")"
      ],
      "id": "EzQH3OsRgBvQ"
    },
    {
      "cell_type": "code",
      "execution_count": null,
      "metadata": {
        "id": "51Aw7uW5gBvR"
      },
      "outputs": [],
      "source": [
        "df.groupby('team1')['player_of_match'].value_counts().head(1)\n",
        "\n"
      ],
      "id": "51Aw7uW5gBvR"
    },
    {
      "cell_type": "code",
      "execution_count": null,
      "metadata": {
        "id": "VJUDIlTfgBvS"
      },
      "outputs": [],
      "source": [
        "df.groupby('city')['venue'].value_counts()\n"
      ],
      "id": "VJUDIlTfgBvS"
    },
    {
      "cell_type": "code",
      "execution_count": null,
      "metadata": {
        "id": "92xDNpp1gBvS"
      },
      "outputs": [],
      "source": [
        "winner = df.groupby('city')['winner'].value_counts()\n"
      ],
      "id": "92xDNpp1gBvS"
    },
    {
      "cell_type": "code",
      "execution_count": null,
      "metadata": {
        "id": "36CzjK2egBvT"
      },
      "outputs": [],
      "source": [
        "winner"
      ],
      "id": "36CzjK2egBvT"
    },
    {
      "cell_type": "code",
      "execution_count": null,
      "metadata": {
        "id": "8TrYbSDugBvT"
      },
      "outputs": [],
      "source": [
        "fd = pd.DataFrame(winner)"
      ],
      "id": "8TrYbSDugBvT"
    },
    {
      "cell_type": "code",
      "execution_count": null,
      "metadata": {
        "id": "KaFqFDszgBvU"
      },
      "outputs": [],
      "source": [
        "fd"
      ],
      "id": "KaFqFDszgBvU"
    },
    {
      "cell_type": "code",
      "execution_count": null,
      "metadata": {
        "id": "S_FuqLCngBvV"
      },
      "outputs": [],
      "source": [
        "fd.to_csv(\"winner\")"
      ],
      "id": "S_FuqLCngBvV"
    },
    {
      "cell_type": "code",
      "execution_count": null,
      "metadata": {
        "id": "KgRKWAzPgBvV"
      },
      "outputs": [],
      "source": [],
      "id": "KgRKWAzPgBvV"
    },
    {
      "cell_type": "code",
      "execution_count": null,
      "metadata": {
        "id": "v_HajtphgBvW"
      },
      "outputs": [],
      "source": [],
      "id": "v_HajtphgBvW"
    },
    {
      "cell_type": "code",
      "execution_count": null,
      "metadata": {
        "id": "8d2_jXF9gBvW"
      },
      "outputs": [],
      "source": [],
      "id": "8d2_jXF9gBvW"
    }
  ],
  "metadata": {
    "kernelspec": {
      "display_name": "Python 3",
      "language": "python",
      "name": "python3"
    },
    "language_info": {
      "codemirror_mode": {
        "name": "ipython",
        "version": 3
      },
      "file_extension": ".py",
      "mimetype": "text/x-python",
      "name": "python",
      "nbconvert_exporter": "python",
      "pygments_lexer": "ipython3",
      "version": "3.8.5"
    },
    "colab": {
      "provenance": [],
      "include_colab_link": true
    }
  },
  "nbformat": 4,
  "nbformat_minor": 5
}