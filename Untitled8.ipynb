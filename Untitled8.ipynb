{
  "cells": [
    {
      "cell_type": "markdown",
      "metadata": {
        "id": "view-in-github",
        "colab_type": "text"
      },
      "source": [
        "<a href=\"https://colab.research.google.com/github/mdfazalm/Python/blob/main/Untitled8.ipynb\" target=\"_parent\"><img src=\"https://colab.research.google.com/assets/colab-badge.svg\" alt=\"Open In Colab\"/></a>"
      ]
    },
    {
      "cell_type": "code",
      "execution_count": null,
      "id": "6aee625b-c6c7-42a6-ba90-d7ac8e8bb769",
      "metadata": {
        "id": "6aee625b-c6c7-42a6-ba90-d7ac8e8bb769"
      },
      "outputs": [],
      "source": [
        "i=1            #initialisation\n",
        "while i<6:      # while condition\n",
        "    print(i)     # statement block\n",
        "    i+=1        # updation"
      ]
    },
    {
      "cell_type": "code",
      "execution_count": null,
      "id": "95017cf0-c50a-49f9-98b8-35daf4d3eb9a",
      "metadata": {
        "scrolled": true,
        "id": "95017cf0-c50a-49f9-98b8-35daf4d3eb9a"
      },
      "outputs": [],
      "source": [
        "i=7\n",
        "while i>0:\n",
        "    print(i)\n",
        "    i-=1"
      ]
    },
    {
      "cell_type": "code",
      "execution_count": null,
      "id": "dd48f6db-2941-4dd7-b463-12bac76e0e48",
      "metadata": {
        "id": "dd48f6db-2941-4dd7-b463-12bac76e0e48",
        "outputId": "bf884101-fda2-4dd9-f047-48e8f120b66f"
      },
      "outputs": [
        {
          "name": "stdin",
          "output_type": "stream",
          "text": [
            "Enter the password: Secret\n"
          ]
        },
        {
          "name": "stdout",
          "output_type": "stream",
          "text": [
            "Access Granted\n"
          ]
        }
      ],
      "source": [
        "correct_password = \"Secret\"\n",
        "password = \"\"\n",
        "\n",
        "while correct_password!=password:\n",
        "    password = input(\"Enter the password:\")\n",
        "    if correct_password==password:\n",
        "        print(\"Access Granted\")\n",
        "    else:\n",
        "        print(\"Try Again\")\n",
        "        #break"
      ]
    },
    {
      "cell_type": "code",
      "execution_count": null,
      "id": "f8ee7449-cafb-428a-9096-9370ac1ff999",
      "metadata": {
        "id": "f8ee7449-cafb-428a-9096-9370ac1ff999"
      },
      "outputs": [],
      "source": [
        "correct_password=\"Secret\"\n",
        "a=3\n",
        "while a>0:\n",
        "    password = str(input(\"Enter the password:\"))\n",
        "    if correct_password==password:\n",
        "        print(\"Access Granted\")\n",
        "        break\n",
        "    else:\n",
        "        print(\"Try Again\")\n",
        "        a-=1\n",
        "        print(f\"Attempts left:{a}\")\n",
        "\n",
        "\n",
        "print(\"try after 5 mins\")\n",
        "\n",
        ""
      ]
    },
    {
      "cell_type": "code",
      "execution_count": null,
      "id": "2ce1836f-85c6-4714-916b-2f8cdc229c9b",
      "metadata": {
        "id": "2ce1836f-85c6-4714-916b-2f8cdc229c9b"
      },
      "outputs": [],
      "source": [
        "correct_password=\"Secret\"\n",
        "attempt=0\n",
        "max_attempt=3\n",
        "\n",
        "while attempt<max_attempt:\n",
        "    password=input(\"Enter the password:\")\n",
        "    if correct_password==password:\n",
        "        print(\"Successful Login\")\n",
        "        break\n",
        "    else:\n",
        "        attempt+=1\n",
        "        print(\"Password Incorrect, Try Again attempt left:\",max_attempt-attempt)\n",
        "else:\n",
        "    print(\"Account Locked, Try again after 24 Hrs\")"
      ]
    },
    {
      "cell_type": "code",
      "execution_count": null,
      "id": "31288832-bba4-4520-bf69-1371c0ad9487",
      "metadata": {
        "id": "31288832-bba4-4520-bf69-1371c0ad9487"
      },
      "outputs": [],
      "source": [
        "account_balance=10000\n",
        "while True:\n",
        "    withdrawal=int(input(\"Enter the amount you want to withdraw in the multiples of 100:\"))\n",
        "\n",
        "    if withdrawal%100!=0:\n",
        "        print(\"Enter the amount in the multiples of 100\")\n",
        "        break\n",
        "    elif withdrawal>account_balance:\n",
        "        print(\"Insufficient funds\")\n",
        "        break\n",
        "    else:\n",
        "        account_balance-=withdrawal\n",
        "        print(\"Withdrawn amount:\", withdrawal)\n",
        "        print(\"Remaining balance:\", account_balance)\n",
        "        break\n",
        "\n"
      ]
    },
    {
      "cell_type": "code",
      "execution_count": null,
      "id": "40185327-4505-48b0-bb43-1d2bec3f2c61",
      "metadata": {
        "id": "40185327-4505-48b0-bb43-1d2bec3f2c61",
        "outputId": "c5e57245-bdbd-487e-f484-adb480a4db19"
      },
      "outputs": [
        {
          "name": "stdin",
          "output_type": "stream",
          "text": [
            "Enter your guess between 0 to 100 150\n"
          ]
        },
        {
          "name": "stdout",
          "output_type": "stream",
          "text": [
            "try with lower number\n"
          ]
        },
        {
          "name": "stdin",
          "output_type": "stream",
          "text": [
            "Enter your guess between 0 to 100 50\n"
          ]
        },
        {
          "name": "stdout",
          "output_type": "stream",
          "text": [
            "You guessed correctly\n",
            "Total attempts taken: 2\n"
          ]
        }
      ],
      "source": [
        "import random\n",
        "\n",
        "\n",
        "target=random.randint(1,100)\n",
        "guess=0\n",
        "attempt=0\n",
        "\n",
        "while guess!=target:\n",
        "    guess=int(input(\"Enter your guess between 0 to 100\"))\n",
        "    attempt+=1\n",
        "\n",
        "\n",
        "    if guess>target:\n",
        "        print(\"try with lower number\")\n",
        "    elif guess<target:\n",
        "        print(\"try with higher number\")\n",
        "    else :\n",
        "        print(\"You guessed correctly\")\n",
        "        print(\"Total attempts taken:\", attempt)\n",
        "        break"
      ]
    },
    {
      "cell_type": "code",
      "execution_count": null,
      "id": "e74a5878-7308-44d4-a248-b599a0826941",
      "metadata": {
        "id": "e74a5878-7308-44d4-a248-b599a0826941",
        "outputId": "1eb94e25-57d9-4e80-e2d0-4840804348b9"
      },
      "outputs": [
        {
          "name": "stdin",
          "output_type": "stream",
          "text": [
            "Enter the number between 1 and 100 150\n"
          ]
        },
        {
          "name": "stdout",
          "output_type": "stream",
          "text": [
            "Invalid number, Enter between 1 & 100\n"
          ]
        },
        {
          "name": "stdin",
          "output_type": "stream",
          "text": [
            "Enter the number between 1 and 100 50\n"
          ]
        },
        {
          "name": "stdout",
          "output_type": "stream",
          "text": [
            "Try with a higher number\n"
          ]
        },
        {
          "name": "stdin",
          "output_type": "stream",
          "text": [
            "Enter the number between 1 and 100 70\n"
          ]
        },
        {
          "name": "stdout",
          "output_type": "stream",
          "text": [
            "Try with a Lower number\n"
          ]
        },
        {
          "name": "stdin",
          "output_type": "stream",
          "text": [
            "Enter the number between 1 and 100 60\n"
          ]
        },
        {
          "name": "stdout",
          "output_type": "stream",
          "text": [
            "Try with a Lower number\n"
          ]
        },
        {
          "name": "stdin",
          "output_type": "stream",
          "text": [
            "Enter the number between 1 and 100 55\n"
          ]
        },
        {
          "name": "stdout",
          "output_type": "stream",
          "text": [
            "Try with a Lower number\n"
          ]
        },
        {
          "name": "stdin",
          "output_type": "stream",
          "text": [
            "Enter the number between 1 and 100 53\n"
          ]
        },
        {
          "name": "stdout",
          "output_type": "stream",
          "text": [
            "You guessed correctly\n",
            "Total attempts taken:- 6\n"
          ]
        }
      ],
      "source": [
        "import random\n",
        "\n",
        "target=random.randint(1,100)\n",
        "attempt=0\n",
        "\n",
        "while True:\n",
        "    guess=int(input(\"Enter the number between 1 and 100\"))\n",
        "    attempt+=1\n",
        "\n",
        "    if guess>100 or guess<0:\n",
        "        print(\"Invalid number, Enter between 1 & 100\")\n",
        "    elif guess>target:\n",
        "        print(\"Try with a Lower number\")\n",
        "    elif guess <target:\n",
        "        print(\"Try with a higher number\")\n",
        "    else:\n",
        "        print(\"You guessed correctly\")\n",
        "        print(\"Total attempts taken:-\", attempt)\n",
        "        break"
      ]
    }
  ],
  "metadata": {
    "kernelspec": {
      "display_name": "Python 3 (ipykernel)",
      "language": "python",
      "name": "python3"
    },
    "language_info": {
      "codemirror_mode": {
        "name": "ipython",
        "version": 3
      },
      "file_extension": ".py",
      "mimetype": "text/x-python",
      "name": "python",
      "nbconvert_exporter": "python",
      "pygments_lexer": "ipython3",
      "version": "3.12.4"
    },
    "colab": {
      "provenance": [],
      "include_colab_link": true
    }
  },
  "nbformat": 4,
  "nbformat_minor": 5
}