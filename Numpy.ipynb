{
  "cells": [
    {
      "cell_type": "markdown",
      "metadata": {
        "id": "view-in-github",
        "colab_type": "text"
      },
      "source": [
        "<a href=\"https://colab.research.google.com/github/mdfazalm/Python/blob/main/Numpy.ipynb\" target=\"_parent\"><img src=\"https://colab.research.google.com/assets/colab-badge.svg\" alt=\"Open In Colab\"/></a>"
      ]
    },
    {
      "cell_type": "markdown",
      "metadata": {
        "id": "Jj8lEQkXiIdb"
      },
      "source": [
        "# Numpy module"
      ]
    },
    {
      "cell_type": "raw",
      "metadata": {
        "id": "bSeb2lgpiIdh"
      },
      "source": [
        "=>Numpy stands for Numerical Python.\n",
        "=>Numpy is one of the pre-defined third party module / Library and\n",
        "numpy module is not a pre-defined module in Python Language.\n",
        "\n",
        "=>Syntax for installing any module:\n",
        "\n",
        "\t\t\tpip    install    module-name\n",
        "\n",
        "=>Example: Install  numpy module\n",
        "\n",
        "\t\t\tpip   install   numpy"
      ]
    },
    {
      "cell_type": "raw",
      "metadata": {
        "id": "Jwwdg9R9iIdj"
      },
      "source": [
        "\"ndarray\" is one of the pre-defined class of numpy module and\n",
        "whose object is used for storing the data in numpy programming\n",
        "in the form of 1-D, 2-D and n-Dimensional Arrays."
      ]
    },
    {
      "cell_type": "code",
      "execution_count": null,
      "metadata": {
        "id": "i8qsxiEiiIdl"
      },
      "outputs": [],
      "source": [
        "pip install numpy"
      ]
    },
    {
      "cell_type": "code",
      "execution_count": null,
      "metadata": {
        "id": "q0B80EnniIdo"
      },
      "outputs": [],
      "source": [
        "import numpy as np"
      ]
    },
    {
      "cell_type": "markdown",
      "metadata": {
        "id": "FWl9ZaLKiIdq"
      },
      "source": [
        "# Creating an Array"
      ]
    },
    {
      "cell_type": "code",
      "execution_count": null,
      "metadata": {
        "id": "-tBqPrmsiIds"
      },
      "outputs": [],
      "source": [
        "a = np.array([435,534,34,34,34,43])\n",
        "\n",
        "print(a,type(a))"
      ]
    },
    {
      "cell_type": "code",
      "execution_count": null,
      "metadata": {
        "id": "JKtV2Un1iIdt"
      },
      "outputs": [],
      "source": [
        "# converting list into array\n",
        "\n",
        "l1 = [10,20,30,40.65,\"dffd\",60]\n",
        "\n",
        "a = np.array(l1)\n",
        "\n",
        "print(a,type(a),a.dtype)"
      ]
    },
    {
      "cell_type": "code",
      "execution_count": null,
      "metadata": {
        "id": "tjnDbhXciIdv"
      },
      "outputs": [],
      "source": [
        "print(a)"
      ]
    },
    {
      "cell_type": "code",
      "execution_count": null,
      "metadata": {
        "id": "L_iLG0O1iIdw"
      },
      "outputs": [],
      "source": [
        "print(a.ndim)   #check dimension"
      ]
    },
    {
      "cell_type": "code",
      "execution_count": null,
      "metadata": {
        "id": "WtAT5kg1iIdy"
      },
      "outputs": [],
      "source": [
        "a = np.array([12,45,6,67,78,45])\n",
        "\n",
        "\n",
        "print(a,type(a))"
      ]
    },
    {
      "cell_type": "code",
      "execution_count": null,
      "metadata": {
        "id": "W3xAO4MtiId0"
      },
      "outputs": [],
      "source": [
        "# for checking the shape or values\n",
        "\n",
        "print(a.shape)"
      ]
    },
    {
      "cell_type": "code",
      "execution_count": null,
      "metadata": {
        "id": "5iQO9BsjiId1"
      },
      "outputs": [],
      "source": [
        "b = a.reshape(3,2)   # rows  # columns\n",
        "\n",
        "print(b)"
      ]
    },
    {
      "cell_type": "code",
      "execution_count": null,
      "metadata": {
        "id": "LXnlPYOIiId3"
      },
      "outputs": [],
      "source": [
        "b.ndim"
      ]
    },
    {
      "cell_type": "code",
      "execution_count": null,
      "metadata": {
        "id": "L19krF9xiId5"
      },
      "outputs": [],
      "source": [
        "b.shape"
      ]
    },
    {
      "cell_type": "markdown",
      "metadata": {
        "id": "BHRjsVVCiId6"
      },
      "source": [
        "# 2D"
      ]
    },
    {
      "cell_type": "code",
      "execution_count": null,
      "metadata": {
        "id": "0ui2Y7iEiId6"
      },
      "outputs": [],
      "source": [
        "list1 = [[234,34,55],[54,74,34],[34,65,34],[34,35,67]]\n",
        "\n",
        "# converting list to 2D\n",
        "ab = np.array(list1)\n",
        "\n",
        "print(ab)"
      ]
    },
    {
      "cell_type": "code",
      "execution_count": null,
      "metadata": {
        "id": "8ovbmRvgiId7"
      },
      "outputs": [],
      "source": [
        "ab.ndim"
      ]
    },
    {
      "cell_type": "code",
      "execution_count": null,
      "metadata": {
        "id": "MTJL0KKCiId8"
      },
      "outputs": [],
      "source": [
        "ab.shape"
      ]
    },
    {
      "cell_type": "code",
      "execution_count": null,
      "metadata": {
        "id": "yMrPew_oiId9"
      },
      "outputs": [],
      "source": [
        "print(ab.reshape(2,6))"
      ]
    },
    {
      "cell_type": "markdown",
      "metadata": {
        "id": "whra4rUkiId_"
      },
      "source": [
        "# indexing and scling in array"
      ]
    },
    {
      "cell_type": "code",
      "execution_count": null,
      "metadata": {
        "id": "skNqDtZQiId_"
      },
      "outputs": [],
      "source": [
        "a"
      ]
    },
    {
      "cell_type": "code",
      "execution_count": null,
      "metadata": {
        "id": "CGLltjowiIeA"
      },
      "outputs": [],
      "source": [
        "a[2]"
      ]
    },
    {
      "cell_type": "code",
      "execution_count": null,
      "metadata": {
        "id": "oMzcxip7iIeA"
      },
      "outputs": [],
      "source": [
        "a[-1]"
      ]
    },
    {
      "cell_type": "code",
      "execution_count": null,
      "metadata": {
        "id": "0hXhCa0BiIeA"
      },
      "outputs": [],
      "source": [
        "a[0]"
      ]
    },
    {
      "cell_type": "code",
      "execution_count": null,
      "metadata": {
        "id": "Ak5rd0QLiIeB"
      },
      "outputs": [],
      "source": [
        "a[2:4]    # 2,3"
      ]
    },
    {
      "cell_type": "code",
      "execution_count": null,
      "metadata": {
        "id": "WuGLtuZIiIeC"
      },
      "outputs": [],
      "source": [
        "a[:]"
      ]
    },
    {
      "cell_type": "code",
      "execution_count": null,
      "metadata": {
        "id": "ee6aN80ViIeD"
      },
      "outputs": [],
      "source": [
        "a[-4:-1]    #-4,-3,-2"
      ]
    },
    {
      "cell_type": "code",
      "execution_count": null,
      "metadata": {
        "id": "PzqcKiXziIeE"
      },
      "outputs": [],
      "source": [
        "a[2:8:2]"
      ]
    },
    {
      "cell_type": "code",
      "execution_count": null,
      "metadata": {
        "id": "sfaXmKrviIeE"
      },
      "outputs": [],
      "source": [
        "a[0:10:4]"
      ]
    },
    {
      "cell_type": "code",
      "execution_count": null,
      "metadata": {
        "id": "uqlI1UBCiIeG"
      },
      "outputs": [],
      "source": [
        "a"
      ]
    },
    {
      "cell_type": "code",
      "execution_count": null,
      "metadata": {
        "id": "2BRCAVnwiIeH"
      },
      "outputs": [],
      "source": [
        "a[0] = 100"
      ]
    },
    {
      "cell_type": "code",
      "execution_count": null,
      "metadata": {
        "id": "7Gz3vpi_iIeH"
      },
      "outputs": [],
      "source": [
        "a"
      ]
    },
    {
      "cell_type": "code",
      "execution_count": null,
      "metadata": {
        "id": "rK1UXJOBiIeI"
      },
      "outputs": [],
      "source": [
        "t2 = [[23,323],[34,34]]\n",
        "\n",
        "t1 = ((10,20),(30,40))\n",
        "\n",
        "print(t1,type(t1))\n",
        "\n",
        "a = np.array(t1)\n",
        "a"
      ]
    },
    {
      "cell_type": "code",
      "execution_count": null,
      "metadata": {
        "id": "pAeIJKzQiIeJ"
      },
      "outputs": [],
      "source": [
        "a.ndim"
      ]
    },
    {
      "cell_type": "code",
      "execution_count": null,
      "metadata": {
        "id": "75mqKx2fiIeJ"
      },
      "outputs": [],
      "source": [
        "a.shape"
      ]
    },
    {
      "cell_type": "code",
      "execution_count": null,
      "metadata": {
        "id": "uljeMJdBiIeK"
      },
      "outputs": [],
      "source": []
    },
    {
      "cell_type": "markdown",
      "metadata": {
        "id": "h7eyOJ41iIeK"
      },
      "source": [
        "# 3D"
      ]
    },
    {
      "cell_type": "code",
      "execution_count": null,
      "metadata": {
        "id": "aec6ScyliIeK"
      },
      "outputs": [],
      "source": [
        "t1 = ( ((10,20,15),(30,40,25)),( (50,60,18),(70,80,35) ))\n",
        "\n",
        "t2 = [[[34,345,44],[435,53,45]],[[45,5,454],[45,34,534]]]\n",
        "\n",
        "print(t1,type(t2))\n",
        "\n",
        "a=np.array(t2)\n",
        "\n",
        "print(a)"
      ]
    },
    {
      "cell_type": "code",
      "execution_count": null,
      "metadata": {
        "id": "2FXsLtEiiIeM"
      },
      "outputs": [],
      "source": [
        "a.ndim"
      ]
    },
    {
      "cell_type": "code",
      "execution_count": null,
      "metadata": {
        "id": "Oj5l0MK-iIeN"
      },
      "outputs": [],
      "source": [
        "a.shape   # 12   -  3,2,2"
      ]
    },
    {
      "cell_type": "code",
      "execution_count": null,
      "metadata": {
        "id": "6bpao1LbiIeN"
      },
      "outputs": [],
      "source": [
        "b = a.reshape(6,2)"
      ]
    },
    {
      "cell_type": "code",
      "execution_count": null,
      "metadata": {
        "id": "QptcFRILiIeO"
      },
      "outputs": [],
      "source": [
        "b"
      ]
    },
    {
      "cell_type": "code",
      "execution_count": null,
      "metadata": {
        "id": "xrF1VVueiIeP"
      },
      "outputs": [],
      "source": [
        "b.ndim"
      ]
    },
    {
      "cell_type": "markdown",
      "metadata": {
        "id": "nMZERB7hiIeP"
      },
      "source": [
        "# COPY"
      ]
    },
    {
      "cell_type": "code",
      "execution_count": null,
      "metadata": {
        "scrolled": true,
        "id": "2qQ64CFViIeQ"
      },
      "outputs": [],
      "source": [
        "arr = np.array([1, 2, 3, 4, 5])\n",
        "x = arr.copy()\n",
        "arr[0] = 42\n",
        "\n",
        "print(arr)\n",
        "print(x)"
      ]
    },
    {
      "cell_type": "markdown",
      "metadata": {
        "id": "oEVP5XudiIeR"
      },
      "source": [
        "# VIEW"
      ]
    },
    {
      "cell_type": "code",
      "execution_count": null,
      "metadata": {
        "id": "f0v6XDHBiIeR"
      },
      "outputs": [],
      "source": [
        "import numpy as np\n",
        "\n",
        "arr = np.array([1, 2, 3, 4, 5])\n",
        "x = arr.view()\n",
        "\n",
        "arr[0] = 42\n",
        "\n",
        "print(arr)\n",
        "print(x)"
      ]
    },
    {
      "cell_type": "code",
      "execution_count": null,
      "metadata": {
        "id": "e_tlv3oQiIeT"
      },
      "outputs": [],
      "source": [
        "The copy owns the data and any changes made to the copy will not affect original array, and any changes made to the original array will not affect the copy.\n",
        "\n",
        "The view does not own the data and any changes made to the view will affect the original array, and any changes made to the original array will affect the view."
      ]
    },
    {
      "cell_type": "markdown",
      "metadata": {
        "id": "fEEIk0cPiIeT"
      },
      "source": [
        "# Sort"
      ]
    },
    {
      "cell_type": "code",
      "execution_count": null,
      "metadata": {
        "id": "Qlfjd76tiIeU"
      },
      "outputs": [],
      "source": [
        "arr = np.array([1, 2, 3, 4, 5,4,5])\n",
        "\n",
        "arr.sort()\n",
        "\n",
        "arr"
      ]
    },
    {
      "cell_type": "code",
      "execution_count": null,
      "metadata": {
        "id": "YU1uR4GiiIeU"
      },
      "outputs": [],
      "source": [
        "list1 = [[234,34,55],[54,74,34]]\n",
        "\n",
        "\n",
        "a = np.array(list1)\n",
        "a.sort()\n",
        "\n",
        "print(a)"
      ]
    },
    {
      "cell_type": "markdown",
      "metadata": {
        "id": "VGVc0YhpiIeV"
      },
      "source": [
        "# arange()"
      ]
    },
    {
      "cell_type": "code",
      "execution_count": null,
      "metadata": {
        "id": "yrRw2RI7iIeW"
      },
      "outputs": [],
      "source": [
        "a = np.arange(10)  # 10 - end value\n",
        "\n",
        "print(a,type(a))"
      ]
    },
    {
      "cell_type": "code",
      "execution_count": null,
      "metadata": {
        "id": "zc1USMoZiIeX"
      },
      "outputs": [],
      "source": [
        "a.ndim"
      ]
    },
    {
      "cell_type": "code",
      "execution_count": null,
      "metadata": {
        "id": "SxJIPvoqiIeX"
      },
      "outputs": [],
      "source": [
        "a = np.arange(50,62)    # 50 - start    62-end\n",
        "a"
      ]
    },
    {
      "cell_type": "code",
      "execution_count": null,
      "metadata": {
        "id": "BgShyfB2iIeY"
      },
      "outputs": [],
      "source": [
        "a.ndim\n"
      ]
    },
    {
      "cell_type": "code",
      "execution_count": null,
      "metadata": {
        "id": "ybH9pomdiIeY"
      },
      "outputs": [],
      "source": [
        "a = np.arange(10,22,2) #10-  22  2 - step size\n",
        "a"
      ]
    },
    {
      "cell_type": "code",
      "execution_count": null,
      "metadata": {
        "id": "Tdo-CCZQiIeZ"
      },
      "outputs": [],
      "source": [
        "b = a.reshape(2,3)\n",
        "b"
      ]
    },
    {
      "cell_type": "code",
      "execution_count": null,
      "metadata": {
        "id": "kfEGwnpHiIeZ"
      },
      "outputs": [],
      "source": [
        "b.ndim"
      ]
    },
    {
      "cell_type": "code",
      "execution_count": null,
      "metadata": {
        "id": "YV-S0gBgiIea"
      },
      "outputs": [],
      "source": [
        "c= a.reshape(2,3,1)\n",
        "c"
      ]
    },
    {
      "cell_type": "code",
      "execution_count": null,
      "metadata": {
        "id": "6D7ttgvpiIea"
      },
      "outputs": [],
      "source": [
        "c.ndim"
      ]
    },
    {
      "cell_type": "code",
      "execution_count": null,
      "metadata": {
        "id": "XD7Nemn1iIeb"
      },
      "outputs": [],
      "source": [
        "c.shape"
      ]
    },
    {
      "cell_type": "markdown",
      "metadata": {
        "id": "H-e5fQseiIec"
      },
      "source": [
        "# isin()"
      ]
    },
    {
      "cell_type": "code",
      "execution_count": null,
      "metadata": {
        "id": "yPd21KntiIec"
      },
      "outputs": [],
      "source": [
        "To check any value is present or not in the array"
      ]
    },
    {
      "cell_type": "code",
      "execution_count": null,
      "metadata": {
        "id": "APS2FZ_5iIec"
      },
      "outputs": [],
      "source": [
        "list1 = [[234,34,55],[54,74,34]]\n",
        "\n",
        "a = np.array(list1)\n",
        "\n",
        "b = np.isin(34,a)\n",
        "\n",
        "b"
      ]
    },
    {
      "cell_type": "markdown",
      "metadata": {
        "id": "b95J3WPuiIed"
      },
      "source": [
        "# where()"
      ]
    },
    {
      "cell_type": "code",
      "execution_count": null,
      "metadata": {
        "id": "QyRG4Ow3iIed"
      },
      "outputs": [],
      "source": [
        "It is used to find the index number of any value"
      ]
    },
    {
      "cell_type": "code",
      "execution_count": null,
      "metadata": {
        "id": "P-b1FZc0iIee"
      },
      "outputs": [],
      "source": [
        "arr = np.array([1, 2, 3, 4, 5,4,5])\n",
        "\n",
        "n = 3\n",
        "\n",
        "b =  np.where(arr == n)\n",
        "\n",
        "b"
      ]
    },
    {
      "cell_type": "code",
      "execution_count": null,
      "metadata": {
        "id": "SzKRrOwuiIee"
      },
      "outputs": [],
      "source": [
        "list1 = [[234,34,55],[54,74,34]]\n",
        "\n",
        "a = np.array(list1)\n",
        "\n",
        "n = 34\n",
        "\n",
        "b = np.where(a == n)\n",
        "\n",
        "b"
      ]
    },
    {
      "cell_type": "code",
      "execution_count": null,
      "metadata": {
        "id": "6l2wDM25iIef"
      },
      "outputs": [],
      "source": [
        "a"
      ]
    },
    {
      "cell_type": "markdown",
      "metadata": {
        "id": "mehK6krBiIef"
      },
      "source": [
        "# zeros()"
      ]
    },
    {
      "cell_type": "code",
      "execution_count": null,
      "metadata": {
        "id": "jU6HZON0iIef"
      },
      "outputs": [],
      "source": [
        "a = np.zeros(5)\n",
        "print(a)"
      ]
    },
    {
      "cell_type": "code",
      "execution_count": null,
      "metadata": {
        "id": "Os4771_biIef"
      },
      "outputs": [],
      "source": [
        "a.ndim"
      ]
    },
    {
      "cell_type": "code",
      "execution_count": null,
      "metadata": {
        "id": "TITam_iLiIeg"
      },
      "outputs": [],
      "source": [
        "a = np.zeros((3,3))\n",
        "a"
      ]
    },
    {
      "cell_type": "code",
      "execution_count": null,
      "metadata": {
        "id": "r2IvIISriIeg"
      },
      "outputs": [],
      "source": [
        "a.ndim"
      ]
    },
    {
      "cell_type": "code",
      "execution_count": null,
      "metadata": {
        "id": "D6nSHd13iIeg"
      },
      "outputs": [],
      "source": [
        "a=np.zeros((2,3), dtype=int)\n",
        "a"
      ]
    },
    {
      "cell_type": "markdown",
      "metadata": {
        "id": "TI2XCsnPiIeh"
      },
      "source": [
        "# ones()"
      ]
    },
    {
      "cell_type": "code",
      "execution_count": null,
      "metadata": {
        "id": "XcVgAw5xiIeh"
      },
      "outputs": [],
      "source": [
        "a = np.ones(12)\n",
        "a"
      ]
    },
    {
      "cell_type": "code",
      "execution_count": null,
      "metadata": {
        "id": "UMXD5fXgiIei"
      },
      "outputs": [],
      "source": [
        "a.reshape(3,4)"
      ]
    },
    {
      "cell_type": "code",
      "execution_count": null,
      "metadata": {
        "id": "svclZJqjiIei"
      },
      "outputs": [],
      "source": [
        "a = np.ones((4,5), dtype=int)\n",
        "a"
      ]
    },
    {
      "cell_type": "code",
      "execution_count": null,
      "metadata": {
        "id": "0UzxQMx3iIej"
      },
      "outputs": [],
      "source": [
        "a.reshape(2,5,2)"
      ]
    },
    {
      "cell_type": "markdown",
      "metadata": {
        "id": "7yTEEk3xiIej"
      },
      "source": [
        "# Numpy--Arithmetic Operations (OR) Matrix Operations"
      ]
    },
    {
      "cell_type": "raw",
      "metadata": {
        "id": "x0hnZ9ReiIek"
      },
      "source": [
        "=>On the objects of ndarray, we can apply all types of Arithmetic Operators.\n",
        "=>To perform Arithmetic Operations on the objects of ndarray in numpy programming,\n",
        "we use the following functions.\n",
        "\n",
        "\t\ta) add()\n",
        "\t\tb) subtract()\n",
        "\t\tc) multiply()\n",
        "\t\td) power()\n",
        "\t\te) divide()\n",
        "\t\tf) floor_divide()\n",
        "\t\tg) mod()\n",
        "\n",
        "=>All the arithmetic Functions can also be perfomed w.r.t Arithmetic Operators.\n",
        "=>All these Arithmetic Operations are called Matrix Operations."
      ]
    },
    {
      "cell_type": "raw",
      "metadata": {
        "id": "zloJ6xkKiIek"
      },
      "source": [
        "a) add():\n",
        "--------------\n",
        "Syntax:-    varname = numpy.add(ndarrayobj1, ndarrayobj2)\n",
        "=>This function is used for adding elements of\n",
        "ndarrayobj1, ndarrayobj2 and result can be displayed\n"
      ]
    },
    {
      "cell_type": "code",
      "execution_count": null,
      "metadata": {
        "id": "WFtn-LZHiIel",
        "outputId": "14646a1c-4739-4d8b-d702-d1cac7524be1"
      },
      "outputs": [
        {
          "name": "stdout",
          "output_type": "stream",
          "text": [
            "[11 22 33 44]\n"
          ]
        }
      ],
      "source": [
        "# 1D array\n",
        "\n",
        "a = np.array([10,20,30,40])\n",
        "b = np.array([1,2,3,4])\n",
        "\n",
        "d = np.add(a,b)\n",
        "\n",
        "print(d)"
      ]
    },
    {
      "cell_type": "code",
      "execution_count": null,
      "metadata": {
        "id": "171UV94qiIem",
        "outputId": "fad1045b-8e88-485b-aaf2-74b4083d9524"
      },
      "outputs": [
        {
          "name": "stdout",
          "output_type": "stream",
          "text": [
            "[[11 22]\n",
            " [33 44]]\n"
          ]
        }
      ],
      "source": [
        "# 2d array\n",
        "\n",
        "a = np.array([[10,20],[30,40]])\n",
        "b = np.array([[1,2],[3,4]])\n",
        "\n",
        "d = np.add(a,b)\n",
        "\n",
        "print(d)"
      ]
    },
    {
      "cell_type": "code",
      "execution_count": null,
      "metadata": {
        "id": "S4useSpBiIen"
      },
      "outputs": [],
      "source": [
        "d.ndim"
      ]
    },
    {
      "cell_type": "code",
      "execution_count": null,
      "metadata": {
        "id": "uKG2_0VWiIeo",
        "outputId": "63d06490-5a58-4456-b952-3fb097107d3f"
      },
      "outputs": [
        {
          "name": "stdout",
          "output_type": "stream",
          "text": [
            "[[11 22]\n",
            " [33 44]] <class 'numpy.ndarray'>\n"
          ]
        }
      ],
      "source": [
        "# arth oper\n",
        "\n",
        "a = np.array([[10,20],[30,40]])\n",
        "b = np.array([[1,2],[3,4]])\n",
        "\n",
        "#print(a)\n",
        "#print(b)\n",
        "\n",
        "c = a + b\n",
        "\n",
        "print(c,type(c))\n",
        "\n"
      ]
    },
    {
      "cell_type": "raw",
      "metadata": {
        "id": "_cz6PLbhiIeo"
      },
      "source": [
        "b) subtract()\n",
        "------------------------------\n",
        "Syntax:-    varname = numpy.subtract(ndarrayobj1, ndarrayobj2)\n",
        "=>This function is used for subtracting elements of ndarrayobj1, ndarrayobj2 and result can be displayed"
      ]
    },
    {
      "cell_type": "code",
      "execution_count": null,
      "metadata": {
        "id": "A16EhKDoiIeo",
        "outputId": "936de771-cdbf-4b8d-c96d-645ad4324366"
      },
      "outputs": [
        {
          "name": "stdout",
          "output_type": "stream",
          "text": [
            "[[ 9 18]\n",
            " [27 36]\n",
            " [29 50]]\n"
          ]
        }
      ],
      "source": [
        "a = np.array([[10,20],[30,40],[34,56]])\n",
        "b = np.array([[1,2],[3,4],[5,6]])\n",
        "\n",
        "#print(a)\n",
        "#print(b)\n",
        "\n",
        "c = np.subtract(a,b)\n",
        "\n",
        "print(c)"
      ]
    },
    {
      "cell_type": "code",
      "execution_count": null,
      "metadata": {
        "id": "VLrjBCNJiIep",
        "outputId": "d3fd18e9-036c-437c-b4c2-3f8e437497b3"
      },
      "outputs": [
        {
          "name": "stdout",
          "output_type": "stream",
          "text": [
            "[[ 9 18]\n",
            " [27 36]\n",
            " [29 50]] <class 'numpy.ndarray'>\n"
          ]
        }
      ],
      "source": [
        "a = np.array([[10,20],[30,40],[34,56]])\n",
        "b = np.array([[1,2],[3,4],[5,6]])\n",
        "\n",
        "#print(a)\n",
        "#print(b)\n",
        "\n",
        "c = a - b\n",
        "\n",
        "print(c,type(c))\n",
        "\n"
      ]
    },
    {
      "cell_type": "raw",
      "metadata": {
        "id": "FYhZtwQHiIeq"
      },
      "source": [
        "c) multiply():\n",
        "-----------------------\n",
        "Syntax:-    varname = numpy.multiply(ndarrayobj1, ndarrayobj2)\n",
        "=>This function is used for performing element-wise multiplication of ndarrayobj1, ndarrayobj2 and result can be displayed"
      ]
    },
    {
      "cell_type": "code",
      "execution_count": null,
      "metadata": {
        "id": "nFcpadf6iIeq",
        "outputId": "f3f173d9-4ec8-414b-d3b9-efcf5d56744f"
      },
      "outputs": [
        {
          "name": "stdout",
          "output_type": "stream",
          "text": [
            "[[ 10  40]\n",
            " [ 90 160]]\n"
          ]
        }
      ],
      "source": [
        "a = np.array([[10,20],[30,40]])\n",
        "b = np.array([[1,2],[3,4]])\n",
        "\n",
        "#print(a)\n",
        "#print(b)\n",
        "\n",
        "c = np.multiply(a,b)\n",
        "\n",
        "print(c)"
      ]
    },
    {
      "cell_type": "code",
      "execution_count": null,
      "metadata": {
        "id": "0e2MVCeWiIer",
        "outputId": "35952df6-d851-4839-a365-f2d8fe6bbda9"
      },
      "outputs": [
        {
          "name": "stdout",
          "output_type": "stream",
          "text": [
            "[[ 10  40]\n",
            " [ 90 160]]\n"
          ]
        }
      ],
      "source": [
        "a = np.array([[10,20],[30,40]])\n",
        "b = np.array([[1,2],[3,4]])\n",
        "\n",
        "#print(a)\n",
        "#print(b)\n",
        "\n",
        "c = a * b\n",
        "\n",
        "print(c)"
      ]
    },
    {
      "cell_type": "raw",
      "metadata": {
        "id": "DaeV9JcQiIer"
      },
      "source": [
        "e) divide()\n",
        "-----------------------------------\n",
        "Syntax:-    varname=numpy.divide(ndarray1,ndarry2)\n",
        "=>This function is used for performing element-wise division of ndarrayobj1, ndarrayobj2 and result can be displayed"
      ]
    },
    {
      "cell_type": "code",
      "execution_count": null,
      "metadata": {
        "id": "bnTzojlKiIes",
        "outputId": "cff7317b-c8b3-495a-e1cf-83e8eddc5ddd"
      },
      "outputs": [
        {
          "name": "stdout",
          "output_type": "stream",
          "text": [
            "[[10. 10.]\n",
            " [10. 10.]]\n"
          ]
        }
      ],
      "source": [
        "a = np.array([[10,20],[30,40]])\n",
        "b = np.array([[1,2],[3,4]])\n",
        "\n",
        "#print(a)\n",
        "#print(b)\n",
        "\n",
        "c = np.divide(a,b)\n",
        "\n",
        "print(c)"
      ]
    },
    {
      "cell_type": "code",
      "execution_count": null,
      "metadata": {
        "id": "fYgQljgSiIes",
        "outputId": "4b3dab9f-d510-4a3c-9570-bd5bfdcd7a8e"
      },
      "outputs": [
        {
          "name": "stdout",
          "output_type": "stream",
          "text": [
            "[[10. 10.]\n",
            " [10. 10.]]\n"
          ]
        }
      ],
      "source": [
        "c = a / b\n",
        "\n",
        "print(c)"
      ]
    },
    {
      "cell_type": "code",
      "execution_count": null,
      "metadata": {
        "id": "2HPWdUYziIet"
      },
      "outputs": [],
      "source": [
        "40/4"
      ]
    },
    {
      "cell_type": "raw",
      "metadata": {
        "id": "qh5J0YePiIeu"
      },
      "source": [
        "f) floor_divide()\n",
        "-----------------------------------\n",
        "Syntax:-    varname=numpy.floor_divide(ndarray1,ndarry2)\n",
        "=>This function is used for performing element-wise floor division of ndarrayobj1, ndarrayobj2 and result can be displayed"
      ]
    },
    {
      "cell_type": "code",
      "execution_count": null,
      "metadata": {
        "id": "M3CgQfWdiIev",
        "outputId": "302b024b-6db2-4fd1-bb59-aba59f115d9f"
      },
      "outputs": [
        {
          "name": "stdout",
          "output_type": "stream",
          "text": [
            "[[10 10]\n",
            " [10 10]]\n"
          ]
        }
      ],
      "source": [
        "a = np.array([[10,20],[30,40]])\n",
        "b = np.array([[1,2],[3,4]])\n",
        "\n",
        "#print(a)\n",
        "#print(b)\n",
        "\n",
        "c = np.floor_divide(a,b)\n",
        "\n",
        "print(c)"
      ]
    },
    {
      "cell_type": "code",
      "execution_count": null,
      "metadata": {
        "id": "5Yo4BshWiIev",
        "outputId": "8edd0f3a-407a-4d00-fdc1-3e8055a3689d"
      },
      "outputs": [
        {
          "name": "stdout",
          "output_type": "stream",
          "text": [
            "[[10 10]\n",
            " [10 10]]\n"
          ]
        }
      ],
      "source": [
        "d = a // b\n",
        "\n",
        "print(d)"
      ]
    },
    {
      "cell_type": "raw",
      "metadata": {
        "id": "NH1IMs6JiIew"
      },
      "source": [
        "g) mod()\n",
        "-------------------------------\n",
        "Syntax:-    varname=numpy.mod(ndarray1,ndarry2)\n",
        "=>This function is used for performing element-wise modulo division of ndarrayobj1, ndarrayobj2 and result can be displayed"
      ]
    },
    {
      "cell_type": "code",
      "execution_count": null,
      "metadata": {
        "id": "8SycARpMiIew",
        "outputId": "31b8c4a1-7658-4962-c153-38c5c61638e5"
      },
      "outputs": [
        {
          "name": "stdout",
          "output_type": "stream",
          "text": [
            "[[0 1]\n",
            " [0 0]]\n"
          ]
        }
      ],
      "source": [
        "a = np.array([[11,3],[30,40]])\n",
        "b = np.array([[1,2],[3,4]])\n",
        "\n",
        "#print(a)\n",
        "#print(b)\n",
        "\n",
        "c = np.mod(a,b)\n",
        "\n",
        "print(c)"
      ]
    },
    {
      "cell_type": "code",
      "execution_count": null,
      "metadata": {
        "id": "vxdIoX5KiIex",
        "outputId": "ef21c345-016d-4369-a64b-f63d19f430b9"
      },
      "outputs": [
        {
          "name": "stdout",
          "output_type": "stream",
          "text": [
            "[[0 1]\n",
            " [0 0]]\n"
          ]
        }
      ],
      "source": [
        "a = np.array([[11,3],[30,40]])\n",
        "b = np.array([[1,2],[3,4]])\n",
        "\n",
        "\n",
        "c = a % b\n",
        "\n",
        "print(c)"
      ]
    },
    {
      "cell_type": "code",
      "execution_count": null,
      "metadata": {
        "id": "rOjTGdcJiIex"
      },
      "outputs": [],
      "source": [
        "40 % 4"
      ]
    },
    {
      "cell_type": "code",
      "execution_count": null,
      "metadata": {
        "id": "J3nDfCM0iIex"
      },
      "outputs": [],
      "source": []
    },
    {
      "cell_type": "raw",
      "metadata": {
        "id": "fbbueuRuiIey"
      },
      "source": [
        "h) power():\n",
        "---------------------------------------\n",
        "Syntax:-    varname=numpy.power(ndarray1,ndarry2)\n",
        "=>This function is used for performing element-wise exponential of ndarrayobj1, ndarrayobj2 and result can be displayed"
      ]
    },
    {
      "cell_type": "code",
      "execution_count": null,
      "metadata": {
        "id": "A-L7hCPEiIey",
        "outputId": "151c9c04-dd70-477f-973e-06f685455299"
      },
      "outputs": [
        {
          "name": "stdout",
          "output_type": "stream",
          "text": [
            "[[     10     400]\n",
            " [  27000 2560000]]\n"
          ]
        }
      ],
      "source": [
        "a = np.array([[10,20],[30,40]])\n",
        "b = np.array([[1,2],[3,4]])\n",
        "\n",
        "#print(a)\n",
        "#print(b)\n",
        "\n",
        "c = np.power(a,b)\n",
        "\n",
        "print(c)"
      ]
    },
    {
      "cell_type": "code",
      "execution_count": null,
      "metadata": {
        "id": "mReIuloZiIey",
        "outputId": "8ab0a97d-5277-4098-e277-a250bf3acf9f"
      },
      "outputs": [
        {
          "name": "stdout",
          "output_type": "stream",
          "text": [
            "[[     10     400]\n",
            " [  27000 2560000]]\n"
          ]
        }
      ],
      "source": [
        "a = np.array([[10,20],[30,40]])\n",
        "b = np.array([[1,2],[3,4]])\n",
        "\n",
        "\n",
        "c = a ** b\n",
        "\n",
        "print(c)"
      ]
    },
    {
      "cell_type": "code",
      "execution_count": null,
      "metadata": {
        "id": "bIPgKz_7iIez"
      },
      "outputs": [],
      "source": [
        "10**1"
      ]
    },
    {
      "cell_type": "code",
      "execution_count": null,
      "metadata": {
        "id": "uri7oUs_iIez"
      },
      "outputs": [],
      "source": [
        "# 20 **2 = 20 * 20\n",
        "\n",
        "#20 ** 2\n",
        "\n",
        "40 * 40 * 40 * 40"
      ]
    },
    {
      "cell_type": "code",
      "execution_count": null,
      "metadata": {
        "id": "uXs3CdBWiIez"
      },
      "outputs": [],
      "source": [
        "# 30 ** 3 = 30 * 30 * 30"
      ]
    },
    {
      "cell_type": "code",
      "execution_count": null,
      "metadata": {
        "id": "t7vdSFOLiIe0"
      },
      "outputs": [],
      "source": [
        "30 ** 3"
      ]
    },
    {
      "cell_type": "markdown",
      "metadata": {
        "id": "pur-KW5siIe0"
      },
      "source": [
        "# 1D, 2D, 3D"
      ]
    },
    {
      "cell_type": "code",
      "execution_count": null,
      "metadata": {
        "id": "jjvrzjTwiIe0",
        "outputId": "e1e041ac-e0f8-4b95-b0fd-ca17dad0e741"
      },
      "outputs": [
        {
          "name": "stdout",
          "output_type": "stream",
          "text": [
            "[[34 76 76]\n",
            " [65 76 65]]\n"
          ]
        }
      ],
      "source": [
        "_1d = [54,54,67,766,676]\n",
        "\n",
        "_2d = [[34,76,76],[65,76,65]]\n",
        "\n",
        "_3d = [[[34,23],[435,322]],[[67,86],[76,44]]]\n",
        "\n",
        "\n",
        "#print(_3d, type(_3d))\n",
        "\n",
        "a = np.array(_3d)\n",
        "b = np.array(_2d)\n",
        "\n",
        "\n",
        "#print(a, type(a))\n",
        "\n",
        "\n",
        "print(b)\n"
      ]
    },
    {
      "cell_type": "code",
      "execution_count": null,
      "metadata": {
        "id": "0dk7cu8jiIe1"
      },
      "outputs": [],
      "source": [
        "d.shape"
      ]
    },
    {
      "cell_type": "code",
      "execution_count": null,
      "metadata": {
        "id": "AxEdLjE2iIe1"
      },
      "outputs": [],
      "source": [
        "d = d.reshape(2,4)\n",
        "d"
      ]
    },
    {
      "cell_type": "code",
      "execution_count": null,
      "metadata": {
        "id": "OGbSojukiIe1"
      },
      "outputs": [],
      "source": [
        "d.ndim\n"
      ]
    },
    {
      "cell_type": "code",
      "execution_count": null,
      "metadata": {
        "id": "6dfnskoyiIe2"
      },
      "outputs": [],
      "source": []
    },
    {
      "cell_type": "code",
      "execution_count": null,
      "metadata": {
        "id": "vGa4vY6XiIe2"
      },
      "outputs": [],
      "source": []
    },
    {
      "cell_type": "code",
      "execution_count": null,
      "metadata": {
        "id": "CgDydnZ1iIe2"
      },
      "outputs": [],
      "source": []
    }
  ],
  "metadata": {
    "kernelspec": {
      "display_name": "Python 3",
      "language": "python",
      "name": "python3"
    },
    "language_info": {
      "codemirror_mode": {
        "name": "ipython",
        "version": 3
      },
      "file_extension": ".py",
      "mimetype": "text/x-python",
      "name": "python",
      "nbconvert_exporter": "python",
      "pygments_lexer": "ipython3",
      "version": "3.8.5"
    },
    "colab": {
      "provenance": [],
      "include_colab_link": true
    }
  },
  "nbformat": 4,
  "nbformat_minor": 0
}