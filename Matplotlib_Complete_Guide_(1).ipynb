{
  "cells": [
    {
      "cell_type": "markdown",
      "metadata": {
        "id": "view-in-github",
        "colab_type": "text"
      },
      "source": [
        "<a href=\"https://colab.research.google.com/github/mdfazalm/Python/blob/main/Matplotlib_Complete_Guide_(1).ipynb\" target=\"_parent\"><img src=\"https://colab.research.google.com/assets/colab-badge.svg\" alt=\"Open In Colab\"/></a>"
      ]
    },
    {
      "cell_type": "code",
      "execution_count": null,
      "metadata": {
        "id": "5gbe2NeLfwCT"
      },
      "outputs": [],
      "source": [
        "pip install matplotlib"
      ]
    },
    {
      "cell_type": "code",
      "execution_count": null,
      "metadata": {
        "id": "5X5QO_pzpydg"
      },
      "outputs": [],
      "source": [
        "# import pandas as pd\n",
        "#import numpy as np\n",
        "import matplotlib.pyplot as plt"
      ]
    },
    {
      "cell_type": "markdown",
      "metadata": {
        "id": "OU4CZmQofwCc"
      },
      "source": [
        "## Table of Contents"
      ]
    },
    {
      "cell_type": "raw",
      "metadata": {
        "id": "4OyGrzqffwCh"
      },
      "source": [
        "1.Basic Plotting\n",
        "    - 1.1 Creating Simple Line Plots\n",
        "    - 1.2 Customization options for labels, colors, and styles\n",
        "    - 1.3 Saving Matplotlib plots as image files"
      ]
    },
    {
      "cell_type": "raw",
      "metadata": {
        "id": "26gKqueIfwCj"
      },
      "source": [
        "2.Plot Types\n",
        "    - 2.1 Bar Chart\n",
        "    - 2.2 Histograms\n",
        "    - 2.3 Scatter plots\n",
        "    - 2.4 Pie Charts\n",
        "    - 2.5 Box Plot (Box and Whisker Plot)\n",
        "    - 2.6 Heatmap, and Displaying Images\n",
        "    - 2.7 Stack Plot"
      ]
    },
    {
      "cell_type": "markdown",
      "metadata": {
        "id": "Xsph4g8nM2GE"
      },
      "source": [
        "## 1.1 Creating Simple Line Plots"
      ]
    },
    {
      "cell_type": "raw",
      "metadata": {
        "id": "8U-BEqf2-HwS"
      },
      "source": [
        "As the name suggests, data points are connected by straight lines\n",
        "which are useful for displaying data that varies continuously\n",
        "over a range, making it easy to identify patterns and trends.\n",
        "Use `plt.plot(x,y)` for a simple line plot, and `plt.show()` to show the plot."
      ]
    },
    {
      "cell_type": "code",
      "execution_count": null,
      "metadata": {
        "id": "QAya1QDiDIaP"
      },
      "outputs": [],
      "source": [
        "# Sample data representing monthly website traffic (in thousands)\n",
        "\n",
        "months = ['Jan', 'Feb', 'Mar', 'Apr', 'May', 'Jun']\n",
        "traffic = [150, 200, 180, 220, 250, 210]\n",
        "\n",
        "\n",
        "# Create a line plot\n",
        "plt.plot(months, traffic)\n",
        "\n",
        "plt.show()"
      ]
    },
    {
      "cell_type": "markdown",
      "metadata": {
        "id": "owRNRb0G-SPS"
      },
      "source": [
        "- But as we can see, it doesn’t have any labels or titles as such."
      ]
    },
    {
      "cell_type": "markdown",
      "metadata": {
        "id": "-NbuHmGwM49r"
      },
      "source": [
        "## 1.2 Adding Labels and Titles"
      ]
    },
    {
      "cell_type": "markdown",
      "metadata": {
        "id": "e5sPUnfy-Vip"
      },
      "source": [
        "We can convey the information with much clarity by customizing the plots. Matplotlib offers numerous customization options, allowing you to control color, line style, markers, and more.\n",
        "\n"
      ]
    },
    {
      "cell_type": "code",
      "execution_count": null,
      "metadata": {
        "id": "dAlf9ruKHS7J"
      },
      "outputs": [],
      "source": [
        "\n",
        "# Sample data representing monthly website traffic (in thousands)\n",
        "months = ['Jan', 'Feb', 'Mar', 'Apr', 'May', 'Jun']\n",
        "traffic = [150, 200, 180, 220, 250, 210]\n",
        "\n",
        "# Create a line plot\n",
        "plt.plot(months, traffic)\n",
        "\n",
        "# Add labels and a title\n",
        "plt.xlabel('Month')\n",
        "plt.ylabel(' Traffic')\n",
        "plt.title('Monthly Website Traffic')\n",
        "\n",
        "# Display the plot\n",
        "plt.show()\n"
      ]
    },
    {
      "cell_type": "markdown",
      "metadata": {
        "id": "tPpr7fyx-cB7"
      },
      "source": [
        "**Note:** Remember that plt.show() should always be at the end of your plot settings. If you give label commands after the plt.show()then they won’t be displayed!"
      ]
    },
    {
      "cell_type": "markdown",
      "metadata": {
        "id": "zTyU1grKQnw8"
      },
      "source": [
        "## 1.3 Customizing the plot"
      ]
    },
    {
      "cell_type": "markdown",
      "metadata": {
        "id": "gfmPR5px-ieK"
      },
      "source": [
        "Use the parameter `marker` to mark the points, linetsyle to change the styling of line, and add grid to the plots by using `plt.grid(True)`"
      ]
    },
    {
      "cell_type": "markdown",
      "metadata": {
        "id": "wrRWTl3WxuvM"
      },
      "source": [
        "### Adding styles to the graph"
      ]
    },
    {
      "cell_type": "code",
      "execution_count": null,
      "metadata": {
        "id": "3nc-bbqiO9P4",
        "scrolled": true
      },
      "outputs": [],
      "source": [
        "# Create a line plot with custom appearance\n",
        "\n",
        "plt.plot(months, traffic, marker='s',markersize=8, color = 'g',linestyle='--')\n",
        "\n",
        "# Add labels and a title\n",
        "plt.xlabel('Month')\n",
        "plt.ylabel('Monthly Traffic (in Thousands)')\n",
        "plt.title('Monthly Website Traffic')\n",
        "\n",
        "plt.grid()\n",
        "\n",
        "# Display the plot\n",
        "plt.show()"
      ]
    },
    {
      "cell_type": "markdown",
      "metadata": {
        "id": "TPNa2ZKbVZ9J"
      },
      "source": [
        "## 1.4 Multiple Line Plot"
      ]
    },
    {
      "cell_type": "markdown",
      "metadata": {
        "id": "gMp0H3dHVyJd"
      },
      "source": [
        "- In the case of plotting multiple lines in the same graph, You can do so by using the plot command two times for the variables you want. But the issue is to differentiate them properly, for this, we have a parameter called a label , along with that you also need to use plt.legend()"
      ]
    },
    {
      "cell_type": "code",
      "execution_count": null,
      "metadata": {
        "id": "13wUbpw4QzzP"
      },
      "outputs": [],
      "source": [
        "# Sample data for two products' monthly revenue (in thousands of dollars)\n",
        "months = ['Jan', 'Feb', 'Mar', 'Apr', 'May', 'Jun']\n",
        "product_a_revenue = [45, 55, 60, 70, 80, 75]\n",
        "product_b_revenue = [35, 40, 50, 100, 70, 68]\n",
        "\n",
        "# Create a line plot for Product A with a blue line and circular markers\n",
        "plt.plot(months, product_a_revenue, marker='o', linestyle='-',\n",
        "         color='blue', label='Product A')\n",
        "\n",
        "# Create a line plot for Product B with a red dashed line and square markers\n",
        "plt.plot(months, product_b_revenue, marker='s', linestyle='--',\n",
        "         color='red', label='Product B')\n",
        "\n",
        "# Add labels and a title\n",
        "plt.xlabel('Month')\n",
        "plt.ylabel('Monthly Revenue (in $1000)')\n",
        "plt.title('Monthly Revenue Comparison')\n",
        "\n",
        "# Display a legend to differentiate between Product A and Product B\n",
        "plt.legend()\n",
        "\n",
        "# Display the plot\n",
        "plt.show()"
      ]
    },
    {
      "cell_type": "markdown",
      "metadata": {
        "id": "EiSzmAkDqo_M"
      },
      "source": [
        "## 1.5 Saving the plot as an image"
      ]
    },
    {
      "cell_type": "markdown",
      "metadata": {
        "id": "ZvF98K7lAJ-t"
      },
      "source": [
        "**In Jupyter Notebook:** When working in Jupyter Notebook if you wish to save the plot as an image file, you have to use `plt.savefig(path/to/directory/plot_name.png)` . You can specify the complete file path, and you can specify the desired file name and format( Eg: .jpg, .png, .pdf )"
      ]
    },
    {
      "cell_type": "code",
      "execution_count": null,
      "metadata": {
        "id": "9WG4NeGHVvaI"
      },
      "outputs": [],
      "source": [
        "# Create a line plot with custom appearance\n",
        "plt.plot(months, traffic, marker='o', linestyle='--', color='g')\n",
        "\n",
        "# Add labels and a title\n",
        "plt.xlabel('Month')\n",
        "plt.ylabel('Monthly Traffic (in Thousands)')\n",
        "plt.title('Monthly Website Traffic')\n",
        "\n",
        "# Save the plot as an image file in Colab\n",
        "\n",
        "plt.savefig('pythonlinechart32')  # Specify the complete file path\n",
        "#plt.grid()\n",
        "# Display the plot\n",
        "plt.show()"
      ]
    },
    {
      "cell_type": "code",
      "execution_count": null,
      "metadata": {
        "id": "UcT7SY_IfwC8"
      },
      "outputs": [],
      "source": [
        "import os\n",
        "\n",
        "\n",
        "os.getcwd()"
      ]
    },
    {
      "cell_type": "markdown",
      "metadata": {
        "id": "RiucDt3x__xd"
      },
      "source": [
        "It will be saved now :)"
      ]
    },
    {
      "cell_type": "markdown",
      "metadata": {
        "id": "jQwsqXUf-ZSJ"
      },
      "source": [
        "# 2-Plot Types"
      ]
    },
    {
      "cell_type": "markdown",
      "metadata": {
        "id": "zSu1jq3CAe1s"
      },
      "source": [
        "We have seen the basic line plot in the previous section, but Matplotlib has a lot more kinds of plots to offer such as Bar Charts, Histograms, Scatter Plots, Pie Charts, Box Plot (Box and whisker Plot), Heatmaps, Displaying images, etc. Now, Let’s understand when to use them along with a few use cases."
      ]
    },
    {
      "cell_type": "markdown",
      "metadata": {
        "id": "z_P8zYiq-cFW"
      },
      "source": [
        "## 2.1 Bar Plots"
      ]
    },
    {
      "cell_type": "markdown",
      "metadata": {
        "id": "3Goly3UHAivb"
      },
      "source": [
        "Bar charts represent categorical data with rectangular bars, where the length or height of each bar represents a value. You can use the command plt.bar(x,y) to generate vertical bar charts and plt.barh(x,y) for horizontal bar charts.\n"
      ]
    },
    {
      "cell_type": "code",
      "execution_count": null,
      "metadata": {
        "id": "RekZEg6aqwr1"
      },
      "outputs": [],
      "source": [
        "import matplotlib.pyplot as plt\n",
        "\n",
        "# Sample data\n",
        "categories = ['Category A', 'Category B', 'Category C', 'Category D']\n",
        "values = [20, 35, 30, 25]\n",
        "\n",
        "# Create a bar plot\n",
        "\n",
        "plt.bar(categories, values,color='green')\n",
        "\n",
        "# Add labels and a title\n",
        "plt.xlabel('Categories')\n",
        "plt.ylabel('Values')\n",
        "plt.title('Bar Plot Example')\n",
        "\n",
        "# Display the plot\n",
        "plt.show()\n"
      ]
    },
    {
      "cell_type": "code",
      "execution_count": null,
      "metadata": {
        "id": "qTi6D1lIfwDA"
      },
      "outputs": [],
      "source": [
        "\n",
        "import matplotlib.pyplot as plt\n",
        "\n",
        "# Sample data\n",
        "categories = ['Category A', 'Category B', 'Category C', 'Category D']\n",
        "values = [20, 35, 30, 25]\n",
        "\n",
        "# Create a bar plot\n",
        "plt.barh(categories, values)\n",
        "\n",
        "# Add labels and a title\n",
        "plt.xlabel('Categories')\n",
        "plt.ylabel('Values')\n",
        "plt.title('Bar Plot Example')\n",
        "\n",
        "# Display the plot\n",
        "plt.show()\n"
      ]
    },
    {
      "cell_type": "code",
      "execution_count": null,
      "metadata": {
        "id": "-nHMd6opfwDC"
      },
      "outputs": [],
      "source": [
        "import pandas as pd\n",
        "\n",
        "df = pd.read_csv(r\"C:\\Users\\Lenovo\\Desktop\\IPL_Matches.csv\")\n",
        "df"
      ]
    },
    {
      "cell_type": "code",
      "execution_count": null,
      "metadata": {
        "id": "aft_SQiPfwDD"
      },
      "outputs": [],
      "source": [
        "counts = df['winner'].value_counts()\n",
        "\n",
        "print(counts)"
      ]
    },
    {
      "cell_type": "code",
      "execution_count": null,
      "metadata": {
        "id": "-pt8go-gfwDE"
      },
      "outputs": [],
      "source": [
        "demo = pd.DataFrame(counts)\n",
        "demo"
      ]
    },
    {
      "cell_type": "code",
      "execution_count": null,
      "metadata": {
        "id": "qExXmSqcfwDF"
      },
      "outputs": [],
      "source": [
        "demo['city'] = demo.index\n",
        "demo"
      ]
    },
    {
      "cell_type": "code",
      "execution_count": null,
      "metadata": {
        "id": "e5ROAtXdfwDF"
      },
      "outputs": [],
      "source": [
        "import matplotlib.pyplot as plt\n",
        "\n",
        "# Create a bar plot\n",
        "plt.barh(demo['city'],demo['count'])\n",
        "\n",
        "# Add labels and a title\n",
        "plt.xlabel('Categories')\n",
        "plt.ylabel('Values')\n",
        "plt.title('Bar Plot Example')\n",
        "\n",
        "plt.savefig('ipl')  # Specify the complete file path\n",
        "\n",
        "# Display the plot\n",
        "plt.show()\n",
        "\n"
      ]
    },
    {
      "cell_type": "markdown",
      "metadata": {
        "id": "kM-oOaomC0kD"
      },
      "source": [
        "## 2.2 Histograms"
      ]
    },
    {
      "cell_type": "raw",
      "metadata": {
        "id": "FcMo2ZXMAxix"
      },
      "source": [
        "Histograms are used to visualize the distribution of continuous\n",
        "or numerical data and they help us identify patterns in data.\n",
        "In a histogram plot the data is grouped into “bins,” and\n",
        "the height of each bar represents the frequency or count of data points\n",
        "in that bin. It takes the lower and upper limits of the given data and\n",
        "divides it into the no of bins given.\n"
      ]
    },
    {
      "cell_type": "code",
      "execution_count": null,
      "metadata": {
        "id": "4b7U7epbfwDH"
      },
      "outputs": [],
      "source": [
        "import matplotlib.pyplot as plt\n",
        "import numpy as np\n",
        "\n",
        "# Generate random data for the histogram\n",
        "#data = np.random.randn(1000)\n",
        "\n",
        "list1 = [1,2,3,-1,-2,1,1,2,3,1,1,0,0,5,6,7,-2,-3]\n",
        "\n",
        "# Create a histogram\n",
        "plt.hist(list1, color='green', edgecolor='yellow', bins=6)\n",
        "\n",
        "# Add labels and a title\n",
        "plt.xlabel('Values')\n",
        "plt.ylabel('Frequency')\n",
        "plt.title('Histogram Plot Example')\n",
        "\n",
        "# Display the plot\n",
        "plt.show()\n"
      ]
    },
    {
      "cell_type": "markdown",
      "metadata": {
        "id": "bjdcpzScGjjZ"
      },
      "source": [
        "## 2.3 Scatter Plot"
      ]
    },
    {
      "cell_type": "markdown",
      "metadata": {
        "id": "z4qkBJ7cA9tt"
      },
      "source": [
        "Scatter plots display individual data points as dots on a two-dimensional plane. And they are used to explore relationships or correlations between two numerical variables. In this, each axis represents one variable, and the dots represent data points.\n"
      ]
    },
    {
      "cell_type": "code",
      "execution_count": null,
      "metadata": {
        "id": "XWpqMMoZOxpU"
      },
      "outputs": [],
      "source": [
        "import matplotlib.pyplot as plt\n",
        "\n",
        "# Sample data\n",
        "x = [1, 2, 3, 4, 5]\n",
        "y = [10, 15, 13, 17, 20]\n",
        "\n",
        "# Create a scatter plot\n",
        "plt.scatter(x, y, marker='s', color='g')\n",
        "\n",
        "# Add labels and a title\n",
        "plt.xlabel('X-axis')\n",
        "plt.ylabel('Y-axis')\n",
        "plt.title('Scatter Plot Example')\n",
        "\n",
        "# Display the plot\n",
        "plt.show()\n"
      ]
    },
    {
      "cell_type": "markdown",
      "metadata": {
        "id": "Gm-EJbpbGrdZ"
      },
      "source": [
        "## 2.4 Pie Charts"
      ]
    },
    {
      "cell_type": "markdown",
      "metadata": {
        "id": "oMKEDLcwBG5Z"
      },
      "source": [
        "Pie charts represent parts of a whole as slices of a circular pie. They are suitable for showing the composition of a single categorical variable in terms of percentages. But this won’t look good when there are more than six categories as they get clumsy, in such cases horizontal bar might be preferred.\n",
        "\n",
        "Use the command plt.pie(x,labels=your_category_names, colors=desired_colors_list) , if you have a desired colors list, you can provide that and you can also change the edge color of the pie chart with the parameter wedgeprops={'edgecolor':your_color} .\n",
        "\n",
        "We can also highlight particular segments using explode parameter by passing a tuple where each element is the amount by which it has to explode. And autopct parameter enables you to choose how many values after the decimal are to be shown in the plot.\n",
        "\n",
        "Few Use Cases:\n",
        "1. Displaying the distribution of a budget by expense categories.\n",
        "2. Showing the market share of various smartphone brands.\n",
        "\n",
        "Eg: Exploding a particular segment for better storytelling during presentations."
      ]
    },
    {
      "cell_type": "code",
      "execution_count": null,
      "metadata": {
        "id": "f5XicPGSGnL1"
      },
      "outputs": [],
      "source": [
        "# Sample data (expenses)\n",
        "categories = ['Housing', 'Transportation', 'Food', 'Entertainment', 'Utilities']\n",
        "expenses = [1200, 300, 400, 200, 150]\n",
        "\n",
        "# Create a pie chart\n",
        "\n",
        "plt.figure(figsize=(8, 6))\n",
        "\n",
        "plt.pie(expenses, labels=categories, autopct='%1.2f%%')\n",
        "\n",
        "# Add a title\n",
        "plt.title('Monthly Expenses by Category')\n",
        "\n",
        "#plt.savefig(\"piechart1\")\n",
        "# Display the plot\n",
        "plt.show()\n",
        "\n",
        "\n"
      ]
    },
    {
      "cell_type": "markdown",
      "metadata": {
        "id": "UYHwixvKl617"
      },
      "source": [
        "## 2.5 Box plot"
      ]
    },
    {
      "cell_type": "markdown",
      "metadata": {
        "id": "Obr3lEivBN_G"
      },
      "source": [
        "Box plots for summarize the distribution of numerical data by displaying quartiles, outliers, and potential skewness. They provide insights into data spread, central tendency, and variability. Box plots are especially useful for identifying outliers and comparing distributions."
      ]
    },
    {
      "cell_type": "code",
      "execution_count": null,
      "metadata": {
        "id": "orhXxcvoilfX"
      },
      "outputs": [],
      "source": [
        "import matplotlib.pyplot as plt\n",
        "\n",
        "# Sample data\n",
        "data = [12, 15, 10, 15, 17, 18, 20, 22, 23, 25, 27, 30, 35, 40,100, -34]\n",
        "\n",
        "# Create a boxplot\n",
        "plt.boxplot(data)\n",
        "\n",
        "# Add labels and a title\n",
        "plt.title('Boxplot Example with Sample Data')\n",
        "plt.xlabel('Data')\n",
        "plt.ylabel('Values')\n",
        "\n",
        "# Show the plot\n",
        "plt.show()\n"
      ]
    },
    {
      "cell_type": "markdown",
      "metadata": {
        "id": "9dYSuEfijGfu"
      },
      "source": [
        "## 2.6 Stack Plot"
      ]
    },
    {
      "cell_type": "markdown",
      "metadata": {
        "id": "7LUEkt1ABc_7"
      },
      "source": [
        "Imagine you want to visualize how three product categories (electronics, clothing, and home appliances) contribute to total sales over four quarters (Q1 to Q4). Then you can represent each category’s sales as layers in the plot, and the plot helps us understand their contributions and trends over time. That’s exactly what the stack plot does.\n",
        "\n",
        "A stack plot, which is also known as a stacked area plot, is a type of data visualization that displays multiple datasets as layers stacked on top of one another, with each layer representing a different category or component of the data. Stack plots are particularly useful for visualizing how individual components contribute to a whole over a continuous time period or categorical domain. Use it as plt.stackplot(x,y1,y2) , as many stacks as you want!"
      ]
    },
    {
      "cell_type": "code",
      "execution_count": null,
      "metadata": {
        "id": "KWTTlDLYZs3w",
        "scrolled": true
      },
      "outputs": [],
      "source": [
        "import matplotlib.pyplot as plt\n",
        "\n",
        "# Sample data for stack plot\n",
        "quarters = ['Q1', 'Q2', 'Q3', 'Q4']\n",
        "electronics = [10000, 12000, 11000, 10500]\n",
        "clothing = [5000, 6000, 7500, 8000]\n",
        "home_appliances = [7000, 7500, 8200, 9000]\n",
        "\n",
        "# Create a stack plot\n",
        "#plt.figure(figsize=(10, 6))  # Set the figure size, width & height\n",
        "plt.stackplot(quarters, electronics, clothing, home_appliances,\n",
        "              labels=['Electronics', 'Clothing', 'Home Appliances'])\n",
        "\n",
        "# Add labels, legend, and title\n",
        "plt.xlabel('Quarters')\n",
        "plt.ylabel('Sales ($)')\n",
        "plt.title('Product Category Sales Over Quarters')\n",
        "plt.legend()\n",
        "\n",
        "# Display the plot\n",
        "#plt.grid()\n",
        "\n",
        "plt.show()\n"
      ]
    },
    {
      "cell_type": "code",
      "execution_count": null,
      "metadata": {
        "id": "JMFh3T4NfwDQ"
      },
      "outputs": [],
      "source": []
    }
  ],
  "metadata": {
    "colab": {
      "provenance": [],
      "include_colab_link": true
    },
    "kernelspec": {
      "display_name": "Python 3",
      "language": "python",
      "name": "python3"
    },
    "language_info": {
      "codemirror_mode": {
        "name": "ipython",
        "version": 3
      },
      "file_extension": ".py",
      "mimetype": "text/x-python",
      "name": "python",
      "nbconvert_exporter": "python",
      "pygments_lexer": "ipython3",
      "version": "3.8.5"
    }
  },
  "nbformat": 4,
  "nbformat_minor": 0
}