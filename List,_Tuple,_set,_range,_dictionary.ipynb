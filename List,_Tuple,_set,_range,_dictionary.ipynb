{
  "cells": [
    {
      "cell_type": "markdown",
      "metadata": {
        "id": "view-in-github",
        "colab_type": "text"
      },
      "source": [
        "<a href=\"https://colab.research.google.com/github/mdfazalm/Python/blob/main/List%2C_Tuple%2C_set%2C_range%2C_dictionary.ipynb\" target=\"_parent\"><img src=\"https://colab.research.google.com/assets/colab-badge.svg\" alt=\"Open In Colab\"/></a>"
      ]
    },
    {
      "cell_type": "markdown",
      "id": "d7ac1b02",
      "metadata": {
        "id": "d7ac1b02"
      },
      "source": [
        "# List"
      ]
    },
    {
      "cell_type": "code",
      "execution_count": null,
      "id": "245a4b3d-1f68-4342-8fc2-e536dca7345b",
      "metadata": {
        "id": "245a4b3d-1f68-4342-8fc2-e536dca7345b",
        "outputId": "de4cd0f4-96e6-4815-cb7c-1868df7d95f9"
      },
      "outputs": [
        {
          "data": {
            "text/plain": [
              "[1, 2, 4, 5, 6]"
            ]
          },
          "execution_count": 1,
          "metadata": {},
          "output_type": "execute_result"
        }
      ],
      "source": [
        "l1=[1,2,4,5,6]\n",
        "l2=l1\n",
        "l2\n"
      ]
    },
    {
      "cell_type": "raw",
      "id": "7db1342c",
      "metadata": {
        "id": "7db1342c"
      },
      "source": [
        "to store multiple values in similar data types or different data types with unique or duplicate values.\n",
        "- list enclosed within square bracket [].\n",
        "- list is a mutable data type.\n",
        "- Duplicates allowed"
      ]
    },
    {
      "cell_type": "raw",
      "id": "980dd6a7",
      "metadata": {
        "id": "980dd6a7"
      },
      "source": [
        "Mutable - it means after creating your list, if you want change any value or add or remove, it is possible"
      ]
    },
    {
      "cell_type": "code",
      "execution_count": null,
      "id": "431518e7",
      "metadata": {
        "scrolled": true,
        "id": "431518e7",
        "outputId": "74bc7851-7dd4-45a2-9af3-86243ede00ed"
      },
      "outputs": [
        {
          "name": "stdout",
          "output_type": "stream",
          "text": [
            "[12, 25.56, True, 'python']\n"
          ]
        }
      ],
      "source": [
        "list1 = [12,25.56, True, \"python\"]\n",
        "\n",
        "print(list1)"
      ]
    },
    {
      "cell_type": "code",
      "execution_count": null,
      "id": "9545bdf6",
      "metadata": {
        "id": "9545bdf6",
        "outputId": "5fc209d9-00cf-44a2-d70a-c71c6c376903"
      },
      "outputs": [
        {
          "name": "stdout",
          "output_type": "stream",
          "text": [
            "[12, 'hi', 64.76, True]\n",
            "<class 'list'>\n"
          ]
        }
      ],
      "source": [
        "list2 = [12,\"hi\",64.76,True]\n",
        "\n",
        "print(list2)\n",
        "\n",
        "print(type(list2))"
      ]
    },
    {
      "cell_type": "code",
      "execution_count": null,
      "id": "365982da",
      "metadata": {
        "id": "365982da"
      },
      "outputs": [],
      "source": [
        "print(type(list1))"
      ]
    },
    {
      "cell_type": "code",
      "execution_count": null,
      "id": "76c53147",
      "metadata": {
        "id": "76c53147",
        "outputId": "7b906086-f194-4363-8043-290db8d0f522"
      },
      "outputs": [
        {
          "data": {
            "text/plain": [
              "25.56"
            ]
          },
          "execution_count": 3,
          "metadata": {},
          "output_type": "execute_result"
        }
      ],
      "source": [
        "list1 = [12,25.56, True, \"python\"]\n",
        "\n",
        "list1[1]"
      ]
    },
    {
      "cell_type": "code",
      "execution_count": null,
      "id": "b1b5ef32",
      "metadata": {
        "id": "b1b5ef32",
        "outputId": "de6bf27e-eb66-4457-846d-7f113232ed96"
      },
      "outputs": [
        {
          "data": {
            "text/plain": [
              "12"
            ]
          },
          "execution_count": 4,
          "metadata": {},
          "output_type": "execute_result"
        }
      ],
      "source": [
        "list1[0]"
      ]
    },
    {
      "cell_type": "code",
      "execution_count": null,
      "id": "ee24bf86",
      "metadata": {
        "id": "ee24bf86",
        "outputId": "e72d2660-814b-4112-ec6d-37f6b3baeb4d"
      },
      "outputs": [
        {
          "data": {
            "text/plain": [
              "'python'"
            ]
          },
          "execution_count": 5,
          "metadata": {},
          "output_type": "execute_result"
        }
      ],
      "source": [
        "list1[-1]"
      ]
    },
    {
      "cell_type": "code",
      "execution_count": null,
      "id": "2d15c311",
      "metadata": {
        "id": "2d15c311",
        "outputId": "64e714bd-d65d-4eb7-dd79-5c660664aba1"
      },
      "outputs": [
        {
          "data": {
            "text/plain": [
              "[12, 25.56, True, 'python']"
            ]
          },
          "execution_count": 6,
          "metadata": {},
          "output_type": "execute_result"
        }
      ],
      "source": [
        "list1[0:4]    #0,1,2,3"
      ]
    },
    {
      "cell_type": "code",
      "execution_count": null,
      "id": "81b18265",
      "metadata": {
        "id": "81b18265",
        "outputId": "79966849-ae09-4e43-d371-48340596c206"
      },
      "outputs": [
        {
          "data": {
            "text/plain": [
              "[True, 'python']"
            ]
          },
          "execution_count": 7,
          "metadata": {},
          "output_type": "execute_result"
        }
      ],
      "source": [
        "list1[2:10]"
      ]
    },
    {
      "cell_type": "code",
      "execution_count": null,
      "id": "1fc313bd",
      "metadata": {
        "id": "1fc313bd",
        "outputId": "4368d2ee-8993-4422-addd-06cf90b22b65"
      },
      "outputs": [
        {
          "data": {
            "text/plain": [
              "4"
            ]
          },
          "execution_count": 8,
          "metadata": {},
          "output_type": "execute_result"
        }
      ],
      "source": [
        "len(list1)"
      ]
    },
    {
      "cell_type": "code",
      "execution_count": null,
      "id": "6e110717",
      "metadata": {
        "id": "6e110717",
        "outputId": "4598fec2-074f-4967-a46b-20607b5d2977"
      },
      "outputs": [
        {
          "name": "stdout",
          "output_type": "stream",
          "text": [
            "[12, 12, 67, 78348748, 'py']\n"
          ]
        }
      ],
      "source": [
        "# change any value\n",
        "\n",
        "list1 = [12,12, 25.56, True, \"python\"]\n",
        "\n",
        "#index\n",
        "#list1[1] = \"hi\"\n",
        "#slicing\n",
        "list1[2:5] = [67,78348748,\"py\"]\n",
        "\n",
        "print(list1)"
      ]
    },
    {
      "cell_type": "code",
      "execution_count": null,
      "id": "3ff2f0d9",
      "metadata": {
        "id": "3ff2f0d9",
        "outputId": "f71d2f3b-0522-4d72-8e1a-c69dcb116afe"
      },
      "outputs": [
        {
          "name": "stdout",
          "output_type": "stream",
          "text": [
            "544.7\n"
          ]
        }
      ],
      "source": [
        "list1 = [12,12, 25.56, True, \"python\",[1,\"hi\",544.70]]\n",
        "\n",
        "\n",
        "print(list1[5][2])\n",
        "\n"
      ]
    },
    {
      "cell_type": "code",
      "execution_count": null,
      "id": "a77ea27d",
      "metadata": {
        "id": "a77ea27d",
        "outputId": "1ae7954f-2e75-4fdb-f922-52965929c652"
      },
      "outputs": [
        {
          "name": "stdout",
          "output_type": "stream",
          "text": [
            "[34, 435, 75, [34, 90, [3445, 100, 'sam', 45]]]\n"
          ]
        }
      ],
      "source": [
        "list1 = [12,12, 25.56, True, \"python\",[1,\"hi\",544.70],[32,34,45,\"py\"],[34,435,75,[34,90,[3445,100,\"sam\",45]]]]\n",
        "\n",
        "\n",
        "\n",
        "print(list1[7])"
      ]
    },
    {
      "cell_type": "code",
      "execution_count": null,
      "id": "832583ed",
      "metadata": {
        "id": "832583ed"
      },
      "outputs": [],
      "source": [
        "#print(type(list1))\n",
        "\n",
        "print(type(list1[5]))"
      ]
    },
    {
      "cell_type": "markdown",
      "id": "8b7a6c0d",
      "metadata": {
        "id": "8b7a6c0d"
      },
      "source": [
        "# Pre-defined function in list"
      ]
    },
    {
      "cell_type": "raw",
      "id": "c400ee63",
      "metadata": {
        "id": "c400ee63"
      },
      "source": [
        "append() -- used for adding the value at the end of the list\n",
        "insert()  -- used for adding the value at the specific index position.\n",
        "remove() -- value based removal\n",
        "pop(index) --- index baesd\n",
        "clear()   #remove all values from ur list object\n",
        "index() -- using value, if you want to see the index no\n",
        "count()\n",
        "sort()     #bydefault , it will sort in ascending order\n",
        "extend()\n",
        "copy()\n",
        "reverse()"
      ]
    },
    {
      "cell_type": "code",
      "execution_count": null,
      "id": "77a56578",
      "metadata": {
        "id": "77a56578",
        "outputId": "b569b98b-ba96-4432-9ac9-4941e70cc5aa"
      },
      "outputs": [
        {
          "name": "stdout",
          "output_type": "stream",
          "text": [
            "[1, 12, 25.56, True, 'python']\n"
          ]
        }
      ],
      "source": [
        "list1 = [1,12, 25.56, True, \"python\"]\n",
        "\n",
        "print(list1)"
      ]
    },
    {
      "cell_type": "code",
      "execution_count": null,
      "id": "dd2409d1",
      "metadata": {
        "id": "dd2409d1",
        "outputId": "7c548bd0-4908-4f53-d194-7d3b6d05b3f2"
      },
      "outputs": [
        {
          "name": "stdout",
          "output_type": "stream",
          "text": [
            "[1, 12, 25.56, True, 'python', 'hi', [34, 43, 'dfd']]\n"
          ]
        }
      ],
      "source": [
        "#1. append() -- used for adding the value at the end of the list\n",
        "\n",
        "# append() takes exactly one argument\n",
        "\n",
        "list1.append(\"hi\")\n",
        "\n",
        "#list1.append([34,43,\"dfd\"])\n",
        "\n",
        "\n",
        "print(list1)\n"
      ]
    },
    {
      "cell_type": "code",
      "execution_count": null,
      "id": "beb6c9b0",
      "metadata": {
        "id": "beb6c9b0"
      },
      "outputs": [],
      "source": [
        "#2. insert()  -- used for adding the value at the specific index position."
      ]
    },
    {
      "cell_type": "code",
      "execution_count": null,
      "id": "e41172b7",
      "metadata": {
        "id": "e41172b7",
        "outputId": "0a7b5e4a-e833-4725-b0f0-f024d5784057"
      },
      "outputs": [
        {
          "name": "stdout",
          "output_type": "stream",
          "text": [
            "[1, 12, 'hi', 25.56, True, 'python']\n"
          ]
        }
      ],
      "source": [
        "list1 = [1,12, 25.56, True, \"python\"]\n",
        "\n",
        "list1.insert(2,\"hi\")\n",
        "\n",
        "#list1.insert(4,43563545.345)\n",
        "\n",
        "print(list1)"
      ]
    },
    {
      "cell_type": "code",
      "execution_count": null,
      "id": "7196f580",
      "metadata": {
        "id": "7196f580"
      },
      "outputs": [],
      "source": [
        "#3. remove() -- value based removal"
      ]
    },
    {
      "cell_type": "code",
      "execution_count": null,
      "id": "a6b30d19",
      "metadata": {
        "id": "a6b30d19",
        "outputId": "3f97ad06-5ded-46f3-e948-3aaa8db4e66d"
      },
      "outputs": [
        {
          "ename": "TypeError",
          "evalue": "remove() takes exactly one argument (2 given)",
          "output_type": "error",
          "traceback": [
            "\u001b[1;31m---------------------------------------------------------------------------\u001b[0m",
            "\u001b[1;31mTypeError\u001b[0m                                 Traceback (most recent call last)",
            "Cell \u001b[1;32mIn[25], line 4\u001b[0m\n\u001b[0;32m      1\u001b[0m \u001b[38;5;66;03m# remove is used to remove only one value at a time\u001b[39;00m\n\u001b[0;32m      2\u001b[0m list1 \u001b[38;5;241m=\u001b[39m [\u001b[38;5;241m1\u001b[39m,\u001b[38;5;241m12\u001b[39m, \u001b[38;5;241m25.56\u001b[39m,\u001b[38;5;241m12\u001b[39m, \u001b[38;5;28;01mTrue\u001b[39;00m, \u001b[38;5;124m\"\u001b[39m\u001b[38;5;124mpython\u001b[39m\u001b[38;5;124m\"\u001b[39m]\n\u001b[1;32m----> 4\u001b[0m \u001b[43mlist1\u001b[49m\u001b[38;5;241;43m.\u001b[39;49m\u001b[43mremove\u001b[49m\u001b[43m(\u001b[49m\u001b[38;5;241;43m12\u001b[39;49m\u001b[43m,\u001b[49m\u001b[38;5;28;43;01mTrue\u001b[39;49;00m\u001b[43m)\u001b[49m\n\u001b[0;32m      6\u001b[0m \u001b[38;5;28mprint\u001b[39m(list1)\n",
            "\u001b[1;31mTypeError\u001b[0m: remove() takes exactly one argument (2 given)"
          ]
        }
      ],
      "source": [
        "# remove is used to remove only one value at a time\n",
        "list1 = [1,12, 25.56,12, True, \"python\"]\n",
        "\n",
        "list1.remove(12)\n",
        "\n",
        "print(list1)"
      ]
    },
    {
      "cell_type": "code",
      "execution_count": null,
      "id": "3f54ce13",
      "metadata": {
        "id": "3f54ce13",
        "outputId": "b9d4f982-d53f-49eb-c8a2-95aca0408113"
      },
      "outputs": [
        {
          "name": "stdout",
          "output_type": "stream",
          "text": [
            "['hello', 'python', 6767, 6767, 6767]\n"
          ]
        }
      ],
      "source": [
        "# for removing mutiple values in the list\n",
        "list1 = [7676735345, 12, 'hello', 'hello', 'python', 6767, 6767, 6767]\n",
        "\n",
        "remove1 = [7676735345, 12, 'hello']\n",
        "\n",
        "# g = 7676735345\n",
        "\n",
        "\n",
        "for i in remove1:\n",
        "    #print(i)\n",
        "    list1.remove(i)\n",
        "\n",
        "\n",
        "print(list1)\n"
      ]
    },
    {
      "cell_type": "raw",
      "id": "ef6be089",
      "metadata": {
        "id": "ef6be089"
      },
      "source": [
        "Question 1 -\n",
        "-- add mutiple values to the list at a time using append or insert,\n",
        "\n",
        "create one list with some values,\n",
        "Add this values , 6437,\"Good\",34.56,[56,83,100,'Morning']"
      ]
    },
    {
      "cell_type": "code",
      "execution_count": null,
      "id": "cd5a5235",
      "metadata": {
        "id": "cd5a5235"
      },
      "outputs": [],
      "source": [
        "#4 pop(index) --- index baesd"
      ]
    },
    {
      "cell_type": "code",
      "execution_count": null,
      "id": "465e7493",
      "metadata": {
        "id": "465e7493",
        "outputId": "590d0658-8f26-4dfa-cbb7-27eaeefba5f3"
      },
      "outputs": [
        {
          "name": "stdout",
          "output_type": "stream",
          "text": [
            "[12, 12, 25.56, True]\n"
          ]
        }
      ],
      "source": [
        "# if u r not giving any index it will remove from last\n",
        "\n",
        "list1 = [12,12, 25.56, True, \"python\"]\n",
        "\n",
        "list1.pop()\n",
        "\n",
        "print(list1)"
      ]
    },
    {
      "cell_type": "code",
      "execution_count": null,
      "id": "48170fe1",
      "metadata": {
        "id": "48170fe1",
        "outputId": "1d9fe86c-ca14-4af8-e6cd-e4434e1b693d"
      },
      "outputs": [
        {
          "name": "stdout",
          "output_type": "stream",
          "text": [
            "[12, 12, True, 'python']\n"
          ]
        }
      ],
      "source": [
        "list1 = [12,12, 25.56, True, \"python\"]\n",
        "\n",
        "list1.pop(2)\n",
        "\n",
        "print(list1)"
      ]
    },
    {
      "cell_type": "code",
      "execution_count": null,
      "id": "68a9fd7e",
      "metadata": {
        "id": "68a9fd7e"
      },
      "outputs": [],
      "source": [
        "#5. clear()"
      ]
    },
    {
      "cell_type": "code",
      "execution_count": null,
      "id": "9085a3d7",
      "metadata": {
        "id": "9085a3d7",
        "outputId": "a09e1586-b14a-4a7e-d2a4-5e442e96e9b7"
      },
      "outputs": [
        {
          "name": "stdout",
          "output_type": "stream",
          "text": [
            "[]\n"
          ]
        }
      ],
      "source": [
        "list1.clear() #remove all values from ur list object\n",
        "\n",
        "print(list1)"
      ]
    },
    {
      "cell_type": "code",
      "execution_count": null,
      "id": "587e02e0",
      "metadata": {
        "id": "587e02e0"
      },
      "outputs": [],
      "source": [
        "list1 = [12,12, 25.56, True, \"python\"]"
      ]
    },
    {
      "cell_type": "code",
      "execution_count": null,
      "id": "9718c90c",
      "metadata": {
        "id": "9718c90c",
        "outputId": "643f9e8e-f4f5-45df-9e43-058af993c36d"
      },
      "outputs": [
        {
          "name": "stdout",
          "output_type": "stream",
          "text": [
            "[12, 12, 25.56, True, 'python']\n"
          ]
        }
      ],
      "source": [
        "#del operator-- delete list object\n",
        "\n",
        "#del list1[2]\n",
        "#del list1[2:4]\n",
        "#del list1\n",
        "\n",
        "print(list1)"
      ]
    },
    {
      "cell_type": "code",
      "execution_count": null,
      "id": "4f6d5342",
      "metadata": {
        "id": "4f6d5342"
      },
      "outputs": [],
      "source": [
        "print(list1)"
      ]
    },
    {
      "cell_type": "code",
      "execution_count": null,
      "id": "b3891ce0",
      "metadata": {
        "id": "b3891ce0",
        "outputId": "6f33ccf3-f061-406b-817c-9cf2dcab724a"
      },
      "outputs": [
        {
          "data": {
            "text/plain": [
              "0"
            ]
          },
          "execution_count": 38,
          "metadata": {},
          "output_type": "execute_result"
        }
      ],
      "source": [
        "#7. index() - to see the index of any value in the list\n",
        "\n",
        "list1 = [12, 25.56, True, \"python\",12, True]\n",
        "\n",
        "list1.index(12)"
      ]
    },
    {
      "cell_type": "code",
      "execution_count": null,
      "id": "cd0aa8bb",
      "metadata": {
        "id": "cd0aa8bb",
        "outputId": "13b770b3-2da0-4d12-a6e2-a85a08d5402f"
      },
      "outputs": [
        {
          "data": {
            "text/plain": [
              "2"
            ]
          },
          "execution_count": 39,
          "metadata": {},
          "output_type": "execute_result"
        }
      ],
      "source": [
        "#8. count() - to check any value how many times repeating\n",
        "\n",
        "list1.count(12)"
      ]
    },
    {
      "cell_type": "code",
      "execution_count": null,
      "id": "e760d7d7",
      "metadata": {
        "id": "e760d7d7"
      },
      "outputs": [],
      "source": [
        "list1"
      ]
    },
    {
      "cell_type": "code",
      "execution_count": null,
      "id": "9941c256",
      "metadata": {
        "id": "9941c256"
      },
      "outputs": [],
      "source": [
        "#9  copy() - to copy the list to another list   #shallow copy\n",
        "\n",
        "list1 = [12, 25.56, True, \"python\",12, True]\n",
        "\n",
        "list2 = list1.copy()"
      ]
    },
    {
      "cell_type": "code",
      "execution_count": null,
      "id": "3bba9a58",
      "metadata": {
        "id": "3bba9a58",
        "outputId": "a8f6ee41-6cdc-428e-a7b5-f4af0b413dc7"
      },
      "outputs": [
        {
          "name": "stdout",
          "output_type": "stream",
          "text": [
            "[12, True, 'python', 12, True]\n"
          ]
        }
      ],
      "source": [
        "list1.remove(25.56)\n",
        "\n",
        "print(list1)"
      ]
    },
    {
      "cell_type": "code",
      "execution_count": null,
      "id": "ddace064",
      "metadata": {
        "id": "ddace064",
        "outputId": "dc886e31-4af2-48af-c85b-d6ce387a8e76"
      },
      "outputs": [
        {
          "name": "stdout",
          "output_type": "stream",
          "text": [
            "[12, 25.56, True, 'python', 12, True]\n"
          ]
        }
      ],
      "source": [
        "print(list2)"
      ]
    },
    {
      "cell_type": "code",
      "execution_count": null,
      "id": "3b64d1b5",
      "metadata": {
        "id": "3b64d1b5"
      },
      "outputs": [],
      "source": [
        "#Deep copy"
      ]
    },
    {
      "cell_type": "code",
      "execution_count": null,
      "id": "b02e5dae",
      "metadata": {
        "id": "b02e5dae",
        "outputId": "32e87e83-07ce-4670-81c4-a4b746390845"
      },
      "outputs": [
        {
          "name": "stdout",
          "output_type": "stream",
          "text": [
            "[12, 25.56, True, 'python', 12, True]\n"
          ]
        }
      ],
      "source": [
        "list1 = [12, 25.56, True, \"python\",12, True]\n",
        "\n",
        "list3 = list1\n",
        "\n",
        "print(list3)"
      ]
    },
    {
      "cell_type": "code",
      "execution_count": null,
      "id": "fe190bd2",
      "metadata": {
        "id": "fe190bd2",
        "outputId": "68489519-5a0a-4b9b-a0c6-8f38d587db4a"
      },
      "outputs": [
        {
          "name": "stdout",
          "output_type": "stream",
          "text": [
            "[12, True, 'python', 12, True]\n"
          ]
        }
      ],
      "source": [
        "list1.remove(25.56)\n",
        "\n",
        "print(list1)"
      ]
    },
    {
      "cell_type": "code",
      "execution_count": null,
      "id": "82e127f3",
      "metadata": {
        "id": "82e127f3",
        "outputId": "893f1ab8-6a3c-40dd-82de-3240c2717167"
      },
      "outputs": [
        {
          "name": "stdout",
          "output_type": "stream",
          "text": [
            "[12, True, 'python', 12, True]\n"
          ]
        }
      ],
      "source": [
        "print(list3)"
      ]
    },
    {
      "cell_type": "code",
      "execution_count": null,
      "id": "db7aa044",
      "metadata": {
        "id": "db7aa044"
      },
      "outputs": [],
      "source": [
        "\n",
        "list1 = [10,78,65,30,74,-45,0,-10,-1,100]\n",
        "\n",
        "print(list1, type(list1))"
      ]
    },
    {
      "cell_type": "code",
      "execution_count": null,
      "id": "0c794409",
      "metadata": {
        "id": "0c794409",
        "outputId": "b5f20949-7bea-4c21-e254-9e436ea02e65"
      },
      "outputs": [
        {
          "name": "stdout",
          "output_type": "stream",
          "text": [
            "[100, -1, -10, 0, -45, 74, 30, 65, 78, 10]\n"
          ]
        }
      ],
      "source": [
        "#10 reverse\n",
        "\n",
        "list1 = [10,78,65,30,74,-45,0,-10,-1,100]\n",
        "\n",
        "list1.reverse()\n",
        "\n",
        "print(list1)"
      ]
    },
    {
      "cell_type": "code",
      "execution_count": null,
      "id": "9fb0eeeb",
      "metadata": {
        "id": "9fb0eeeb",
        "outputId": "ec3659c2-3fb6-4807-f05f-21ffb23228b6"
      },
      "outputs": [
        {
          "data": {
            "text/plain": [
              "[100, -1, -10, 0, -45, 74, 30, 65, 78, 10]"
            ]
          },
          "execution_count": 50,
          "metadata": {},
          "output_type": "execute_result"
        }
      ],
      "source": [
        "#slicing\n",
        "list1 = [10,78,65,30,74,-45,0,-10,-1,100]\n",
        "\n",
        "#list1[::]\n",
        "\n",
        "list1[::-1]"
      ]
    },
    {
      "cell_type": "code",
      "execution_count": null,
      "id": "e30765a1",
      "metadata": {
        "id": "e30765a1"
      },
      "outputs": [],
      "source": [
        "#11 sort()"
      ]
    },
    {
      "cell_type": "code",
      "execution_count": null,
      "id": "93c2faff",
      "metadata": {
        "id": "93c2faff",
        "outputId": "fe7c2d77-14ea-43db-e304-7bf85249884d"
      },
      "outputs": [
        {
          "name": "stdout",
          "output_type": "stream",
          "text": [
            "['a', 'b', 'c', 'd', 'k']\n"
          ]
        }
      ],
      "source": [
        "list2 = [\"a\",\"d\",\"b\",\"k\",\"c\"]\n",
        "\n",
        "list2.sort()  #bydefault , it will sort in ascending order\n",
        "list2.sort(reverse=False)\n",
        "\n",
        "print(list2)"
      ]
    },
    {
      "cell_type": "code",
      "execution_count": null,
      "id": "4f34d9bb",
      "metadata": {
        "id": "4f34d9bb",
        "outputId": "6a38c96a-6bb5-49de-80fd-381ac2bf93a8"
      },
      "outputs": [
        {
          "name": "stdout",
          "output_type": "stream",
          "text": [
            "['k', 'd', 'c', 'b', 'a']\n"
          ]
        }
      ],
      "source": [
        "list2.sort(reverse=True)       #descending order\n",
        "\n",
        "print(list2)"
      ]
    },
    {
      "cell_type": "code",
      "execution_count": null,
      "id": "9f1e7c6f",
      "metadata": {
        "id": "9f1e7c6f"
      },
      "outputs": [],
      "source": [
        "#12 extend to join two list to one list"
      ]
    },
    {
      "cell_type": "code",
      "execution_count": null,
      "id": "a0fe9ba4",
      "metadata": {
        "id": "a0fe9ba4",
        "outputId": "a53f6eaa-962e-4925-d41b-a5413aecf927"
      },
      "outputs": [
        {
          "name": "stdout",
          "output_type": "stream",
          "text": [
            "[10, 78, 65, 30, 74, -45, 0, -10, -1, 100, 'a', 'd', 'b', 'k', 'c']\n"
          ]
        }
      ],
      "source": [
        "list2 = [\"a\",\"d\",\"b\",\"k\",\"c\"]\n",
        "list1 = [10,78,65,30,74,-45,0,-10,-1,100]\n",
        "\n",
        "list1.extend(list2)\n",
        "\n",
        "#list1 += list2\n",
        "\n",
        "\n",
        "print(list1)"
      ]
    },
    {
      "cell_type": "code",
      "execution_count": null,
      "id": "e88aa06a",
      "metadata": {
        "id": "e88aa06a",
        "outputId": "9cfef0ea-2750-4d63-e4ef-67e1d986ac9c"
      },
      "outputs": [
        {
          "name": "stdout",
          "output_type": "stream",
          "text": [
            "[10, 78, 65, 30, 74, -45, 0, -10, -1, 100, 'a', 'd', 'b', 'k', 'c']\n"
          ]
        }
      ],
      "source": [
        "list2 = [\"a\",\"d\",\"b\",\"k\",\"c\"]\n",
        "list1 = [10,78,65,30,74,-45,0,-10,-1,100]\n",
        "\n",
        "list3 = list1 + list2\n",
        "\n",
        "print(list3)"
      ]
    },
    {
      "cell_type": "raw",
      "id": "de8e5797",
      "metadata": {
        "id": "de8e5797"
      },
      "source": [
        "Appending and Inserting:\n",
        "\n",
        "How would you add a new element '5' to the end of a list?\n",
        "How would you insert the value '10' at index 2 in a list?\n",
        "\n",
        "\n",
        "\n",
        "Removing and Popping:\n",
        "\n",
        "If you have a list ['apple', 'banana', 'cherry', 'banana'], how would you remove the element 'banana' from it?\n",
        "What would be the outcome if you execute my_list.pop(2) on a list containing elements [1, 2, 3, 4, 5]?\n",
        "\n",
        "\n",
        "\n",
        "\n",
        "Clearing and Indexing:\n",
        "\n",
        "What method would you use to remove all elements from a list?\n",
        "If you have a list ['apple', 'banana', 'cherry', 'banana'], what is the index of 'banana'?\n",
        "\n",
        "\n",
        "\n",
        "Counting:\n",
        "\n",
        "How would you count the number of occurrences of the value 'apple' in a list?\n",
        "If you have a list [1, 2, 3, 3, 3, 4, 5], how many times does the value '3' occur?\n",
        "\n",
        "\n",
        "\n",
        "\n",
        "Sorting and Reversing:\n",
        "\n",
        "If you have a list [5, 2, 8, 1, 3], how would you sort it in ascending order?\n",
        "How would you reverse the order of elements in a list?\n",
        "\n",
        "\n",
        "\n",
        "Extending and Copying:\n",
        "\n",
        "Suppose you have two lists: list1 = [1, 2, 3] and list2 = [4, 5, 6], how would you extend list1 with the elements of list2?\n",
        "What's the difference between using my_new_list = my_list.copy() and my_new_list = my_list for creating a copy of a list?\n",
        "\n",
        "\n",
        "\n",
        "\n",
        "Indexing and Slicing:\n",
        "\n",
        "How would you retrieve the third element from a list?\n",
        "If you have a list my_list = [1, 2, 3, 4, 5], how would you extract elements from index 1 to index 3 using slicing?"
      ]
    },
    {
      "cell_type": "markdown",
      "id": "4a688fde",
      "metadata": {
        "id": "4a688fde"
      },
      "source": [
        "# Tuple"
      ]
    },
    {
      "cell_type": "raw",
      "id": "df2cb9ce",
      "metadata": {
        "id": "df2cb9ce"
      },
      "source": [
        "to store multiple values in similar data types or different data types with unique or duplicate values.\n",
        "- tuple is  enclosed within parnthesis ().\n",
        "- tuple is a immutable datatype"
      ]
    },
    {
      "cell_type": "code",
      "execution_count": null,
      "id": "f7d24ce4",
      "metadata": {
        "id": "f7d24ce4"
      },
      "outputs": [],
      "source": [
        "#count()\tReturns the number of times a specified value occurs in a tuple\n",
        "#index()\tSearches the tuple for a specified value and returns the position of where it was found"
      ]
    },
    {
      "cell_type": "code",
      "execution_count": null,
      "id": "65d10924",
      "metadata": {
        "id": "65d10924",
        "outputId": "eb8129a8-4258-4001-9f03-6b8917f96d8c"
      },
      "outputs": [
        {
          "name": "stdout",
          "output_type": "stream",
          "text": [
            "(12, 25.56, True, 'python') <class 'tuple'>\n"
          ]
        }
      ],
      "source": [
        "tuple1 = (12, 25.56, True, \"python\")\n",
        "\n",
        "print(tuple1,type(tuple1))"
      ]
    },
    {
      "cell_type": "code",
      "execution_count": null,
      "id": "35c809fa-1d2d-4825-8361-8b1b139ead55",
      "metadata": {
        "id": "35c809fa-1d2d-4825-8361-8b1b139ead55",
        "outputId": "f1fda679-10da-4bf0-f56e-f804de6b93d9"
      },
      "outputs": [
        {
          "data": {
            "text/plain": [
              "tuple"
            ]
          },
          "execution_count": 4,
          "metadata": {},
          "output_type": "execute_result"
        }
      ],
      "source": [
        "t=1,2.0,'String',True\n",
        "\n",
        "type(t)"
      ]
    },
    {
      "cell_type": "code",
      "execution_count": null,
      "id": "4b954e1c-f165-4995-b5e7-4b316143b3b9",
      "metadata": {
        "id": "4b954e1c-f165-4995-b5e7-4b316143b3b9"
      },
      "outputs": [],
      "source": []
    },
    {
      "cell_type": "code",
      "execution_count": null,
      "id": "f996e289",
      "metadata": {
        "id": "f996e289",
        "outputId": "bb514fe2-1cdc-4b42-e5ce-3289d93a9469"
      },
      "outputs": [
        {
          "ename": "TypeError",
          "evalue": "'tuple' object does not support item assignment",
          "output_type": "error",
          "traceback": [
            "\u001b[1;31m---------------------------------------------------------------------------\u001b[0m",
            "\u001b[1;31mTypeError\u001b[0m                                 Traceback (most recent call last)",
            "Cell \u001b[1;32mIn[6], line 1\u001b[0m\n\u001b[1;32m----> 1\u001b[0m tuple1[\u001b[38;5;241m1\u001b[39m] \u001b[38;5;241m=\u001b[39m \u001b[38;5;241m50.75\u001b[39m\n",
            "\u001b[1;31mTypeError\u001b[0m: 'tuple' object does not support item assignment"
          ]
        }
      ],
      "source": [
        "tuple1[1] = 50.75"
      ]
    },
    {
      "cell_type": "code",
      "execution_count": null,
      "id": "eb6e091c",
      "metadata": {
        "id": "eb6e091c",
        "outputId": "7b5eb109-3e40-41ba-a19a-dbe930eb1e2a"
      },
      "outputs": [
        {
          "ename": "AttributeError",
          "evalue": "'tuple' object has no attribute 'insert'",
          "output_type": "error",
          "traceback": [
            "\u001b[1;31m---------------------------------------------------------------------------\u001b[0m",
            "\u001b[1;31mAttributeError\u001b[0m                            Traceback (most recent call last)",
            "Cell \u001b[1;32mIn[7], line 1\u001b[0m\n\u001b[1;32m----> 1\u001b[0m tuple1\u001b[38;5;241m.\u001b[39minsert(\u001b[38;5;241m1\u001b[39m,\u001b[38;5;241m876\u001b[39m)\n",
            "\u001b[1;31mAttributeError\u001b[0m: 'tuple' object has no attribute 'insert'"
          ]
        }
      ],
      "source": [
        "tuple1.insert(1,876)"
      ]
    },
    {
      "cell_type": "code",
      "execution_count": null,
      "id": "fbe5ca32",
      "metadata": {
        "id": "fbe5ca32",
        "outputId": "2309af49-6583-4034-d2fc-879b50ed127b"
      },
      "outputs": [
        {
          "name": "stdout",
          "output_type": "stream",
          "text": [
            "(12, 25.56, True, 'python', 12, 12, 12) <class 'tuple'>\n"
          ]
        }
      ],
      "source": [
        "tuple1 = (12, 25.56, True, \"python\",12,12,12)\n",
        "\n",
        "print(tuple1,type(tuple1))"
      ]
    },
    {
      "cell_type": "code",
      "execution_count": null,
      "id": "83ded964",
      "metadata": {
        "id": "83ded964",
        "outputId": "c4cd6b60-01c6-4edb-bdcc-55c7c3ff53bb"
      },
      "outputs": [
        {
          "data": {
            "text/plain": [
              "1"
            ]
          },
          "execution_count": 14,
          "metadata": {},
          "output_type": "execute_result"
        }
      ],
      "source": [
        "tuple1.count(True)"
      ]
    },
    {
      "cell_type": "code",
      "execution_count": null,
      "id": "537787ee",
      "metadata": {
        "id": "537787ee",
        "outputId": "7b9b5251-7f39-49e3-d00b-323580d7dfc5"
      },
      "outputs": [
        {
          "data": {
            "text/plain": [
              "3"
            ]
          },
          "execution_count": 15,
          "metadata": {},
          "output_type": "execute_result"
        }
      ],
      "source": [
        "tuple1.index(\"python\")"
      ]
    },
    {
      "cell_type": "code",
      "execution_count": null,
      "id": "f0b6fbb2",
      "metadata": {
        "id": "f0b6fbb2",
        "outputId": "20142513-c219-41de-8c1e-7f8ae26f7015"
      },
      "outputs": [
        {
          "data": {
            "text/plain": [
              "7"
            ]
          },
          "execution_count": 16,
          "metadata": {},
          "output_type": "execute_result"
        }
      ],
      "source": [
        "len(tuple1)"
      ]
    },
    {
      "cell_type": "code",
      "execution_count": null,
      "id": "8e523819",
      "metadata": {
        "id": "8e523819",
        "outputId": "79b0aed4-73cb-46dc-b977-09eef72f82ce"
      },
      "outputs": [
        {
          "name": "stdout",
          "output_type": "stream",
          "text": [
            "(12, 34, (45, 23), [676, 43, [34, 100], 43], 'python', 'java') <class 'tuple'>\n"
          ]
        }
      ],
      "source": [
        "t = (12,34,(45,23),[676,43,[34,100],43],\"python\",\"java\")\n",
        "\n",
        "print(t, type(t))"
      ]
    },
    {
      "cell_type": "code",
      "execution_count": null,
      "id": "f174470c-06ab-4c88-8d9b-02d8d92df8ab",
      "metadata": {
        "id": "f174470c-06ab-4c88-8d9b-02d8d92df8ab",
        "outputId": "6d79b4dd-88a7-4eae-ec18-d2c84ab3eaa8"
      },
      "outputs": [
        {
          "data": {
            "text/plain": [
              "23"
            ]
          },
          "execution_count": 19,
          "metadata": {},
          "output_type": "execute_result"
        }
      ],
      "source": [
        "t[2][1]"
      ]
    },
    {
      "cell_type": "code",
      "execution_count": null,
      "id": "5b6c14ab-efe9-46df-af5b-c458b39aacc2",
      "metadata": {
        "id": "5b6c14ab-efe9-46df-af5b-c458b39aacc2",
        "outputId": "40a58756-55d6-4d91-ee9f-413d02fbbf0d"
      },
      "outputs": [
        {
          "data": {
            "text/plain": [
              "43"
            ]
          },
          "execution_count": 22,
          "metadata": {},
          "output_type": "execute_result"
        }
      ],
      "source": [
        "t[3][3]"
      ]
    },
    {
      "cell_type": "code",
      "execution_count": null,
      "id": "df331251",
      "metadata": {
        "id": "df331251",
        "outputId": "32d66fb4-6654-444e-e7ec-083756219353"
      },
      "outputs": [
        {
          "data": {
            "text/plain": [
              "34"
            ]
          },
          "execution_count": 24,
          "metadata": {},
          "output_type": "execute_result"
        }
      ],
      "source": [
        "t[3][2][0]"
      ]
    },
    {
      "cell_type": "code",
      "execution_count": null,
      "id": "50ca42f6",
      "metadata": {
        "id": "50ca42f6"
      },
      "outputs": [],
      "source": [
        "print(type(t[3]))"
      ]
    },
    {
      "cell_type": "code",
      "execution_count": null,
      "id": "a10c34ff",
      "metadata": {
        "id": "a10c34ff",
        "outputId": "2a376e82-4401-4828-be09-92ce23368c61"
      },
      "outputs": [
        {
          "name": "stdout",
          "output_type": "stream",
          "text": [
            "(12, 34, (45, 23), [676, 43, [34, 100], 43], 'python', 'java')\n"
          ]
        }
      ],
      "source": [
        "# reverse the tuple\n",
        "\n",
        "\n",
        "print(t[: : ])"
      ]
    },
    {
      "cell_type": "code",
      "execution_count": null,
      "id": "7bcfab8c-e417-4342-a121-9239f301fa2a",
      "metadata": {
        "id": "7bcfab8c-e417-4342-a121-9239f301fa2a"
      },
      "outputs": [],
      "source": []
    },
    {
      "cell_type": "code",
      "execution_count": null,
      "id": "6ca0ff90-78d8-460a-b921-9df5676637b0",
      "metadata": {
        "id": "6ca0ff90-78d8-460a-b921-9df5676637b0"
      },
      "outputs": [],
      "source": [
        "t[ start : end : step]"
      ]
    },
    {
      "cell_type": "code",
      "execution_count": null,
      "id": "537738f9-08ab-4024-aaa7-0033e6cd12c3",
      "metadata": {
        "id": "537738f9-08ab-4024-aaa7-0033e6cd12c3"
      },
      "outputs": [],
      "source": []
    },
    {
      "cell_type": "code",
      "execution_count": null,
      "id": "df2785bc",
      "metadata": {
        "id": "df2785bc",
        "outputId": "f1847ef6-3fdf-40e8-fcc9-578b75e10c81"
      },
      "outputs": [
        {
          "name": "stdout",
          "output_type": "stream",
          "text": [
            "(12, 34, (45, 23), [676, 43, [34, 100], 43], 'python', 'java')\n",
            "()\n"
          ]
        }
      ],
      "source": [
        "print(t)\n",
        "\n",
        "#print(t[:3])\n",
        "\n",
        "print(t[0:10:-1])"
      ]
    },
    {
      "cell_type": "code",
      "execution_count": null,
      "id": "96106a26",
      "metadata": {
        "id": "96106a26",
        "outputId": "de2eb739-86d0-4ed9-c7be-96efc6a81000"
      },
      "outputs": [
        {
          "name": "stdout",
          "output_type": "stream",
          "text": [
            "(12, 762647643, 'python', 'java') <class 'tuple'>\n"
          ]
        }
      ],
      "source": [
        "# change, add, remove any value in the tuple\n",
        "\n",
        "#convert into list\n",
        "\n",
        "t = (12,34,\"python\",\"java\")\n",
        "\n",
        "# converting tuple to list\n",
        "list1 = list(t)\n",
        "\n",
        "# changing the value of 1 index\n",
        "list1[1] = 762647643\n",
        "\n",
        "# changing from list to tuple\n",
        "t = tuple(list1)\n",
        "\n",
        "print(t,type(t))\n",
        "\n",
        "#print(type(list1),list1)\n"
      ]
    },
    {
      "cell_type": "code",
      "execution_count": null,
      "id": "f2ac047a-f62f-4c04-b874-0575d0f2724e",
      "metadata": {
        "scrolled": true,
        "id": "f2ac047a-f62f-4c04-b874-0575d0f2724e",
        "outputId": "983d79fb-f15f-4729-f710-af07572cc25c"
      },
      "outputs": [
        {
          "data": {
            "text/plain": [
              "[1, 2, 1.0, 2]"
            ]
          },
          "execution_count": 42,
          "metadata": {},
          "output_type": "execute_result"
        }
      ],
      "source": [
        "a=(1,2,1.0,2)\n",
        "b=list(a)\n",
        "b"
      ]
    },
    {
      "cell_type": "code",
      "execution_count": null,
      "id": "57aed477-e405-452c-af01-f369f4e7c066",
      "metadata": {
        "id": "57aed477-e405-452c-af01-f369f4e7c066",
        "outputId": "451b83d7-6632-4df8-c48c-b3c62d81f020"
      },
      "outputs": [
        {
          "data": {
            "text/plain": [
              "(1, 2, 4.5, 7)"
            ]
          },
          "execution_count": 43,
          "metadata": {},
          "output_type": "execute_result"
        }
      ],
      "source": [
        "a=[1,2,4.5,7]\n",
        "b=tuple(a)\n",
        "b"
      ]
    },
    {
      "cell_type": "code",
      "execution_count": null,
      "id": "48173210",
      "metadata": {
        "id": "48173210",
        "outputId": "0e679140-7de8-4857-c01c-cf6e9c44227f"
      },
      "outputs": [
        {
          "name": "stdout",
          "output_type": "stream",
          "text": [
            "(12, 34, (45, 23), [676, 43, 43], 'python', 'java', 762647643) <class 'tuple'>\n"
          ]
        }
      ],
      "source": [
        "# add value to the tuple\n",
        "\n",
        "t = (12,34,(45,23),[676,43,43],\"python\",\"java\")\n",
        "\n",
        "list1 = list(t)\n",
        "\n",
        "list1.append(762647643)\n",
        "\n",
        "t = tuple(list1)\n",
        "\n",
        "print(t,type(t))"
      ]
    },
    {
      "cell_type": "code",
      "execution_count": null,
      "id": "446c2cdc",
      "metadata": {
        "id": "446c2cdc",
        "outputId": "5602568f-8dbd-403d-87f8-36ded7307f74"
      },
      "outputs": [
        {
          "name": "stdout",
          "output_type": "stream",
          "text": [
            "(12, 34, (45, 23), [676, 43, 43], 'python')\n"
          ]
        }
      ],
      "source": [
        "# remove a value in tuple by converting into list\n",
        "\n",
        "t = (12,34,(45,23),[676,43,43],\"python\",\"java\")\n",
        "\n",
        "list1 = list(t)\n",
        "\n",
        "list1.remove(\"java\")\n",
        "\n",
        "t = tuple(list1)\n",
        "\n",
        "print(t)"
      ]
    },
    {
      "cell_type": "code",
      "execution_count": null,
      "id": "78f59a76",
      "metadata": {
        "id": "78f59a76",
        "outputId": "ec45743b-e18b-4da1-f36b-b50c74473eb2"
      },
      "outputs": [
        {
          "name": "stdout",
          "output_type": "stream",
          "text": [
            "(43, 43534, 56, 6, 54, 45, 56, 354, 54) <class 'tuple'>\n"
          ]
        }
      ],
      "source": [
        "# to join two tuple to one tuple\n",
        "\n",
        "t = (43,43534,56,6)\n",
        "h = (54,45,56,354,54)\n",
        "\n",
        "c = t + h\n",
        "\n",
        "print(c,type(c))"
      ]
    },
    {
      "cell_type": "code",
      "execution_count": null,
      "id": "48962e25",
      "metadata": {
        "id": "48962e25"
      },
      "outputs": [],
      "source": []
    },
    {
      "cell_type": "code",
      "execution_count": null,
      "id": "f32616a9",
      "metadata": {
        "id": "f32616a9"
      },
      "outputs": [],
      "source": [
        "Tuple Creation and Access:\n",
        "\n",
        "How would you create a tuple containing the elements 'apple', 'banana', and 'cherry'?\n",
        "If you have a tuple my_tuple = (10, 20, 30), how would you access the second element?\n",
        "print(my_tuple[2])\n",
        "\n",
        "Immutable Nature:\n",
        "\n",
        "Explain why tuples are immutable in Python and give an example demonstrating this property.\n",
        "\n",
        "\n",
        "Tuple Packing and Unpacking:\n",
        "\n",
        "What is tuple packing and how is it done in Python?\n",
        "How would you unpack a tuple (5, 'hello', True) into three separate variables?\n",
        "\n",
        "\n",
        "Tuple Methods:\n",
        "\n",
        "Describe a method used to find the index of a specific element within a tuple.\n",
        "How would you count the occurrences of a value within a tuple?\n",
        "\n",
        "\n",
        "Tuple Operations:\n",
        "\n",
        "Explain how you would concatenate two tuples.\n",
        "Is it possible to modify the elements of a tuple after it has been created? If not, why?"
      ]
    },
    {
      "cell_type": "code",
      "execution_count": null,
      "id": "a232a4a0",
      "metadata": {
        "id": "a232a4a0",
        "outputId": "e9e30c8f-ef60-466e-b6cc-ee450d687199"
      },
      "outputs": [
        {
          "name": "stdout",
          "output_type": "stream",
          "text": [
            "(43, 433, 'python', 23.2, True) <class 'tuple'>\n",
            "5\n",
            "hello\n",
            "True\n"
          ]
        }
      ],
      "source": [
        "#Tuple Packing and Unpacking:\n",
        "\n",
        "#What is tuple packing and how is it done in Python?\n",
        "\n",
        "a = 43,433,\"python\",23.2,True\n",
        "a=(1,3,4,1.6)\n",
        "print(a,type(a))\n",
        "\n",
        "#How would you unpack a tuple (5, 'hello', True) into three separate variables?\n",
        "\n",
        "b = (5,\"hello\",True)\n",
        "\n",
        "x,y,z = b\n",
        "\n",
        "print(x)\n",
        "\n",
        "print(y)\n",
        "\n",
        "print(z)\n",
        "\n"
      ]
    },
    {
      "cell_type": "markdown",
      "id": "6e88d33d",
      "metadata": {
        "id": "6e88d33d"
      },
      "source": [
        "# Range"
      ]
    },
    {
      "cell_type": "raw",
      "id": "cc1c75ad",
      "metadata": {
        "id": "cc1c75ad"
      },
      "source": [
        "# range(start, stop, step)"
      ]
    },
    {
      "cell_type": "code",
      "execution_count": null,
      "id": "9da99467",
      "metadata": {
        "id": "9da99467",
        "outputId": "69c0758e-2755-4ac9-f482-938b69fcaebc"
      },
      "outputs": [
        {
          "name": "stdout",
          "output_type": "stream",
          "text": [
            "<class 'range'> range(0, 10)\n"
          ]
        }
      ],
      "source": [
        "a = range(10)\n",
        "\n",
        "print(type(a),a)"
      ]
    },
    {
      "cell_type": "code",
      "execution_count": null,
      "id": "9f52abdf",
      "metadata": {
        "id": "9f52abdf",
        "outputId": "7c19e20a-36ca-4488-f748-5ad13c568bb9"
      },
      "outputs": [
        {
          "name": "stdout",
          "output_type": "stream",
          "text": [
            "0\n",
            "1\n",
            "2\n",
            "3\n",
            "4\n",
            "5\n",
            "6\n",
            "7\n",
            "8\n",
            "9\n"
          ]
        }
      ],
      "source": [
        "for i in a:\n",
        "    print(i)"
      ]
    },
    {
      "cell_type": "code",
      "execution_count": null,
      "id": "71a5ba4f",
      "metadata": {
        "id": "71a5ba4f",
        "outputId": "f292c64e-de7f-4877-9fa4-64b49324e33b"
      },
      "outputs": [
        {
          "name": "stdout",
          "output_type": "stream",
          "text": [
            "0\n",
            "1\n",
            "2\n",
            "3\n",
            "4\n",
            "5\n",
            "6\n",
            "7\n",
            "8\n",
            "9\n"
          ]
        }
      ],
      "source": [
        "for abc in range(0,10):\n",
        "    print(abc)"
      ]
    },
    {
      "cell_type": "code",
      "execution_count": null,
      "id": "8aa8c6d5",
      "metadata": {
        "id": "8aa8c6d5",
        "outputId": "863b43ab-13ea-468d-a1f5-7633f34f82d1"
      },
      "outputs": [
        {
          "name": "stdout",
          "output_type": "stream",
          "text": [
            "5\n",
            "6\n",
            "7\n",
            "8\n",
            "9\n"
          ]
        }
      ],
      "source": [
        "# range(start, stop, step)\n",
        "\n",
        "for x in range(5,10):\n",
        "    print(x)"
      ]
    },
    {
      "cell_type": "code",
      "execution_count": null,
      "id": "8eae5757",
      "metadata": {
        "id": "8eae5757",
        "outputId": "6b93f67a-00a4-4a01-fee0-ebc0816da4fd"
      },
      "outputs": [
        {
          "name": "stdout",
          "output_type": "stream",
          "text": [
            "1\n",
            "3\n",
            "5\n",
            "7\n",
            "9\n"
          ]
        }
      ],
      "source": [
        "#odd numbers\n",
        "for xyz in range(1,10,2):\n",
        "    print(xyz)"
      ]
    },
    {
      "cell_type": "code",
      "execution_count": null,
      "id": "a877ad63",
      "metadata": {
        "id": "a877ad63"
      },
      "outputs": [],
      "source": [
        "#even numbers\n",
        "for xyz in range(2,10,-2):\n",
        "    print(xyz)"
      ]
    },
    {
      "cell_type": "code",
      "execution_count": null,
      "id": "1d48ff4a",
      "metadata": {
        "id": "1d48ff4a",
        "outputId": "879cf42a-4d1c-46c2-dedd-6837dc229ebc"
      },
      "outputs": [
        {
          "name": "stdout",
          "output_type": "stream",
          "text": [
            "0\n",
            "1\n",
            "2\n",
            "3\n"
          ]
        }
      ],
      "source": [
        "for x in range(4):\n",
        "    print(x)\n",
        ""
      ]
    },
    {
      "cell_type": "markdown",
      "id": "954e00aa",
      "metadata": {
        "id": "954e00aa"
      },
      "source": [
        "# Dict"
      ]
    },
    {
      "cell_type": "code",
      "execution_count": null,
      "id": "49f450c3",
      "metadata": {
        "id": "49f450c3"
      },
      "outputs": [],
      "source": [
        "the purpose of dict data type is that \" to store (key, value) in single variable.\"\n",
        "- it will enclosed within curly braces {}.\n",
        "key should be unique and value may not be unique.\n"
      ]
    },
    {
      "cell_type": "code",
      "execution_count": null,
      "id": "cd9cac86",
      "metadata": {
        "id": "cd9cac86"
      },
      "outputs": [],
      "source": [
        "#clear()\tRemoves all the elements from the dictionary\n",
        "#copy()\t Returns a copy of the dictionary\n",
        "#get()\tReturns the value of the specified key\n",
        "#items()\tReturns a list containing a tuple for each key value pair\n",
        "#keys()\tReturns a list containing the dictionary's keys\n",
        "#values()\tReturns a list of all the values in the dictionary\n",
        "#pop()\tRemoves the element with the specified key\n",
        "#popitem()\tRemoves the last inserted key-value pair\n",
        "#update()\tUpdates the dictionary with the specified key-value pairs\n"
      ]
    },
    {
      "cell_type": "code",
      "execution_count": null,
      "id": "dcc8b213",
      "metadata": {
        "id": "dcc8b213",
        "outputId": "be2fae8f-378a-4f77-b548-38331025acfa"
      },
      "outputs": [
        {
          "name": "stdout",
          "output_type": "stream",
          "text": [
            "{1: 100, 2: 200.9, 'age': 43}\n",
            "{'name': 'Raj', 'age': 36, 'Salary': 30000} <class 'dict'>\n"
          ]
        }
      ],
      "source": [
        "dict1 = {\"name\":\"Raj\",\"age\":32,\"Salary\":30000,\"age\":36}\n",
        "\n",
        "dict2 = {1:100,2:200.9,\"age\":43}\n",
        "\n",
        "print(dict2)\n",
        "\n",
        "print(dict1, type(dict1))"
      ]
    },
    {
      "cell_type": "code",
      "execution_count": null,
      "id": "e1c6e3ab",
      "metadata": {
        "id": "e1c6e3ab",
        "outputId": "ceb9cdb5-9b07-45f1-b90c-2aa378f4edbe"
      },
      "outputs": [
        {
          "data": {
            "text/plain": [
              "30000"
            ]
          },
          "execution_count": 27,
          "metadata": {},
          "output_type": "execute_result"
        }
      ],
      "source": [
        "# there is no indexing in dict, key will be the index for dict\n",
        "\n",
        "\n",
        "#list1[1]\n",
        "dict1[\"Salary\"]\n",
        "\n",
        "#dict1[1]\n"
      ]
    },
    {
      "cell_type": "code",
      "execution_count": null,
      "id": "acc33afa",
      "metadata": {
        "id": "acc33afa"
      },
      "outputs": [],
      "source": [
        "\n",
        "\n",
        "dict1[\"Salary\"]"
      ]
    },
    {
      "cell_type": "markdown",
      "id": "19e821e1",
      "metadata": {
        "id": "19e821e1"
      },
      "source": [
        "# Pre-defined function"
      ]
    },
    {
      "cell_type": "code",
      "execution_count": null,
      "id": "5d3c822c",
      "metadata": {
        "id": "5d3c822c"
      },
      "outputs": [],
      "source": [
        "#1. clear()\n",
        "\n",
        "dict1.clear()"
      ]
    },
    {
      "cell_type": "code",
      "execution_count": null,
      "id": "0fd039a4",
      "metadata": {
        "id": "0fd039a4",
        "outputId": "5a7b5707-8451-458f-c291-e270a03f5375"
      },
      "outputs": [
        {
          "name": "stdout",
          "output_type": "stream",
          "text": [
            "{}\n"
          ]
        }
      ],
      "source": [
        "print(dict1)"
      ]
    },
    {
      "cell_type": "code",
      "execution_count": null,
      "id": "a3e367f7",
      "metadata": {
        "id": "a3e367f7",
        "outputId": "55bcdf8c-e7f4-470e-c8f2-a03b53d7a8f3"
      },
      "outputs": [
        {
          "data": {
            "text/plain": [
              "32"
            ]
          },
          "execution_count": 30,
          "metadata": {},
          "output_type": "execute_result"
        }
      ],
      "source": [
        "#2. pop()\n",
        "\n",
        "dict1 = {\"name\":\"Rohit\",\"age\":32,\"salary\":65624}\n",
        "\n",
        "dict1.pop(\"age\")"
      ]
    },
    {
      "cell_type": "code",
      "execution_count": null,
      "id": "68f5fd00",
      "metadata": {
        "id": "68f5fd00",
        "outputId": "651c017a-4195-4105-95c0-ba2822c75879"
      },
      "outputs": [
        {
          "name": "stdout",
          "output_type": "stream",
          "text": [
            "{'name': 'Rohit', 'salary': 65624}\n"
          ]
        }
      ],
      "source": [
        "print(dict1)"
      ]
    },
    {
      "cell_type": "code",
      "execution_count": null,
      "id": "48bee167",
      "metadata": {
        "id": "48bee167"
      },
      "outputs": [],
      "source": [
        "#3. popitem()---- used for remove last (key, value ) pair from dict.\n",
        "\n",
        "dict1 = {\"name\":\"Rohit\",\"age\":32,\"salary\":65624}\n",
        "\n"
      ]
    },
    {
      "cell_type": "code",
      "execution_count": null,
      "id": "80b204cf",
      "metadata": {
        "id": "80b204cf",
        "outputId": "5bd62179-1fde-4121-8616-38f21e432708"
      },
      "outputs": [
        {
          "data": {
            "text/plain": [
              "('age', 32)"
            ]
          },
          "execution_count": 35,
          "metadata": {},
          "output_type": "execute_result"
        }
      ],
      "source": [
        "dict1.popitem()"
      ]
    },
    {
      "cell_type": "code",
      "execution_count": null,
      "id": "54c852fb",
      "metadata": {
        "id": "54c852fb",
        "outputId": "21797640-9275-42d4-f6f3-afd8012ec430"
      },
      "outputs": [
        {
          "name": "stdout",
          "output_type": "stream",
          "text": [
            "{'name': 'Rohit'}\n"
          ]
        }
      ],
      "source": [
        "print(dict1)"
      ]
    },
    {
      "cell_type": "code",
      "execution_count": null,
      "id": "a642234a",
      "metadata": {
        "id": "a642234a"
      },
      "outputs": [],
      "source": [
        "#4. copy()-- used for copying the content of one dict into another dict.\n",
        "\n",
        "dict1 = {\"name\":\"Rohit\",\"age\":32,\"salary\":65624}\n",
        "\n",
        "dict2 = dict1.copy()"
      ]
    },
    {
      "cell_type": "code",
      "execution_count": null,
      "id": "597d2971",
      "metadata": {
        "id": "597d2971",
        "outputId": "c001f995-3ecc-4333-aa2c-4237d3a17ae9"
      },
      "outputs": [
        {
          "name": "stdout",
          "output_type": "stream",
          "text": [
            "{'name': 'Rohit', 'age': 32, 'salary': 65624}\n"
          ]
        }
      ],
      "source": [
        "print(dict2)"
      ]
    },
    {
      "cell_type": "code",
      "execution_count": null,
      "id": "8f40bcd4",
      "metadata": {
        "id": "8f40bcd4",
        "outputId": "44a45d9a-f2f1-49a7-fe30-4f9fa1c21d66"
      },
      "outputs": [
        {
          "data": {
            "text/plain": [
              "dict_keys(['name', 'age', 'salary'])"
            ]
          },
          "execution_count": 39,
          "metadata": {},
          "output_type": "execute_result"
        }
      ],
      "source": [
        "#5. keys() - to see all the keys\n",
        "\n",
        "dict1.keys()\n"
      ]
    },
    {
      "cell_type": "code",
      "execution_count": null,
      "id": "f326007d",
      "metadata": {
        "id": "f326007d",
        "outputId": "b87c6f13-2e4e-47f3-819c-d6708564d259"
      },
      "outputs": [
        {
          "data": {
            "text/plain": [
              "dict_values(['Rohit', 32, 65624])"
            ]
          },
          "execution_count": 40,
          "metadata": {},
          "output_type": "execute_result"
        }
      ],
      "source": [
        "#6. values()  - to see all the values\n",
        "\n",
        "dict1.values()"
      ]
    },
    {
      "cell_type": "code",
      "execution_count": null,
      "id": "a695a3a0",
      "metadata": {
        "id": "a695a3a0",
        "outputId": "64e5491f-12bb-4617-a654-91c14af4b419"
      },
      "outputs": [
        {
          "name": "stdout",
          "output_type": "stream",
          "text": [
            "dict_items([('name', 'Rohit'), ('age', 32), ('salary', 65624)])\n"
          ]
        }
      ],
      "source": [
        "#7. items()  -  to see both keys & values\n",
        "\n",
        "print(dict1.items())"
      ]
    },
    {
      "cell_type": "code",
      "execution_count": null,
      "id": "391c7738",
      "metadata": {
        "id": "391c7738"
      },
      "outputs": [],
      "source": [
        "#8. get() -  to see the"
      ]
    },
    {
      "cell_type": "code",
      "execution_count": null,
      "id": "e8ad84c8",
      "metadata": {
        "id": "e8ad84c8",
        "outputId": "894f8459-13ad-48d0-82da-0b867c1c972c"
      },
      "outputs": [
        {
          "name": "stdout",
          "output_type": "stream",
          "text": [
            "32\n"
          ]
        }
      ],
      "source": [
        "dict1 = {\"name\":\"Rohit\",\"age\":32,\"salary\":65624}\n",
        "\n",
        "print(dict1.get(\"age\"))\n"
      ]
    },
    {
      "cell_type": "code",
      "execution_count": null,
      "id": "51ff0dbf",
      "metadata": {
        "id": "51ff0dbf",
        "outputId": "a832e185-6d77-4215-d91e-8b3c8fea5650"
      },
      "outputs": [
        {
          "name": "stdout",
          "output_type": "stream",
          "text": [
            "32\n"
          ]
        }
      ],
      "source": [
        "print(dict1[\"age\"])\n"
      ]
    },
    {
      "cell_type": "code",
      "execution_count": null,
      "id": "02b4b438",
      "metadata": {
        "id": "02b4b438",
        "outputId": "f25a89d5-64fb-4aaa-8116-a97d7084bdbe"
      },
      "outputs": [
        {
          "name": "stdout",
          "output_type": "stream",
          "text": [
            "{'name': 'Gill', 'age': 45, 'salary': 65624, 'city': 233, 'Department': 'Dev'}\n"
          ]
        }
      ],
      "source": [
        "#9. update() - Updates the dictionary with the specified key-value pairs\n",
        "\n",
        "dict1 = {\"name\":\"Rohit\",\"age\":32,\"salary\":65624}\n",
        "dict2 = {\"city\":233,\"Department\":\"Dev\",\"name\":\"Gill\",'age':45}\n",
        "\n",
        "dict1.update(dict2)\n",
        "\n",
        "print(dict1)"
      ]
    },
    {
      "cell_type": "code",
      "execution_count": null,
      "id": "1d42a66b",
      "metadata": {
        "id": "1d42a66b",
        "outputId": "39900999-49ea-43c1-f2e6-3de74a4751a9"
      },
      "outputs": [
        {
          "name": "stdout",
          "output_type": "stream",
          "text": [
            "{'name': ['Rohit', 'Gill', 'Virat', 'Vimal'], 'age': (32, 45, 34, 24), 'salary': [65624, 2000, 3243, 4564]}\n",
            "<class 'dict'>\n"
          ]
        }
      ],
      "source": [
        "# mutiple values\n",
        "\n",
        "dict1 = {\"name\":[\"Rohit\",\"Gill\",\"Virat\",\"Vimal\"],\"age\":(32,45,34,24),\"salary\":[65624,2000,3243,4564]}\n",
        "\n",
        "\n",
        "print(dict1)\n",
        "\n",
        "print(type(dict1))"
      ]
    },
    {
      "cell_type": "markdown",
      "id": "8a419ad8",
      "metadata": {
        "id": "8a419ad8"
      },
      "source": [
        "# set"
      ]
    },
    {
      "cell_type": "raw",
      "id": "0cef66d2",
      "metadata": {
        "id": "0cef66d2"
      },
      "source": [
        "To store multiple values in single or different type of value in one single variable.\n",
        "set, you can store only unique value.\n",
        "you should enclosed within curly braces {}\n",
        "set does not support order\n",
        "We can't use indexing and slicing.\n",
        "set is a mutable object. But by using add(), we can add values into set.so set is mutable for add()."
      ]
    },
    {
      "cell_type": "code",
      "execution_count": null,
      "id": "493f313c",
      "metadata": {
        "scrolled": true,
        "id": "493f313c",
        "outputId": "b9547a3c-d9bd-4fda-d658-de3857e2259a"
      },
      "outputs": [
        {
          "name": "stdout",
          "output_type": "stream",
          "text": [
            "{0, True, 34.5, 40, 10, 'python', 20, 'hello', 30} <class 'set'>\n"
          ]
        }
      ],
      "source": [
        "set1 = {10,20,30,40,\"hello\", \"python\",10, 34.5, True, 1, 0, False}  # true & 1 will be consider as 1\n",
        "\n",
        "print(set1,type(set1))"
      ]
    },
    {
      "cell_type": "code",
      "execution_count": null,
      "id": "f2ad6c98",
      "metadata": {
        "id": "f2ad6c98",
        "outputId": "b50fb76d-d46a-431a-fcbb-ad7a708162b2"
      },
      "outputs": [
        {
          "name": "stdout",
          "output_type": "stream",
          "text": [
            "{0, True, 34.5, 40, 10, 'python', 20, 'hello', 30}\n"
          ]
        }
      ],
      "source": [
        "print(set1)"
      ]
    },
    {
      "cell_type": "code",
      "execution_count": null,
      "id": "09c24e9c",
      "metadata": {
        "scrolled": true,
        "id": "09c24e9c",
        "outputId": "99dd9a6f-00bb-4911-dc20-8c3285865bb3"
      },
      "outputs": [
        {
          "ename": "TypeError",
          "evalue": "'set' object does not support item assignment",
          "output_type": "error",
          "traceback": [
            "\u001b[1;31m---------------------------------------------------------------------------\u001b[0m",
            "\u001b[1;31mTypeError\u001b[0m                                 Traceback (most recent call last)",
            "Cell \u001b[1;32mIn[48], line 1\u001b[0m\n\u001b[1;32m----> 1\u001b[0m \u001b[43mset1\u001b[49m\u001b[43m[\u001b[49m\u001b[38;5;241;43m2\u001b[39;49m\u001b[43m]\u001b[49m \u001b[38;5;241m=\u001b[39m \u001b[38;5;241m100\u001b[39m  \u001b[38;5;66;03m#immutable.\u001b[39;00m\n",
            "\u001b[1;31mTypeError\u001b[0m: 'set' object does not support item assignment"
          ]
        }
      ],
      "source": [
        "set1[2] = 100  #immutable."
      ]
    },
    {
      "cell_type": "markdown",
      "id": "23a96fab",
      "metadata": {
        "id": "23a96fab"
      },
      "source": [
        "# Pre-defined function in set"
      ]
    },
    {
      "cell_type": "code",
      "execution_count": null,
      "id": "f40f1c06",
      "metadata": {
        "id": "f40f1c06",
        "outputId": "a229e6c1-736d-4bc4-fc1c-d2c56ff6e053"
      },
      "outputs": [
        {
          "name": "stdout",
          "output_type": "stream",
          "text": [
            "{'ram', 'virat', 'hari'} <class 'set'>\n",
            "{'rohit', 'dhoni', 'ram', 'virat'} <class 'set'>\n"
          ]
        }
      ],
      "source": [
        "a = {\"ram\",\"hari\",\"virat\"}\n",
        "\n",
        "b = {\"dhoni\",\"virat\",\"rohit\",\"ram\"}\n",
        "\n",
        "print(a,type(a))\n",
        "print(b,type(b))"
      ]
    },
    {
      "cell_type": "code",
      "execution_count": null,
      "id": "a96728e4",
      "metadata": {
        "scrolled": true,
        "id": "a96728e4",
        "outputId": "87ec6821-ee7b-402d-dba7-6bbfa2b315ff"
      },
      "outputs": [
        {
          "name": "stdout",
          "output_type": "stream",
          "text": [
            "{'rohit', 'ram', 'dhoni', 'virat', 'hari'}\n"
          ]
        }
      ],
      "source": [
        "#1. union() -  to add two set\n",
        "\n",
        "print(a.union(b))\n"
      ]
    },
    {
      "cell_type": "code",
      "execution_count": null,
      "id": "6f159e6f",
      "metadata": {
        "id": "6f159e6f",
        "outputId": "ea94c668-c7dc-45b3-8ed9-ede7da779906"
      },
      "outputs": [
        {
          "name": "stdout",
          "output_type": "stream",
          "text": [
            "{'ram', 'virat'}\n"
          ]
        }
      ],
      "source": [
        "#2. intersection()  -  \tReturns a set, that is the intersection of two other sets\n",
        "\n",
        "print(a.intersection(b))"
      ]
    },
    {
      "cell_type": "code",
      "execution_count": null,
      "id": "8ba4a9db",
      "metadata": {
        "id": "8ba4a9db"
      },
      "outputs": [],
      "source": [
        "a = {\"ram\",\"hari\",\"virat\"}\n",
        "\n",
        "b = {\"dhoni\",\"virat\",\"rohit\"}\n",
        "\n",
        "c = {\"Gill\",\"ram\"}"
      ]
    },
    {
      "cell_type": "code",
      "execution_count": null,
      "id": "afb735d0",
      "metadata": {
        "id": "afb735d0",
        "outputId": "ea55effd-a641-4583-f871-5cbd5793b578"
      },
      "outputs": [
        {
          "name": "stdout",
          "output_type": "stream",
          "text": [
            "{'hari'}\n"
          ]
        }
      ],
      "source": [
        "#3. difference()  -  Returns a set containing the difference between two or more sets\n",
        "\n",
        "print(a.difference(b))\n",
        "\n"
      ]
    },
    {
      "cell_type": "code",
      "execution_count": null,
      "id": "44830816",
      "metadata": {
        "id": "44830816"
      },
      "outputs": [],
      "source": [
        "#4. add()  used for adding value in set"
      ]
    },
    {
      "cell_type": "code",
      "execution_count": null,
      "id": "30460565",
      "metadata": {
        "id": "30460565",
        "outputId": "38174920-1424-4029-81d1-7e2b2dde315a"
      },
      "outputs": [
        {
          "name": "stdout",
          "output_type": "stream",
          "text": [
            "{'gill', 'ram', 'virat', 'hari'}\n"
          ]
        }
      ],
      "source": [
        "a = {\"ram\",\"hari\",\"virat\"}\n",
        "\n",
        "a.add(\"gill\")\n",
        "\n",
        "print(a)"
      ]
    },
    {
      "cell_type": "code",
      "execution_count": null,
      "id": "77d2edee",
      "metadata": {
        "id": "77d2edee"
      },
      "outputs": [],
      "source": [
        "print(a)"
      ]
    },
    {
      "cell_type": "code",
      "execution_count": null,
      "id": "99d60869",
      "metadata": {
        "id": "99d60869",
        "outputId": "35ece9ea-b44d-42f5-e82a-9262d8f31d80"
      },
      "outputs": [
        {
          "name": "stdout",
          "output_type": "stream",
          "text": [
            "{'gill', 'ram', 'hari'}\n"
          ]
        }
      ],
      "source": [
        "#5. remove()\n",
        "\n",
        "a.remove('virat')\n",
        "\n",
        "print(a)"
      ]
    },
    {
      "cell_type": "code",
      "execution_count": null,
      "id": "67c7b5bf",
      "metadata": {
        "id": "67c7b5bf",
        "outputId": "4aaeb2b4-07b5-4d9c-8493-7b01911b7cf2"
      },
      "outputs": [
        {
          "ename": "KeyError",
          "evalue": "55",
          "output_type": "error",
          "traceback": [
            "\u001b[1;31m---------------------------------------------------------------------------\u001b[0m",
            "\u001b[1;31mKeyError\u001b[0m                                  Traceback (most recent call last)",
            "Cell \u001b[1;32mIn[56], line 1\u001b[0m\n\u001b[1;32m----> 1\u001b[0m \u001b[43ma\u001b[49m\u001b[38;5;241;43m.\u001b[39;49m\u001b[43mremove\u001b[49m\u001b[43m(\u001b[49m\u001b[38;5;241;43m55\u001b[39;49m\u001b[43m)\u001b[49m\n",
            "\u001b[1;31mKeyError\u001b[0m: 55"
          ]
        }
      ],
      "source": [
        "a.remove(55)"
      ]
    },
    {
      "cell_type": "code",
      "execution_count": null,
      "id": "ce00544f",
      "metadata": {
        "id": "ce00544f"
      },
      "outputs": [],
      "source": [
        "#6. discard"
      ]
    },
    {
      "cell_type": "code",
      "execution_count": null,
      "id": "c54655bf",
      "metadata": {
        "id": "c54655bf",
        "outputId": "90585c98-609f-4c45-da83-c77da82205b0"
      },
      "outputs": [
        {
          "name": "stdout",
          "output_type": "stream",
          "text": [
            "{'ram', 'hari'}\n"
          ]
        }
      ],
      "source": [
        "a.discard(\"gill\")\n",
        "\n",
        "print(a)"
      ]
    },
    {
      "cell_type": "code",
      "execution_count": null,
      "id": "cf27a8e0",
      "metadata": {
        "id": "cf27a8e0"
      },
      "outputs": [],
      "source": [
        "a.discard(55)          #Not show any error if value is not there in set"
      ]
    },
    {
      "cell_type": "code",
      "execution_count": null,
      "id": "81286145",
      "metadata": {
        "id": "81286145"
      },
      "outputs": [],
      "source": [
        "#7. pop()  --used for removing values from set in random"
      ]
    },
    {
      "cell_type": "code",
      "execution_count": null,
      "id": "e331f43d",
      "metadata": {
        "id": "e331f43d",
        "outputId": "27ee599f-5122-44dd-8e10-7622ecf5f724"
      },
      "outputs": [
        {
          "name": "stdout",
          "output_type": "stream",
          "text": [
            "{True, 34.5, 40, 10, 'python', 20, 'hello', 30}\n"
          ]
        }
      ],
      "source": [
        "set1 = {10,20,30,40,\"hello\", \"python\",10, 34.5, True, 1, 0, False }\n",
        "\n",
        "set1.pop()\n",
        "\n",
        "print(set1)"
      ]
    },
    {
      "cell_type": "code",
      "execution_count": null,
      "id": "688cc1ce",
      "metadata": {
        "id": "688cc1ce",
        "outputId": "66600af0-2270-4da9-c170-e4b64fd21973"
      },
      "outputs": [
        {
          "name": "stdout",
          "output_type": "stream",
          "text": [
            "{34.5, 40, 10, 'python', 20, 'hello', 30}\n"
          ]
        }
      ],
      "source": [
        "set1.pop()\n",
        "\n",
        "print(set1)"
      ]
    },
    {
      "cell_type": "code",
      "execution_count": null,
      "id": "841b5996",
      "metadata": {
        "id": "841b5996",
        "outputId": "8a9f1a6c-9c45-4894-8ee5-2f598b89a98a"
      },
      "outputs": [
        {
          "data": {
            "text/plain": [
              "{10, 20, 30, 40, 'hello', 'python'}"
            ]
          },
          "execution_count": 62,
          "metadata": {},
          "output_type": "execute_result"
        }
      ],
      "source": [
        "set1.pop()\n",
        "set1"
      ]
    },
    {
      "cell_type": "markdown",
      "id": "cf14e1da",
      "metadata": {
        "id": "cf14e1da"
      },
      "source": [
        "# frozenset"
      ]
    },
    {
      "cell_type": "code",
      "execution_count": null,
      "id": "31d4cd5b",
      "metadata": {
        "id": "31d4cd5b"
      },
      "outputs": [],
      "source": [
        "To store multiple values in single or different type of value in one single variable.\n",
        "it is immutable type\n",
        "unique value"
      ]
    },
    {
      "cell_type": "code",
      "execution_count": null,
      "id": "fc6adb5f",
      "metadata": {
        "id": "fc6adb5f"
      },
      "outputs": [],
      "source": [
        "# frozenset([] or () or {})\n",
        "\n",
        "froze = frozenset([2,3,4.5,\"hi\"])\n",
        "\n",
        "print(froze,type(froze))"
      ]
    },
    {
      "cell_type": "code",
      "execution_count": null,
      "id": "95052015",
      "metadata": {
        "id": "95052015"
      },
      "outputs": [],
      "source": [
        "f=frozenset((10,20,30,40,30,50,))\n",
        "\n",
        "print(f,type(f))"
      ]
    },
    {
      "cell_type": "code",
      "execution_count": null,
      "id": "d07ff46a",
      "metadata": {
        "id": "d07ff46a"
      },
      "outputs": [],
      "source": [
        "f=frozenset({10,10,30,40,30,50})\n",
        "\n",
        "print(f,type(f))"
      ]
    },
    {
      "cell_type": "code",
      "execution_count": null,
      "id": "f1cb3909",
      "metadata": {
        "id": "f1cb3909"
      },
      "outputs": [],
      "source": [
        "f=frozenset()\n",
        "\n",
        "print(f,type(f))"
      ]
    },
    {
      "cell_type": "code",
      "execution_count": null,
      "id": "e8f03e64",
      "metadata": {
        "id": "e8f03e64"
      },
      "outputs": [],
      "source": []
    },
    {
      "cell_type": "markdown",
      "id": "48f4b053",
      "metadata": {
        "id": "48f4b053"
      },
      "source": [
        "# None data types"
      ]
    },
    {
      "cell_type": "code",
      "execution_count": null,
      "id": "3980c62f",
      "metadata": {
        "id": "3980c62f"
      },
      "outputs": [],
      "source": [
        "a = 0\n",
        "\n",
        "print(a, type(a))"
      ]
    },
    {
      "cell_type": "code",
      "execution_count": null,
      "id": "d224a237",
      "metadata": {
        "id": "d224a237"
      },
      "outputs": [],
      "source": [
        "a = None\n",
        "\n",
        "print(a, type(a))"
      ]
    },
    {
      "cell_type": "code",
      "execution_count": null,
      "id": "daad3d6b",
      "metadata": {
        "id": "daad3d6b"
      },
      "outputs": [],
      "source": []
    }
  ],
  "metadata": {
    "kernelspec": {
      "display_name": "Python 3 (ipykernel)",
      "language": "python",
      "name": "python3"
    },
    "language_info": {
      "codemirror_mode": {
        "name": "ipython",
        "version": 3
      },
      "file_extension": ".py",
      "mimetype": "text/x-python",
      "name": "python",
      "nbconvert_exporter": "python",
      "pygments_lexer": "ipython3",
      "version": "3.11.7"
    },
    "colab": {
      "provenance": [],
      "include_colab_link": true
    }
  },
  "nbformat": 4,
  "nbformat_minor": 5
}