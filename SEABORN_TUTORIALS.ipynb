{
  "cells": [
    {
      "cell_type": "markdown",
      "metadata": {
        "id": "view-in-github",
        "colab_type": "text"
      },
      "source": [
        "<a href=\"https://colab.research.google.com/github/mdfazalm/Python/blob/main/SEABORN_TUTORIALS.ipynb\" target=\"_parent\"><img src=\"https://colab.research.google.com/assets/colab-badge.svg\" alt=\"Open In Colab\"/></a>"
      ]
    },
    {
      "cell_type": "markdown",
      "metadata": {
        "id": "5AxFe4tggbK9"
      },
      "source": [
        "# Seaborn"
      ],
      "id": "5AxFe4tggbK9"
    },
    {
      "cell_type": "raw",
      "metadata": {
        "id": "Kl3af-aRgbLK"
      },
      "source": [
        "1. Seaborn is a Python data visualization library that simplifies\n",
        "the creation of aesthetically pleasing statistical graphics.\n",
        "2. It works seamlessly with Pandas DataFrames, offers beautiful\n",
        "default aesthetics, and provides various plot types for exploring and presenting data.\n",
        "3. Seaborn is widely used for data analysis and visualization in\n",
        "Python due to its concise syntax, statistical enhancements, and extensive customization options."
      ],
      "id": "Kl3af-aRgbLK"
    },
    {
      "cell_type": "code",
      "execution_count": null,
      "metadata": {
        "id": "Fd3AuLFngbLN"
      },
      "outputs": [],
      "source": [
        "pip install seaborn"
      ],
      "id": "Fd3AuLFngbLN"
    },
    {
      "cell_type": "code",
      "execution_count": null,
      "metadata": {
        "id": "hYDsSQutgbLT"
      },
      "outputs": [],
      "source": [
        "import seaborn as sns\n",
        "import matplotlib.pyplot as plt"
      ],
      "id": "hYDsSQutgbLT"
    },
    {
      "cell_type": "code",
      "execution_count": null,
      "metadata": {
        "id": "c9s83Pf-gbLW"
      },
      "outputs": [],
      "source": [
        "sns.get_dataset_names()   # internet connection required"
      ],
      "id": "c9s83Pf-gbLW"
    },
    {
      "cell_type": "code",
      "execution_count": null,
      "metadata": {
        "id": "ssuY1FkRgbLY"
      },
      "outputs": [],
      "source": [
        "#load dataset\n",
        "titanic = sns.load_dataset('titanic')\n",
        "\n",
        "titanic"
      ],
      "id": "ssuY1FkRgbLY"
    },
    {
      "cell_type": "code",
      "execution_count": null,
      "metadata": {
        "id": "Bbb5jqR2gbLa"
      },
      "outputs": [],
      "source": [
        "import pandas as pd\n"
      ],
      "id": "Bbb5jqR2gbLa"
    },
    {
      "cell_type": "code",
      "execution_count": null,
      "metadata": {
        "id": "WRh_0NS7gbLc"
      },
      "outputs": [],
      "source": [
        "titanic['class'].value_counts()"
      ],
      "id": "WRh_0NS7gbLc"
    },
    {
      "cell_type": "markdown",
      "metadata": {
        "id": "EoYyBXcSgbLe"
      },
      "source": [
        "# 1. count plot"
      ],
      "id": "EoYyBXcSgbLe"
    },
    {
      "cell_type": "code",
      "execution_count": null,
      "metadata": {
        "id": "pe4zyU6QgbLf"
      },
      "outputs": [],
      "source": [
        "#Create a count plot of the \"class\" column\n",
        "\n",
        "ax = sns.countplot(titanic['class'])\n",
        "plt.show()"
      ],
      "id": "pe4zyU6QgbLf"
    },
    {
      "cell_type": "code",
      "execution_count": null,
      "metadata": {
        "id": "FME6j8ZlgbLi"
      },
      "outputs": [],
      "source": [
        "#Create a count plot of the \"class\" column, grouped by \"who\"\n",
        "\n",
        "#ax = sns.countplot(x=\"class\",hue=\"who\", data = titanic)\n",
        "\n",
        "ax = sns.countplot(x=titanic[\"class\"],hue=titanic[\"who\"])\n",
        "\n",
        "plt.show()"
      ],
      "id": "FME6j8ZlgbLi"
    },
    {
      "cell_type": "markdown",
      "metadata": {
        "id": "QWtVer32gbLk"
      },
      "source": [
        "# 2.Scatter plot"
      ],
      "id": "QWtVer32gbLk"
    },
    {
      "cell_type": "code",
      "execution_count": null,
      "metadata": {
        "id": "8KBsjMbvgbLm"
      },
      "outputs": [],
      "source": [
        "a = [1,2,3,4,5]\n",
        "b = [3,5,4,6,8]\n",
        "\n",
        "sns.scatterplot(a,b)\n",
        "\n",
        "#add labels\n",
        "plt.xlabel('X-axis')\n",
        "plt.ylabel('Y-axis')\n",
        "plt.title('Scatter Plot Example')\n",
        "\n",
        "# Display the plot\n",
        "plt.show()"
      ],
      "id": "8KBsjMbvgbLm"
    },
    {
      "cell_type": "markdown",
      "metadata": {
        "id": "BIo-889TgbLn"
      },
      "source": [
        "# 3.line plot"
      ],
      "id": "BIo-889TgbLn"
    },
    {
      "cell_type": "code",
      "execution_count": null,
      "metadata": {
        "id": "7FC3rCfhgbLp"
      },
      "outputs": [],
      "source": [
        "a = [1,2,3,4,5]\n",
        "b = [3,5,4,6,8]\n",
        "\n",
        "# Create a line plot using Seaborn\n",
        "sns.lineplot(x=a, y=b, color = \"y\")\n",
        "\n",
        "# Add labels and title\n",
        "plt.xlabel('X-axis')\n",
        "plt.ylabel('Y-axis')\n",
        "plt.title('Line Plot Example')\n",
        "\n",
        "# Display the plot\n",
        "plt.show()"
      ],
      "id": "7FC3rCfhgbLp"
    },
    {
      "cell_type": "markdown",
      "metadata": {
        "id": "wHbcqZkZgbLr"
      },
      "source": [
        "# 4.Bar Plot"
      ],
      "id": "wHbcqZkZgbLr"
    },
    {
      "cell_type": "raw",
      "metadata": {
        "id": "7h6kjtLbgbLs"
      },
      "source": [
        "A bar plot is used to represent categorical data with rectangular bars."
      ],
      "id": "7h6kjtLbgbLs"
    },
    {
      "cell_type": "code",
      "execution_count": null,
      "metadata": {
        "id": "UP_Qi6TEgbLt"
      },
      "outputs": [],
      "source": [
        "\n",
        "# Create a bar plot using Seaborn\n",
        "sns.barplot(x=titanic[\"class\"],y=titanic[\"survived\"])\n",
        "\n",
        "# Add labels and title\n",
        "plt.xlabel('X-axis')\n",
        "plt.ylabel('Y-axis')\n",
        "plt.title('Bar Plot Example')\n",
        "#plt.grid(axis=\"y\") # both\n",
        "\n",
        "# Display the plot\n",
        "plt.show()"
      ],
      "id": "UP_Qi6TEgbLt"
    },
    {
      "cell_type": "markdown",
      "metadata": {
        "id": "mPMYJfA0gbLw"
      },
      "source": [
        "# 5.Histogram"
      ],
      "id": "mPMYJfA0gbLw"
    },
    {
      "cell_type": "code",
      "execution_count": null,
      "metadata": {
        "id": "B_wGRbeMgbLx"
      },
      "outputs": [],
      "source": [
        "# Create a histogram using Seaborn\n",
        "#sns.histplot(x=data,bins=8)\n",
        "\n",
        "sns.histplot(x=titanic[\"age\"],bins=8,color=\"r\")\n",
        "\n",
        "# Add labels and title\n",
        "plt.xlabel('age')\n",
        "plt.ylabel('traveled')\n",
        "plt.title('Histogram Example')\n",
        "\n",
        "# Display the plot\n",
        "plt.show()"
      ],
      "id": "B_wGRbeMgbLx"
    },
    {
      "cell_type": "code",
      "execution_count": null,
      "metadata": {
        "id": "8z_ZsNJBgbLy"
      },
      "outputs": [],
      "source": [],
      "id": "8z_ZsNJBgbLy"
    },
    {
      "cell_type": "markdown",
      "metadata": {
        "id": "HJSbgXf6gbLz"
      },
      "source": [
        "####"
      ],
      "id": "HJSbgXf6gbLz"
    },
    {
      "cell_type": "code",
      "execution_count": null,
      "metadata": {
        "id": "sqZtCtRpgbL0"
      },
      "outputs": [],
      "source": [],
      "id": "sqZtCtRpgbL0"
    }
  ],
  "metadata": {
    "kernelspec": {
      "display_name": "Python 3",
      "language": "python",
      "name": "python3"
    },
    "language_info": {
      "codemirror_mode": {
        "name": "ipython",
        "version": 3
      },
      "file_extension": ".py",
      "mimetype": "text/x-python",
      "name": "python",
      "nbconvert_exporter": "python",
      "pygments_lexer": "ipython3",
      "version": "3.8.5"
    },
    "colab": {
      "provenance": [],
      "include_colab_link": true
    }
  },
  "nbformat": 4,
  "nbformat_minor": 5
}