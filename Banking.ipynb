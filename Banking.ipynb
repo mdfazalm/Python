{
  "cells": [
    {
      "cell_type": "markdown",
      "metadata": {
        "id": "view-in-github",
        "colab_type": "text"
      },
      "source": [
        "<a href=\"https://colab.research.google.com/github/mdfazalm/Python/blob/main/Banking.ipynb\" target=\"_parent\"><img src=\"https://colab.research.google.com/assets/colab-badge.svg\" alt=\"Open In Colab\"/></a>"
      ]
    },
    {
      "cell_type": "code",
      "execution_count": null,
      "id": "b69cfd32-1f0a-4c95-b3db-423c7f3f15d2",
      "metadata": {
        "id": "b69cfd32-1f0a-4c95-b3db-423c7f3f15d2"
      },
      "outputs": [],
      "source": [
        "import pandas as pd"
      ]
    },
    {
      "cell_type": "code",
      "execution_count": null,
      "id": "68eb80ef-4eff-45c7-96d5-a1d2a69c2199",
      "metadata": {
        "id": "68eb80ef-4eff-45c7-96d5-a1d2a69c2199"
      },
      "outputs": [],
      "source": [
        "ln=pd.read_csv(r\"C:\\Users\\Administrator\\Desktop\\Python\\loan.csv\")"
      ]
    },
    {
      "cell_type": "code",
      "execution_count": null,
      "id": "667b58f7-8927-47fa-a2fb-4f8c26d5045d",
      "metadata": {
        "id": "667b58f7-8927-47fa-a2fb-4f8c26d5045d"
      },
      "outputs": [],
      "source": [
        "ln.dtypes"
      ]
    },
    {
      "cell_type": "code",
      "execution_count": null,
      "id": "a8666cba-6ffa-4a69-8495-5354ba80e665",
      "metadata": {
        "id": "a8666cba-6ffa-4a69-8495-5354ba80e665"
      },
      "outputs": [],
      "source": [
        "cc=pd.read_csv(r\"C:\\Users\\Administrator\\Desktop\\Python\\credit card.csv\")"
      ]
    },
    {
      "cell_type": "code",
      "execution_count": null,
      "id": "46c562c0-c632-434b-9db1-420d9c1839ac",
      "metadata": {
        "id": "46c562c0-c632-434b-9db1-420d9c1839ac"
      },
      "outputs": [],
      "source": [
        "txn=pd.read_csv(r\"C:\\Users\\Administrator\\Desktop\\Python\\txn.csv\")"
      ]
    },
    {
      "cell_type": "code",
      "execution_count": null,
      "id": "1ac654fc-221e-4f98-bcc8-fcfa93550e59",
      "metadata": {
        "id": "1ac654fc-221e-4f98-bcc8-fcfa93550e59"
      },
      "outputs": [],
      "source": [
        "ln"
      ]
    },
    {
      "cell_type": "code",
      "execution_count": null,
      "id": "01775519-1668-470a-8224-d0a26c3a2caa",
      "metadata": {
        "id": "01775519-1668-470a-8224-d0a26c3a2caa"
      },
      "outputs": [],
      "source": [
        "ln[\"Loan Category\"].value_counts()"
      ]
    },
    {
      "cell_type": "code",
      "execution_count": null,
      "id": "c7cc96de-f230-44fb-9ed8-eef800ebae50",
      "metadata": {
        "id": "c7cc96de-f230-44fb-9ed8-eef800ebae50"
      },
      "outputs": [],
      "source": [
        "ln[\"Loan Amount\"]=ln[\"Loan Amount\"].str.replace(\",\",\"\")"
      ]
    },
    {
      "cell_type": "code",
      "execution_count": null,
      "id": "3fcb8efd-3e7c-4016-a00b-642eacb86830",
      "metadata": {
        "id": "3fcb8efd-3e7c-4016-a00b-642eacb86830"
      },
      "outputs": [],
      "source": [
        "ln[\"Loan Amount\"]=ln[\"Loan Amount\"].astype(int)"
      ]
    },
    {
      "cell_type": "code",
      "execution_count": null,
      "id": "7367a8be-c9a7-4639-ad75-7141f277e613",
      "metadata": {
        "id": "7367a8be-c9a7-4639-ad75-7141f277e613"
      },
      "outputs": [],
      "source": [
        "x=ln[ln[\"Loan Amount\"]>=100000][\"Loan Amount\"].count()\n"
      ]
    },
    {
      "cell_type": "code",
      "execution_count": null,
      "id": "bf3bc89b-9a3b-4141-93e8-96d618e4d415",
      "metadata": {
        "id": "bf3bc89b-9a3b-4141-93e8-96d618e4d415"
      },
      "outputs": [],
      "source": [
        "x"
      ]
    },
    {
      "cell_type": "code",
      "execution_count": null,
      "id": "6ba63e83-88c5-450b-a48b-92ecab98fd31",
      "metadata": {
        "id": "6ba63e83-88c5-450b-a48b-92ecab98fd31"
      },
      "outputs": [],
      "source": [
        "y=ln[ln[\"Income\"]>=60000][\"Income\"].count()\n",
        "y"
      ]
    },
    {
      "cell_type": "code",
      "execution_count": null,
      "id": "11cf919d-b1cf-4285-91aa-15e34187be57",
      "metadata": {
        "id": "11cf919d-b1cf-4285-91aa-15e34187be57"
      },
      "outputs": [],
      "source": [
        "A=len(ln[(ln[\"Income\"]<50000) & (ln[\" Returned Cheque\"]>=2)])"
      ]
    },
    {
      "cell_type": "code",
      "execution_count": null,
      "id": "a2c85076-1b5f-4bf3-b6e8-8bc634dd9e12",
      "metadata": {
        "id": "a2c85076-1b5f-4bf3-b6e8-8bc634dd9e12"
      },
      "outputs": [],
      "source": [
        "ln.dtypes"
      ]
    },
    {
      "cell_type": "code",
      "execution_count": null,
      "id": "24bdfe73-2d49-4575-a7f3-62ec15c659b4",
      "metadata": {
        "id": "24bdfe73-2d49-4575-a7f3-62ec15c659b4"
      },
      "outputs": [],
      "source": [
        "A"
      ]
    },
    {
      "cell_type": "code",
      "execution_count": null,
      "id": "ec05a946-306a-4222-8bc1-28bf0d921e26",
      "metadata": {
        "id": "ec05a946-306a-4222-8bc1-28bf0d921e26"
      },
      "outputs": [],
      "source": [
        "B=len(ln[(ln[\"Marital Status\"]==\"SINGLE\") & (ln[\" Returned Cheque\"]>=2)])\n",
        "B"
      ]
    },
    {
      "cell_type": "code",
      "execution_count": null,
      "id": "1d408328-8b90-47f9-b689-b17b19805f0f",
      "metadata": {
        "id": "1d408328-8b90-47f9-b689-b17b19805f0f"
      },
      "outputs": [],
      "source": [
        "B=len(ln[(ln[\"Expenditure\"]>50000)])\n",
        "B"
      ]
    },
    {
      "cell_type": "code",
      "execution_count": null,
      "id": "e684d8f3-7ca3-4015-8988-dfbf145ca34e",
      "metadata": {
        "id": "e684d8f3-7ca3-4015-8988-dfbf145ca34e"
      },
      "outputs": [],
      "source": [
        "cc"
      ]
    },
    {
      "cell_type": "code",
      "execution_count": null,
      "id": "1d661b2e-c0e1-4e35-9fa9-23090b72a6a5",
      "metadata": {
        "id": "1d661b2e-c0e1-4e35-9fa9-23090b72a6a5"
      },
      "outputs": [],
      "source": [
        "C=len(cc[(cc[\"Age\"]>=18)&(cc[\"CreditScore\"]>=650)])\n",
        "C"
      ]
    },
    {
      "cell_type": "code",
      "execution_count": null,
      "id": "6dabe7a9-88ff-43cf-a3cf-53164d3a9b0e",
      "metadata": {
        "id": "6dabe7a9-88ff-43cf-a3cf-53164d3a9b0e"
      },
      "outputs": [],
      "source": [
        "D=len(cc[(cc[\"Age\"]>=18)&(cc[\"CreditScore\"]>=650)&(cc[\"IsActiveMember\"]==1)])\n",
        "D"
      ]
    },
    {
      "cell_type": "code",
      "execution_count": null,
      "id": "88ba1736-78e1-418f-87e8-b78bb8e12e5e",
      "metadata": {
        "id": "88ba1736-78e1-418f-87e8-b78bb8e12e5e"
      },
      "outputs": [],
      "source": [
        "txn"
      ]
    },
    {
      "cell_type": "code",
      "execution_count": null,
      "id": "f1f0645f-ee56-4656-a059-4276d6b74071",
      "metadata": {
        "id": "f1f0645f-ee56-4656-a059-4276d6b74071"
      },
      "outputs": [],
      "source": [
        "txn.dtypes"
      ]
    },
    {
      "cell_type": "code",
      "execution_count": null,
      "id": "63667904-6dc3-4d30-9301-3e01ecb37715",
      "metadata": {
        "id": "63667904-6dc3-4d30-9301-3e01ecb37715"
      },
      "outputs": [],
      "source": [
        "v=txn[\" WITHDRAWAL AMT \"].max()\n",
        "v"
      ]
    },
    {
      "cell_type": "code",
      "execution_count": null,
      "id": "0dc018d4-0894-40e5-97e1-9cbd84bfda66",
      "metadata": {
        "id": "0dc018d4-0894-40e5-97e1-9cbd84bfda66"
      },
      "outputs": [],
      "source": [
        "t=txn[\" WITHDRAWAL AMT \"].min()"
      ]
    },
    {
      "cell_type": "code",
      "execution_count": null,
      "id": "2b64b43f-9e52-404c-aa49-e16f4fb1b62d",
      "metadata": {
        "id": "2b64b43f-9e52-404c-aa49-e16f4fb1b62d"
      },
      "outputs": [],
      "source": [
        "t"
      ]
    },
    {
      "cell_type": "code",
      "execution_count": null,
      "id": "2a04afb0-ec0b-4b64-bd27-5c25a3724dbf",
      "metadata": {
        "id": "2a04afb0-ec0b-4b64-bd27-5c25a3724dbf"
      },
      "outputs": [],
      "source": [
        "u=txn[\" DEPOSIT AMT \"].max()\n",
        "u"
      ]
    },
    {
      "cell_type": "code",
      "execution_count": null,
      "id": "285832c1-81c4-4ccc-a829-ccac6c8bf41c",
      "metadata": {
        "id": "285832c1-81c4-4ccc-a829-ccac6c8bf41c"
      },
      "outputs": [],
      "source": [
        "w=txn[\" DEPOSIT AMT \"].min()\n",
        "w"
      ]
    },
    {
      "cell_type": "code",
      "execution_count": null,
      "id": "d59481aa-135e-405b-89ff-b9ece95a0062",
      "metadata": {
        "id": "d59481aa-135e-405b-89ff-b9ece95a0062"
      },
      "outputs": [],
      "source": [
        "x=txn.groupby(\"Account No\")[\"BALANCE AMT\"].sum()\n",
        "x"
      ]
    },
    {
      "cell_type": "code",
      "execution_count": null,
      "id": "5ae005e2-f163-402a-86a3-d8bf894d3b5d",
      "metadata": {
        "id": "5ae005e2-f163-402a-86a3-d8bf894d3b5d"
      },
      "outputs": [],
      "source": [
        "txn"
      ]
    },
    {
      "cell_type": "code",
      "execution_count": null,
      "id": "ea48fc41-9476-4d26-8182-e6343db47f85",
      "metadata": {
        "id": "ea48fc41-9476-4d26-8182-e6343db47f85",
        "outputId": "7511490a-fef8-4526-9fb3-1fc8a65100bc"
      },
      "outputs": [
        {
          "name": "stderr",
          "output_type": "stream",
          "text": [
            "C:\\Users\\Administrator\\AppData\\Local\\Temp\\ipykernel_6112\\1631797328.py:1: UserWarning: Could not infer format, so each element will be parsed individually, falling back to `dateutil`. To ensure parsing is consistent and as-expected, please specify a format.\n",
            "  txn[\"VALUE DATE\"]=pd.to_datetime(txn[\"VALUE DATE\"])\n"
          ]
        }
      ],
      "source": [
        "txn[\"VALUE DATE\"]=pd.to_datetime(txn[\"VALUE DATE\"])"
      ]
    },
    {
      "cell_type": "code",
      "execution_count": null,
      "id": "8bb52b7f-af4d-4621-8fdc-b44f4a5a4241",
      "metadata": {
        "id": "8bb52b7f-af4d-4621-8fdc-b44f4a5a4241"
      },
      "outputs": [],
      "source": [
        "X=txn[\"VALUE DATE\"].value_counts()"
      ]
    },
    {
      "cell_type": "code",
      "execution_count": null,
      "id": "36689f5f-24e0-4ab8-8998-cdee68ef670c",
      "metadata": {
        "id": "36689f5f-24e0-4ab8-8998-cdee68ef670c"
      },
      "outputs": [],
      "source": [
        "X"
      ]
    },
    {
      "cell_type": "code",
      "execution_count": null,
      "id": "c854e9e4-0cd9-4b0f-a6f9-a388aef26e9b",
      "metadata": {
        "id": "c854e9e4-0cd9-4b0f-a6f9-a388aef26e9b"
      },
      "outputs": [],
      "source": []
    }
  ],
  "metadata": {
    "kernelspec": {
      "display_name": "Python 3 (ipykernel)",
      "language": "python",
      "name": "python3"
    },
    "language_info": {
      "codemirror_mode": {
        "name": "ipython",
        "version": 3
      },
      "file_extension": ".py",
      "mimetype": "text/x-python",
      "name": "python",
      "nbconvert_exporter": "python",
      "pygments_lexer": "ipython3",
      "version": "3.12.4"
    },
    "colab": {
      "provenance": [],
      "include_colab_link": true
    }
  },
  "nbformat": 4,
  "nbformat_minor": 5
}